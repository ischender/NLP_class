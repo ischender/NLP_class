{
 "cells": [
  {
   "cell_type": "code",
   "execution_count": 1,
   "metadata": {
    "collapsed": true
   },
   "outputs": [],
   "source": [
    "import textacy\n",
    "from textacy import doc"
   ]
  },
  {
   "cell_type": "code",
   "execution_count": 2,
   "metadata": {
    "collapsed": true
   },
   "outputs": [],
   "source": [
    "text = \"ere’s a quick way to beef up your PC gaming library while helping good causes and saving money. Humble Bundle, a site that lets people buy games while donating to charities, has a new, huge collection of PC games available to anyone who donates at least $30 dollars. It’s called the Humble Freedom Bundle, with 100 percent of money earned going to ACLU (American Civil Liberties Union), IRC (International Rescue Committee), and MSF (Doctors Without Borders). Humble Bundle had an original goal of earning $300,000 before the deal ended on February 20. It has already more than doubled that with $680,625 earned. The Humble Freedom Bundle currently offers 40 games, although more may become available (don’t worry, you’ll gain access to any added games even if you pay for the bundle before). It also includes some audio and digital books. As for the games, the list includes some of the best indie efforts on PC in recent years. This includes the farming game for Stardew Valley, the first-person puzzle game The Witness, and the play-as-an-octopus-pretending-to-be-a-normal-family-man simulator Octodad: Dadliest Catch. You can find the full list on the Humble Bundle site. So, good charities get money, and you get great games for cheap. This is a win-win.\""
   ]
  },
  {
   "cell_type": "code",
   "execution_count": 25,
   "metadata": {},
   "outputs": [
    {
     "name": "stdout",
     "output_type": "stream",
     "text": [
      "ere’s a quick way to beef up your PC gaming library while helping good causes and saving money. Humble Bundle, a site that lets people buy games while donating to charities, has a new, huge collection of PC games available to anyone who donates at least $30 dollars. It’s called the Humble Freedom Bundle, with 100 percent of money earned going to ACLU (American Civil Liberties Union), IRC (International Rescue Committee), and MSF (Doctors Without Borders). Humble Bundle had an original goal of earning $300,000 before the deal ended on February 20. It has already more than doubled that with $680,625 earned. The Humble Freedom Bundle currently offers 40 games, although more may become available (don’t worry, you’ll gain access to any added games even if you pay for the bundle before). It also includes some audio and digital books. As for the games, the list includes some of the best indie efforts on PC in recent years. This includes the farming game for Stardew Valley, the first-person puzzle game The Witness, and the play-as-an-octopus-pretending-to-be-a-normal-family-man simulator Octodad: Dadliest Catch. You can find the full list on the Humble Bundle site. So, good charities get money, and you get great games for cheap. This is a win-win.\n"
     ]
    }
   ],
   "source": [
    "print(text)"
   ]
  },
  {
   "cell_type": "code",
   "execution_count": 4,
   "metadata": {},
   "outputs": [],
   "source": [
    "doc_text = doc.Doc(text)"
   ]
  },
  {
   "cell_type": "code",
   "execution_count": 11,
   "metadata": {},
   "outputs": [
    {
     "data": {
      "text/plain": [
       "[(Humble Bundle, 'PERSON'),\n",
       " (at least $30 dollars, 'MONEY'),\n",
       " (Humble Freedom Bundle, ''),\n",
       " (100 percent, 'PERCENT'),\n",
       " (ACLU, 'ORG'),\n",
       " (American Civil Liberties Union, 'ORG'),\n",
       " (IRC (International Rescue Committee, 'ORG'),\n",
       " (MSF, 'PERSON'),\n",
       " (Humble Bundle, 'PERSON'),\n",
       " (300,000, 'MONEY'),\n",
       " (February 20, 'DATE'),\n",
       " (with $680,625, 'MONEY'),\n",
       " (Humble Freedom Bundle, ''),\n",
       " (40, 'CARDINAL'),\n",
       " (recent years, 'DATE'),\n",
       " (Stardew Valley, 'LOC'),\n",
       " (first, 'ORDINAL'),\n",
       " (Witness, ''),\n",
       " (Octodad, 'PERSON'),\n",
       " (Dadliest Catch, 'WORK_OF_ART'),\n",
       " (Humble Bundle, 'ORG')]"
      ]
     },
     "execution_count": 11,
     "metadata": {},
     "output_type": "execute_result"
    }
   ],
   "source": [
    "el = list(textacy.extract.named_entities(doc_text))[0]\n",
    "[(el, el.label_ )for el in textacy.extract.named_entities(doc_text)]"
   ]
  },
  {
   "cell_type": "code",
   "execution_count": 10,
   "metadata": {},
   "outputs": [
    {
     "data": {
      "text/plain": [
       "'PERSON'"
      ]
     },
     "execution_count": 10,
     "metadata": {},
     "output_type": "execute_result"
    }
   ],
   "source": [
    "el.label_"
   ]
  },
  {
   "cell_type": "code",
   "execution_count": 12,
   "metadata": {
    "collapsed": true
   },
   "outputs": [],
   "source": [
    "import spacy\n",
    "nlp = spacy.load('en')"
   ]
  },
  {
   "cell_type": "code",
   "execution_count": 13,
   "metadata": {
    "collapsed": true
   },
   "outputs": [],
   "source": [
    "s_doc = nlp(text)"
   ]
  },
  {
   "cell_type": "code",
   "execution_count": 17,
   "metadata": {},
   "outputs": [
    {
     "data": {
      "text/plain": [
       "[(Humble Bundle, 'PERSON', 0.0),\n",
       " (at least $30 dollars, 'MONEY', 0.0),\n",
       " (the Humble Freedom Bundle, 'LOC', 0.0),\n",
       " (100 percent, 'PERCENT', 0.0),\n",
       " (ACLU, 'ORG', 0.0),\n",
       " (American Civil Liberties Union, 'ORG', 0.0),\n",
       " (IRC (International Rescue Committee, 'ORG', 0.0),\n",
       " (MSF, 'PERSON', 0.0),\n",
       " (Humble Bundle, 'PERSON', 0.0),\n",
       " (300,000, 'MONEY', 0.0),\n",
       " (February 20, 'DATE', 0.0),\n",
       " (with $680,625, 'MONEY', 0.0),\n",
       " (The Humble Freedom Bundle, 'ORG', 0.0),\n",
       " (40, 'CARDINAL', 0.0),\n",
       " (recent years, 'DATE', 0.0),\n",
       " (Stardew Valley, 'LOC', 0.0),\n",
       " (first, 'ORDINAL', 0.0),\n",
       " (The Witness, 'WORK_OF_ART', 0.0),\n",
       " (Octodad, 'PERSON', 0.0),\n",
       " (Dadliest Catch, 'WORK_OF_ART', 0.0),\n",
       " (Humble Bundle, 'ORG', 0.0)]"
      ]
     },
     "execution_count": 17,
     "metadata": {},
     "output_type": "execute_result"
    }
   ],
   "source": [
    "[(el, el.label_ , el.sentiment)for el in s_doc.ents]"
   ]
  },
  {
   "cell_type": "code",
   "execution_count": 33,
   "metadata": {},
   "outputs": [
    {
     "name": "stderr",
     "output_type": "stream",
     "text": [
      "/Users/aliosha/Envs/nlp/lib/python3.6/site-packages/textacy/doc.py:666: DeprecationWarning: `lemmatize` and `lowercase` params are deprecated; use `normalize` instead\n",
      "  warnings.warn(msg, DeprecationWarning)\n"
     ]
    },
    {
     "data": {
      "text/plain": [
       "{'$': 3,\n",
       " '$ 30': 1,\n",
       " '$ 30 dollar': 1,\n",
       " '$ 300,000': 1,\n",
       " '$ 680,625': 1,\n",
       " '$ 680,625 earn': 1,\n",
       " '100': 1,\n",
       " '100 percent': 1,\n",
       " '20': 1,\n",
       " '30': 1,\n",
       " '30 dollar': 1,\n",
       " '300,000': 1,\n",
       " '40': 1,\n",
       " '40 game': 1,\n",
       " '680,625': 1,\n",
       " '680,625 earn': 1,\n",
       " 'access': 1,\n",
       " 'aclu': 1,\n",
       " 'add': 1,\n",
       " 'add game': 1,\n",
       " 'american': 1,\n",
       " 'american civil': 1,\n",
       " 'american civil liberties': 1,\n",
       " 'american civil liberties union': 1,\n",
       " 'at least $ 30 dollar': 1,\n",
       " 'audio': 1,\n",
       " 'audio and digital': 1,\n",
       " 'available': 2,\n",
       " 'beef': 1,\n",
       " 'book': 1,\n",
       " 'borders': 1,\n",
       " 'bundle': 6,\n",
       " 'bundle currently': 1,\n",
       " 'bundle currently offer': 1,\n",
       " 'bundle site': 1,\n",
       " 'buy': 1,\n",
       " 'buy game': 1,\n",
       " 'call': 1,\n",
       " 'call the humble': 1,\n",
       " 'catch': 1,\n",
       " 'cause': 1,\n",
       " 'cause and save': 1,\n",
       " 'charity': 2,\n",
       " 'charity get money': 1,\n",
       " 'cheap': 1,\n",
       " 'civil': 1,\n",
       " 'civil liberties': 1,\n",
       " 'civil liberties union': 1,\n",
       " 'collection': 1,\n",
       " 'collection of pc': 1,\n",
       " 'committee': 1,\n",
       " 'currently': 1,\n",
       " 'currently offer': 1,\n",
       " 'currently offer 40': 1,\n",
       " 'dadliest': 1,\n",
       " 'dadliest catch': 1,\n",
       " 'deal': 1,\n",
       " 'deal end': 1,\n",
       " 'digital': 1,\n",
       " 'digital book': 1,\n",
       " 'doctor': 1,\n",
       " 'doctor without borders': 1,\n",
       " 'dollar': 1,\n",
       " 'donate': 2,\n",
       " 'donate to charity': 1,\n",
       " 'double': 1,\n",
       " 'earn': 3,\n",
       " 'earn $': 1,\n",
       " 'earn $ 300,000': 1,\n",
       " 'earn go': 1,\n",
       " 'effort': 1,\n",
       " 'effort on pc': 1,\n",
       " 'end': 1,\n",
       " 'end on february': 1,\n",
       " 'ere': 1,\n",
       " 'ere ’': 1,\n",
       " 'family': 1,\n",
       " 'farming': 1,\n",
       " 'farming game': 1,\n",
       " 'february': 1,\n",
       " 'february 20': 1,\n",
       " 'find': 1,\n",
       " 'first': 1,\n",
       " 'freedom': 2,\n",
       " 'freedom bundle': 2,\n",
       " 'freedom bundle currently': 1,\n",
       " 'gain': 1,\n",
       " 'gain access': 1,\n",
       " 'game': 8,\n",
       " 'game available': 1,\n",
       " 'game for cheap': 1,\n",
       " 'game for stardew': 1,\n",
       " 'game the witness': 1,\n",
       " 'game while donate': 1,\n",
       " 'gaming': 1,\n",
       " 'gaming library': 1,\n",
       " 'go': 1,\n",
       " 'go to aclu': 1,\n",
       " 'goal': 1,\n",
       " 'goal of earn': 1,\n",
       " 'good': 3,\n",
       " 'good cause': 1,\n",
       " 'good charity': 1,\n",
       " 'good indie': 1,\n",
       " 'good indie effort': 1,\n",
       " 'great': 1,\n",
       " 'great game': 1,\n",
       " 'help': 1,\n",
       " 'help good': 1,\n",
       " 'help good cause': 1,\n",
       " 'huge': 1,\n",
       " 'huge collection': 1,\n",
       " 'humble': 5,\n",
       " 'humble bundle': 3,\n",
       " 'humble bundle site': 1,\n",
       " 'humble freedom': 2,\n",
       " 'humble freedom bundle': 2,\n",
       " 'include': 3,\n",
       " 'include some audio': 1,\n",
       " 'include the farming': 1,\n",
       " 'indie': 1,\n",
       " 'indie effort': 1,\n",
       " 'international': 1,\n",
       " 'international rescue': 1,\n",
       " 'international rescue committee': 1,\n",
       " 'irc': 1,\n",
       " 'irc ( international rescue committee': 1,\n",
       " 'let': 1,\n",
       " 'let people': 1,\n",
       " 'let people buy': 1,\n",
       " 'liberties': 1,\n",
       " 'liberties union': 1,\n",
       " 'library': 1,\n",
       " 'library while help': 1,\n",
       " 'list': 2,\n",
       " 'list include': 1,\n",
       " 'man': 1,\n",
       " 'man simulator': 1,\n",
       " 'man simulator octodad': 1,\n",
       " 'money': 3,\n",
       " 'money earn': 1,\n",
       " 'money earn go': 1,\n",
       " 'msf': 1,\n",
       " 'new': 1,\n",
       " 'normal': 1,\n",
       " 'not': 1,\n",
       " 'not worry': 1,\n",
       " 'octodad': 1,\n",
       " 'octopus': 1,\n",
       " 'offer': 1,\n",
       " 'offer 40': 1,\n",
       " 'offer 40 game': 1,\n",
       " 'original': 1,\n",
       " 'original goal': 1,\n",
       " 'pay': 1,\n",
       " 'pc': 3,\n",
       " 'pc game': 1,\n",
       " 'pc game available': 1,\n",
       " 'pc gaming': 1,\n",
       " 'pc gaming library': 1,\n",
       " 'pc in recent': 1,\n",
       " 'people': 1,\n",
       " 'people buy': 1,\n",
       " 'people buy game': 1,\n",
       " 'percent': 1,\n",
       " 'percent of money': 1,\n",
       " 'person': 1,\n",
       " 'person puzzle': 1,\n",
       " 'person puzzle game': 1,\n",
       " 'play': 1,\n",
       " 'pretend': 1,\n",
       " 'puzzle': 1,\n",
       " 'puzzle game': 1,\n",
       " 'quick': 1,\n",
       " 'quick way': 1,\n",
       " 'recent': 1,\n",
       " 'recent year': 1,\n",
       " 'rescue': 1,\n",
       " 'rescue committee': 1,\n",
       " 'save': 1,\n",
       " 'save money': 1,\n",
       " 'simulator': 1,\n",
       " 'simulator octodad': 1,\n",
       " 'site': 2,\n",
       " 'site that let': 1,\n",
       " 'stardew': 1,\n",
       " 'stardew valley': 1,\n",
       " 'union': 1,\n",
       " 'valley': 1,\n",
       " 'way': 1,\n",
       " 'way to beef': 1,\n",
       " 'will': 1,\n",
       " 'will gain': 1,\n",
       " 'will gain access': 1,\n",
       " 'win': 2,\n",
       " 'with $ 680,625': 1,\n",
       " 'witness': 1,\n",
       " 'worry': 1,\n",
       " 'year': 1,\n",
       " '’': 1,\n",
       " '’ a quick': 1,\n",
       " '’s': 1,\n",
       " '’s call': 1}"
      ]
     },
     "execution_count": 33,
     "metadata": {},
     "output_type": "execute_result"
    }
   ],
   "source": [
    "doc_text.to_bag_of_terms(lemmatize=True, as_strings=True)"
   ]
  },
  {
   "cell_type": "code",
   "execution_count": null,
   "metadata": {
    "collapsed": true
   },
   "outputs": [],
   "source": []
  },
  {
   "cell_type": "code",
   "execution_count": 21,
   "metadata": {
    "collapsed": true
   },
   "outputs": [],
   "source": [
    "import textblob"
   ]
  },
  {
   "cell_type": "code",
   "execution_count": 23,
   "metadata": {},
   "outputs": [],
   "source": [
    "t_doc = textblob.TextBlob(text)"
   ]
  },
  {
   "cell_type": "code",
   "execution_count": 24,
   "metadata": {},
   "outputs": [
    {
     "data": {
      "text/plain": [
       "Sentiment(polarity=0.17838203463203464, subjectivity=0.40551948051948056)"
      ]
     },
     "execution_count": 24,
     "metadata": {},
     "output_type": "execute_result"
    }
   ],
   "source": [
    "t_doc.sentiment"
   ]
  },
  {
   "cell_type": "code",
   "execution_count": 34,
   "metadata": {},
   "outputs": [
    {
     "data": {
      "text/plain": [
       "defaultdict(int,\n",
       "            {'100': 1,\n",
       "             '20': 1,\n",
       "             '30': 1,\n",
       "             '300,000': 1,\n",
       "             '40': 1,\n",
       "             '680,625': 1,\n",
       "             'a': 4,\n",
       "             'access': 1,\n",
       "             'aclu': 1,\n",
       "             'added': 1,\n",
       "             'already': 1,\n",
       "             'also': 1,\n",
       "             'although': 1,\n",
       "             'american': 1,\n",
       "             'an': 1,\n",
       "             'and': 5,\n",
       "             'any': 1,\n",
       "             'anyone': 1,\n",
       "             'as': 1,\n",
       "             'at': 1,\n",
       "             'audio': 1,\n",
       "             'available': 2,\n",
       "             'become': 1,\n",
       "             'beef': 1,\n",
       "             'before': 2,\n",
       "             'best': 1,\n",
       "             'books': 1,\n",
       "             'borders': 1,\n",
       "             'bundle': 6,\n",
       "             'buy': 1,\n",
       "             'called': 1,\n",
       "             'can': 1,\n",
       "             'catch': 1,\n",
       "             'causes': 1,\n",
       "             'charities': 2,\n",
       "             'cheap': 1,\n",
       "             'civil': 1,\n",
       "             'collection': 1,\n",
       "             'committee': 1,\n",
       "             'currently': 1,\n",
       "             'dadliest': 1,\n",
       "             'deal': 1,\n",
       "             'digital': 1,\n",
       "             'doctors': 1,\n",
       "             'dollars': 1,\n",
       "             'don': 1,\n",
       "             'donates': 1,\n",
       "             'donating': 1,\n",
       "             'doubled': 1,\n",
       "             'earned': 2,\n",
       "             'earning': 1,\n",
       "             'efforts': 1,\n",
       "             'ended': 1,\n",
       "             'ere': 1,\n",
       "             'even': 1,\n",
       "             'farming': 1,\n",
       "             'february': 1,\n",
       "             'find': 1,\n",
       "             'first-person': 1,\n",
       "             'for': 4,\n",
       "             'freedom': 2,\n",
       "             'full': 1,\n",
       "             'gain': 1,\n",
       "             'game': 2,\n",
       "             'games': 6,\n",
       "             'gaming': 1,\n",
       "             'get': 2,\n",
       "             'goal': 1,\n",
       "             'going': 1,\n",
       "             'good': 2,\n",
       "             'great': 1,\n",
       "             'had': 1,\n",
       "             'has': 2,\n",
       "             'helping': 1,\n",
       "             'huge': 1,\n",
       "             'humble': 5,\n",
       "             'if': 1,\n",
       "             'in': 1,\n",
       "             'includes': 3,\n",
       "             'indie': 1,\n",
       "             'international': 1,\n",
       "             'irc': 1,\n",
       "             'is': 1,\n",
       "             'it': 3,\n",
       "             'least': 1,\n",
       "             'lets': 1,\n",
       "             'liberties': 1,\n",
       "             'library': 1,\n",
       "             'list': 2,\n",
       "             'll': 1,\n",
       "             'may': 1,\n",
       "             'money': 3,\n",
       "             'more': 2,\n",
       "             'msf': 1,\n",
       "             'new': 1,\n",
       "             'octodad': 1,\n",
       "             'of': 4,\n",
       "             'offers': 1,\n",
       "             'on': 3,\n",
       "             'original': 1,\n",
       "             'pay': 1,\n",
       "             'pc': 3,\n",
       "             'people': 1,\n",
       "             'percent': 1,\n",
       "             'play-as-an-octopus-pretending-to-be-a-normal-family-man': 1,\n",
       "             'puzzle': 1,\n",
       "             'quick': 1,\n",
       "             'recent': 1,\n",
       "             'rescue': 1,\n",
       "             's': 2,\n",
       "             'saving': 1,\n",
       "             'simulator': 1,\n",
       "             'site': 2,\n",
       "             'so': 1,\n",
       "             'some': 2,\n",
       "             'stardew': 1,\n",
       "             't': 1,\n",
       "             'than': 1,\n",
       "             'that': 2,\n",
       "             'the': 13,\n",
       "             'this': 2,\n",
       "             'to': 5,\n",
       "             'union': 1,\n",
       "             'up': 1,\n",
       "             'valley': 1,\n",
       "             'way': 1,\n",
       "             'while': 2,\n",
       "             'who': 1,\n",
       "             'win-win': 1,\n",
       "             'with': 2,\n",
       "             'without': 1,\n",
       "             'witness': 1,\n",
       "             'worry': 1,\n",
       "             'years': 1,\n",
       "             'you': 4,\n",
       "             'your': 1,\n",
       "             '’': 4})"
      ]
     },
     "execution_count": 34,
     "metadata": {},
     "output_type": "execute_result"
    }
   ],
   "source": [
    "t_doc.word_counts"
   ]
  }
 ],
 "metadata": {
  "kernelspec": {
   "display_name": "Python 3",
   "language": "python",
   "name": "python3"
  },
  "language_info": {
   "codemirror_mode": {
    "name": "ipython",
    "version": 3
   },
   "file_extension": ".py",
   "mimetype": "text/x-python",
   "name": "python",
   "nbconvert_exporter": "python",
   "pygments_lexer": "ipython3",
   "version": "3.6.1"
  }
 },
 "nbformat": 4,
 "nbformat_minor": 2
}
