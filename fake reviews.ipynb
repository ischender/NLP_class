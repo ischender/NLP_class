{
 "cells": [
  {
   "cell_type": "code",
   "execution_count": 1,
   "metadata": {},
   "outputs": [],
   "source": [
    "import textacy\n",
    "import spacy\n",
    "nlp = spacy.load('en')"
   ]
  },
  {
   "cell_type": "code",
   "execution_count": 2,
   "metadata": {},
   "outputs": [],
   "source": [
    "# from sklearn.cross_validation import train_test_split\n",
    "from sklearn.model_selection import train_test_split\n",
    "from collections import Counter\n",
    "from nltk.stem import PorterStemmer\n",
    "from nltk import word_tokenize\n",
    "import os\n",
    "import random\n",
    "import codecs\n",
    "\n",
    "random.seed(42)\n",
    "\n",
    "stemmer = PorterStemmer()\n",
    "\n",
    "import numpy as np\n",
    "\n",
    "np.random.seed(42)\n",
    "\n",
    "def train(classifier, X, y):\n",
    "    X_train, X_test, y_train, y_test = train_test_split(X, y, test_size=0.25, random_state=33)\n",
    "\n",
    "    classifier.fit(X_train, y_train)\n",
    "    print(\"Accuracy: %s\" % classifier.score(X_test, y_test))\n",
    "    return classifier"
   ]
  },
  {
   "cell_type": "markdown",
   "metadata": {},
   "source": [
    "### Download dataset from\n",
    "http://myleott.com/op-spam.html\n",
    "\n",
    "and uncompress it in some folder"
   ]
  },
  {
   "cell_type": "code",
   "execution_count": 3,
   "metadata": {},
   "outputs": [],
   "source": [
    "base_path = \"/Users/aliosha/Downloads/op_spam_v1.4\""
   ]
  },
  {
   "cell_type": "code",
   "execution_count": 4,
   "metadata": {},
   "outputs": [],
   "source": [
    "def read_review(filename):\n",
    "    with open(filename, \"rb\") as fp:\n",
    "        return fp.read()"
   ]
  },
  {
   "cell_type": "code",
   "execution_count": 5,
   "metadata": {},
   "outputs": [
    {
     "name": "stdout",
     "output_type": "stream",
     "text": [
      "800 fake reviews, 800 real reviews\n"
     ]
    }
   ],
   "source": [
    "real_reviews = []\n",
    "fake_reviews = []\n",
    "\n",
    "for dir_name, subdir_list, file_list in os.walk(base_path):\n",
    "    if \"deceptive\" in dir_name:\n",
    "        for fname in file_list:\n",
    "            if \".txt\" in fname:\n",
    "                fake_reviews.append(read_review(os.path.join(dir_name,fname)))\n",
    "    if \"truthful\" in dir_name:\n",
    "        for fname in file_list:\n",
    "            if \".txt\" in fname:\n",
    "                real_reviews.append(read_review(os.path.join(dir_name,fname)))\n",
    "          \n",
    "print(f\"{len(fake_reviews)} fake reviews, {len(real_reviews)} real reviews\")"
   ]
  },
  {
   "cell_type": "code",
   "execution_count": 7,
   "metadata": {},
   "outputs": [
    {
     "data": {
      "text/plain": [
       "[856, 549, 970, 111, 736, 517, 586, 1326, 808, 491]"
      ]
     },
     "execution_count": 7,
     "metadata": {},
     "output_type": "execute_result"
    }
   ],
   "source": [
    "indexes = list(range(len(fake_reviews)+len(real_reviews)))\n",
    "random.shuffle(indexes)\n",
    "indexes[:10]"
   ]
  },
  {
   "cell_type": "code",
   "execution_count": 8,
   "metadata": {},
   "outputs": [
    {
     "data": {
      "text/plain": [
       "b'My $200 Gucci sunglasses were stolen out of my bag on the 16th. I filed a report with the hotel security and am anxious to hear back from them. This was such a disappointment, as we liked the hotel and were having a great time in Chicago. Our room was really nice, with 2 bathrooms. We had 2 double beds and a comfortable hideaway bed. We had a great view of the lake and park. The hotel charged us $25 to check in early (10am).\\n'"
      ]
     },
     "execution_count": 8,
     "metadata": {},
     "output_type": "execute_result"
    }
   ],
   "source": [
    "real_reviews[0]"
   ]
  },
  {
   "cell_type": "code",
   "execution_count": 9,
   "metadata": {},
   "outputs": [],
   "source": [
    "data = []\n",
    "target = []\n",
    "all_reviews = fake_reviews + real_reviews\n",
    "for i in indexes:\n",
    "    data.append(all_reviews[i])\n",
    "    if i <= len(fake_reviews):\n",
    "        target.append(0)\n",
    "    else:\n",
    "        target.append(1)\n",
    "    "
   ]
  },
  {
   "cell_type": "code",
   "execution_count": 15,
   "metadata": {},
   "outputs": [
    {
     "data": {
      "text/plain": [
       "[1, 0, 1, 0, 0, 0, 0, 1, 1, 0]"
      ]
     },
     "execution_count": 15,
     "metadata": {},
     "output_type": "execute_result"
    }
   ],
   "source": [
    "target[:10]"
   ]
  },
  {
   "cell_type": "code",
   "execution_count": 26,
   "metadata": {},
   "outputs": [
    {
     "name": "stdout",
     "output_type": "stream",
     "text": [
      "Accuracy: 0.8675\n",
      "CPU times: user 321 ms, sys: 10.5 ms, total: 331 ms\n",
      "Wall time: 353 ms\n"
     ]
    }
   ],
   "source": [
    "%%time\n",
    "\n",
    "from sklearn.naive_bayes import BernoulliNB, MultinomialNB\n",
    "from sklearn.pipeline import Pipeline\n",
    "from sklearn.feature_extraction.text import TfidfVectorizer\n",
    " \n",
    "trial1 = Pipeline([\n",
    "    ('vectorizer', TfidfVectorizer()),\n",
    "    ('classifier', BernoulliNB()),\n",
    "])\n",
    " \n",
    "train(trial1, data, target)\n",
    "# Accuracy: 0.8463497453310697\n"
   ]
  },
  {
   "cell_type": "code",
   "execution_count": 20,
   "metadata": {},
   "outputs": [
    {
     "name": "stdout",
     "output_type": "stream",
     "text": [
      "Accuracy: 0.86\n",
      "CPU times: user 1.51 s, sys: 19 ms, total: 1.53 s\n",
      "Wall time: 1.56 s\n"
     ]
    }
   ],
   "source": [
    "%%time\n",
    "\n",
    "from sklearn.svm import SVC\n",
    "\n",
    "C = 1.0  # SVM regularization parameter\n",
    "\n",
    "trial_svc = Pipeline([\n",
    "    ('vectorizer', TfidfVectorizer()),\n",
    "    ('classifier', SVC(kernel='linear', C=C)),\n",
    "])\n",
    " \n",
    "train(trial_svc, data, target)\n",
    "# Accuracy: 0.8463497453310697\n"
   ]
  },
  {
   "cell_type": "code",
   "execution_count": 28,
   "metadata": {},
   "outputs": [
    {
     "name": "stdout",
     "output_type": "stream",
     "text": [
      "Accuracy: 0.88\n"
     ]
    },
    {
     "data": {
      "text/plain": [
       "Pipeline(memory=None,\n",
       "     steps=[('vectorizer', TfidfVectorizer(analyzer='word', binary=False, decode_error='strict',\n",
       "        dtype=<class 'numpy.int64'>, encoding='utf-8', input='content',\n",
       "        lowercase=True, max_df=1.0, max_features=None, min_df=1,\n",
       "        ngram_range=(1, 1), norm='l2', preprocessor=None, smooth_idf=Tr...      vocabulary=None)), ('classifier', MultinomialNB(alpha=1.0, class_prior=None, fit_prior=True))])"
      ]
     },
     "execution_count": 28,
     "metadata": {},
     "output_type": "execute_result"
    }
   ],
   "source": [
    "from nltk.corpus import stopwords\n",
    "\n",
    "\n",
    "trial2 = Pipeline([\n",
    "    ('vectorizer', TfidfVectorizer(stop_words=stopwords.words('english'))),\n",
    "    ('classifier', MultinomialNB()),\n",
    "])\n",
    " \n",
    "train(trial2, data, target)\n",
    "# Accuracy: 0.88\n"
   ]
  },
  {
   "cell_type": "code",
   "execution_count": 25,
   "metadata": {},
   "outputs": [
    {
     "name": "stdout",
     "output_type": "stream",
     "text": [
      "Accuracy: 0.865\n"
     ]
    },
    {
     "data": {
      "text/plain": [
       "Pipeline(memory=None,\n",
       "     steps=[('vectorizer', TfidfVectorizer(analyzer='word', binary=False, decode_error='strict',\n",
       "        dtype=<class 'numpy.int64'>, encoding='utf-8', input='content',\n",
       "        lowercase=True, max_df=1.0, max_features=None, min_df=1,\n",
       "        ngram_range=(1, 1), norm='l2', preprocessor=None, smooth_idf=Tr...lary=None)), ('classifier', BernoulliNB(alpha=1.0, binarize=0.0, class_prior=None, fit_prior=True))])"
      ]
     },
     "execution_count": 25,
     "metadata": {},
     "output_type": "execute_result"
    }
   ],
   "source": [
    "trial3 = Pipeline([\n",
    "    ('vectorizer', TfidfVectorizer(stop_words=stopwords.words('english'))),\n",
    "    ('classifier', BernoulliNB()),\n",
    "])\n",
    " \n",
    "train(trial3, data, target)\n",
    "# Accuracy: 0.88\n"
   ]
  },
  {
   "cell_type": "code",
   "execution_count": 26,
   "metadata": {},
   "outputs": [
    {
     "name": "stdout",
     "output_type": "stream",
     "text": [
      "Accuracy: 0.875\n"
     ]
    },
    {
     "data": {
      "text/plain": [
       "Pipeline(memory=None,\n",
       "     steps=[('vectorizer', TfidfVectorizer(analyzer='word', binary=False, decode_error='strict',\n",
       "        dtype=<class 'numpy.int64'>, encoding='utf-8', input='content',\n",
       "        lowercase=True, max_df=1.0, max_features=None, min_df=1,\n",
       "        ngram_range=(1, 1), norm='l2', preprocessor=None, smooth_idf=Tr...     vocabulary=None)), ('classifier', MultinomialNB(alpha=0.05, class_prior=None, fit_prior=True))])"
      ]
     },
     "execution_count": 26,
     "metadata": {},
     "output_type": "execute_result"
    }
   ],
   "source": [
    "from nltk.corpus import stopwords\n",
    "\n",
    "\n",
    "trial2 = Pipeline([\n",
    "    ('vectorizer', TfidfVectorizer(stop_words=stopwords.words('english'))),\n",
    "    ('classifier', MultinomialNB(alpha=0.05)),\n",
    "])\n",
    " \n",
    "train(trial2, data, target)\n",
    "# Accuracy: 0.875\n"
   ]
  },
  {
   "cell_type": "code",
   "execution_count": 29,
   "metadata": {},
   "outputs": [
    {
     "name": "stdout",
     "output_type": "stream",
     "text": [
      "Accuracy: 0.8775\n"
     ]
    },
    {
     "data": {
      "text/plain": [
       "Pipeline(memory=None,\n",
       "     steps=[('vectorizer', TfidfVectorizer(analyzer='word', binary=False, decode_error='strict',\n",
       "        dtype=<class 'numpy.int64'>, encoding='utf-8', input='content',\n",
       "        lowercase=True, max_df=1.0, max_features=None, min_df=1,\n",
       "        ngram_range=(1, 1), norm='l2', preprocessor=None, smooth_idf=Tr...        vocabulary=None)), ('classifier', MultinomialNB(alpha=2, class_prior=None, fit_prior=True))])"
      ]
     },
     "execution_count": 29,
     "metadata": {},
     "output_type": "execute_result"
    }
   ],
   "source": [
    "trial3 = Pipeline([\n",
    "    ('vectorizer', TfidfVectorizer(stop_words=stopwords.words('english'))),\n",
    "    ('classifier', MultinomialNB(alpha=2)),\n",
    "])\n",
    " \n",
    "train(trial3, data, target)\n"
   ]
  },
  {
   "cell_type": "code",
   "execution_count": 31,
   "metadata": {},
   "outputs": [],
   "source": [
    "cleaned_data = [textacy.preprocess_text(str(text), no_emails=True, no_punct=True, no_urls=True, lowercase=True) for text in data]"
   ]
  },
  {
   "cell_type": "code",
   "execution_count": 33,
   "metadata": {},
   "outputs": [
    {
     "name": "stdout",
     "output_type": "stream",
     "text": [
      "Accuracy: 0.875\n"
     ]
    },
    {
     "data": {
      "text/plain": [
       "Pipeline(memory=None,\n",
       "     steps=[('vectorizer', TfidfVectorizer(analyzer='word', binary=False, decode_error='strict',\n",
       "        dtype=<class 'numpy.int64'>, encoding='utf-8', input='content',\n",
       "        lowercase=True, max_df=1.0, max_features=None, min_df=1,\n",
       "        ngram_range=(1, 1), norm='l2', preprocessor=None, smooth_idf=Tr...        vocabulary=None)), ('classifier', MultinomialNB(alpha=1, class_prior=None, fit_prior=True))])"
      ]
     },
     "execution_count": 33,
     "metadata": {},
     "output_type": "execute_result"
    }
   ],
   "source": [
    "trial_c = Pipeline([\n",
    "    ('vectorizer', TfidfVectorizer(stop_words=stopwords.words('english'))),\n",
    "    ('classifier', MultinomialNB(alpha=1)),\n",
    "])\n",
    "\n",
    "train(trial_c, cleaned_data, target)"
   ]
  },
  {
   "cell_type": "code",
   "execution_count": 34,
   "metadata": {},
   "outputs": [
    {
     "name": "stdout",
     "output_type": "stream",
     "text": [
      "Accuracy: 0.88\n"
     ]
    },
    {
     "data": {
      "text/plain": [
       "Pipeline(memory=None,\n",
       "     steps=[('vectorizer', TfidfVectorizer(analyzer='word', binary=False, decode_error='strict',\n",
       "        dtype=<class 'numpy.int64'>, encoding='utf-8', input='content',\n",
       "        lowercase=True, max_df=1.0, max_features=None, min_df=1,\n",
       "        ngram_range=(1, 1), norm='l2', preprocessor=None, smooth_idf=Tr...        vocabulary=None)), ('classifier', MultinomialNB(alpha=1, class_prior=None, fit_prior=True))])"
      ]
     },
     "execution_count": 34,
     "metadata": {},
     "output_type": "execute_result"
    }
   ],
   "source": [
    "from sklearn.linear_model import SGDClassifier\n",
    "\n",
    "trial_l = Pipeline([\n",
    "    ('vectorizer', TfidfVectorizer(stop_words=stopwords.words('english'))),\n",
    "    ('classifier', SGDClassifier()),\n",
    "])\n",
    "\n",
    "train(trial_c, data, target)"
   ]
  },
  {
   "cell_type": "code",
   "execution_count": 36,
   "metadata": {},
   "outputs": [
    {
     "data": {
      "text/plain": [
       "array([1])"
      ]
     },
     "execution_count": 36,
     "metadata": {},
     "output_type": "execute_result"
    }
   ],
   "source": [
    "trial1.predict([data[0]])"
   ]
  },
  {
   "cell_type": "code",
   "execution_count": 37,
   "metadata": {},
   "outputs": [
    {
     "data": {
      "text/plain": [
       "array([1])"
      ]
     },
     "execution_count": 37,
     "metadata": {},
     "output_type": "execute_result"
    }
   ],
   "source": [
    "trial_c.predict([data[0]])"
   ]
  },
  {
   "cell_type": "code",
   "execution_count": 35,
   "metadata": {},
   "outputs": [
    {
     "data": {
      "text/plain": [
       "b'This was a refreshing change from the ordinary. I loved the location, the service and the amenities offered by this hotel. The room was charming with a window seat and a water view. The decor was unique but cheerful. Free wireless internet services were a plus here. The staff was helpful and attentive. We loved having goldfish share our room! I would definitely stay here again.\\n'"
      ]
     },
     "execution_count": 35,
     "metadata": {},
     "output_type": "execute_result"
    }
   ],
   "source": [
    "data[0]"
   ]
  },
  {
   "cell_type": "code",
   "execution_count": 38,
   "metadata": {},
   "outputs": [
    {
     "data": {
      "text/plain": [
       "1"
      ]
     },
     "execution_count": 38,
     "metadata": {},
     "output_type": "execute_result"
    }
   ],
   "source": [
    "target[0]"
   ]
  },
  {
   "cell_type": "code",
   "execution_count": 45,
   "metadata": {},
   "outputs": [],
   "source": [
    "from sklearn.metrics import classification_report"
   ]
  },
  {
   "cell_type": "code",
   "execution_count": 41,
   "metadata": {},
   "outputs": [
    {
     "name": "stdout",
     "output_type": "stream",
     "text": [
      "CPU times: user 339 ms, sys: 6.73 ms, total: 345 ms\n",
      "Wall time: 392 ms\n"
     ]
    }
   ],
   "source": [
    "%%time \n",
    "\n",
    "results_c = trial_c.predict(data)"
   ]
  },
  {
   "cell_type": "code",
   "execution_count": 49,
   "metadata": {},
   "outputs": [
    {
     "name": "stdout",
     "output_type": "stream",
     "text": [
      "             precision    recall  f1-score   support\n",
      "\n",
      "          0       0.93      0.97      0.95       801\n",
      "          1       0.97      0.92      0.95       799\n",
      "\n",
      "avg / total       0.95      0.95      0.95      1600\n",
      "\n"
     ]
    }
   ],
   "source": [
    "print(classification_report(target, results_c))"
   ]
  },
  {
   "cell_type": "code",
   "execution_count": 57,
   "metadata": {},
   "outputs": [
    {
     "name": "stdout",
     "output_type": "stream",
     "text": [
      "review 0\n",
      "b'This was a refreshing change from the ordinary. I loved the location, the service and the amenities offered by this hotel. The room was charming with a window seat and a water view. The decor was unique but cheerful. Free wireless internet services were a plus here. The staff was helpful and attentive. We loved having goldfish share our room! I would definitely stay here again.\\n'\n",
      "review 1\n",
      "b\"This hotel was an absolute dream to stay in. I couldn't have picked a better hotel to spend in such luxury. I enjoyed the set up of the rooms and the space they offered.The room decor was extremely elegant and the location was great as well. I honestly felt like I was at a spa! The price was very reasonable as well. I would definetly recommend this hotel to everyone I know. If you ever get a chance to spend a night here definetly choose the suite rooms!!!\\n\"\n",
      "review 2\n",
      "b\"The Conrad has all the right stuff - great bedding, fancy decorations, beautiful lobby, etc. However, they are seriously missing the boat when it comes to customer service and attention to detail. When I checked in, I went to get a glass of wine from the minibar, only to discover that everything in the fridge was warm. I called for help and was cheerfully told that they would send an engineer right away to fix it. In the meantime, I said, great, but what about a cold drink? They proceeded to send me 1 glass of wine via room service, without asking me if this would be okay. I paid $25 for 1 glass of wine. The minibar bottle would've given me 2 glasses for about $33. Nothing was said to me about this obvious difference. When I called to complain, I was made to feel cheap. To me, it was not the money, it was the principle. The next morning, my bill showed that I had eaten something out of the minibar. I had not. I called, and they said that the automatic sensors in the minibar must have triggered something (duh - when the engineer came and took the entire fridge out of its compartment to fix it), and they took the charge off. They also took $10 off my room service bill, but I was still annoyed that nobody bothered to apologize or acknowledge the fact that I was overcharged. Also, when they fixed the minibar fridge, they did not replace anything in it. The guy said, it'll take a while for things to cool down. Oh, really? How about the warm beer, that was once cold, that will now taste disgusting? I guess they're saving that for the next person who checks into my room and has no idea. Another annoyance was that the lighted mirror in our bathroom did not work. When I plugged it in, it made 2 other lights in the bathroom go off, and then it never would come on. It seems that the Conrad thinks it can spend a lot of money to make itself look beautiful, without worrying about each customer's experience. I don't think they go into the rooms and check them out. And their sta\\n\"\n",
      "review 3\n",
      "b'My husband and I recently spent 3 nights at the Ambassador East Hotel. We will never stay at this hotel again. For the steep price we paid to stay there, we expected a friendly staff and clean room, which we did not get. First of all, the rooms are not clean. We found a few bugs in our room and the sheets did not look like they have been recently changed. When we reported this information to the hotel staff, they did not do anything to help us out. The staff is very unfriendly. Also, there were no clean towels to use in the bathroom.\\n'\n",
      "review 4\n",
      "b'My wife and I stayed here for a weekend and we absolutely loved it. The atmosphere was very chic & upscale; in my opinion you get more than what you pay for with the brand name amenities without breaking the bank. My wife even got to bring along her dog (aka #1 man!). I would definitely stay here again & would recommend it to anyone staying in the Chicago area.\\n'\n",
      "review 5\n",
      "b'I enjoyed my stay at the Ambassador East Hotel in Chicago. The staff was friendly and helpful from the time I checked in all the way through checkout. The hotel was very clean and well maintained. The beds were very comfortable! The hotel restaurant/lounge was very cozy and a nice way to unwind after a long day. The only thing I was unhappy about was the fact that internet service is not complimentary at this hotel. I reccomend this hotel and I will stay there again on my next trip to Chicago!\\n'\n",
      "review 6\n",
      "b\"Fairmont Chicago was a great choice for my wife and I. We couldn't resist the elegant Aria Restaurant and the accommodations. The room was impeccably clean and the city view was utterly amazing. From the moment we checked in, the staff produced a positive atmosphere with genuine hospitality. My wife even suggested we should have had our wedding reception in their beautiful ball room. Overall, I would rate Fairmont Chicago a 10/10!\\n\"\n",
      "review 7\n",
      "b'so my sweetie lures me out under the guise of dinner at the China Grill, upon arrival he tells me his boys are watching the game in a suite upstairs and want to say hi...we arrive at the 35th floor and my oh my!!! SURPRISE!!! ladies and gentlemen THIS is something to be admired...spacious and roomy, yet warm, cozy and inviting...great bed, comfortable furniture, great 42 inch plasmas, and the views are UNBELIEVABLE...my only complaint? a shower should have a door to keep the heat IN...other than that no complaints, room service was great, morning coffee was yummo...overall a fabulous experience!!! \\n'\n",
      "review 8\n",
      "b\"I stayed at the Hilton Chicago last week and was very disappointed. The highlight of the stay was waiting 20 minutes for a bellman to come and get our luggage. Finally, my 72 year old mother, 8 year old son, and myself gave up and dragged it all down to valet parking ourselves - no easy task. The security guard was kind enough to hold the door for me. The valet parking attendants looked over and then ignored us. As far as I could tell, he was just standing there doing nothing. I couldn't let go of the bags without everything falling so I gave my son the parking receipt. The attendant pointed to where our car was parked - no short distance away. My 8 year old had to tell him to pull it up. They should have been ashamed. Less significant, but irritating issues. The pool is part of the Hilton Athletic club. Two lanes are reserved for adults wanting to lap swim. Basically, two adults can take up 2/3rds of the pool while everyone else is consigned to the leftover 1/3rd. This is ridiculous and very family unfriendly. In addition, the pool closes at 9 p.m. What pool closes at 9? We stayed for 3 nights. Not one single additional bar of soap, bottle of shampoo, or coffee stirrers.\\n\"\n",
      "review 9\n",
      "b'The Affinia Manhattan is fantastic! My husband and I stayed there when we went to visit my sister. I loved the room. It was one of the best hotel beds we have ever slept in. The view was incredible. Manhattan is one of the most beautiful places I have ever been. The staff was very helpful as well. They had no problem going out of their way to be helpful. I would suggest this hotel to anybody!\\n'\n",
      "true or false?\n",
      "...\n",
      "review 0 True\n",
      "review 1 False\n",
      "review 2 True\n",
      "review 3 False\n",
      "review 4 False\n",
      "review 5 False\n",
      "review 6 False\n",
      "review 7 True\n",
      "review 8 True\n",
      "review 9 False\n"
     ]
    }
   ],
   "source": [
    "for i in range(10):\n",
    "    print(f\"review {i}\")\n",
    "    print(data[i])\n",
    "\n",
    "print(\"true or false?\")\n",
    "print(\"...\")\n",
    "for i in range(10):\n",
    "    if target[i]:\n",
    "        print(f\"review {i}\", True)\n",
    "    else:\n",
    "        print(f\"review {i}\", False)"
   ]
  },
  {
   "cell_type": "code",
   "execution_count": 58,
   "metadata": {},
   "outputs": [
    {
     "data": {
      "text/plain": [
       "84"
      ]
     },
     "execution_count": 58,
     "metadata": {},
     "output_type": "execute_result"
    }
   ],
   "source": [
    "misclassified =  []\n",
    "for i, item in enumerate(target):\n",
    "    if item != results_c[i]:\n",
    "        misclassified.append((data[i], item))\n",
    "len(misclassified)"
   ]
  },
  {
   "cell_type": "code",
   "execution_count": 59,
   "metadata": {},
   "outputs": [
    {
     "data": {
      "text/plain": [
       "[(b\"A friend highly recommended this hotel and we couldn't have been happier! It was wonderful ~ my husband and kids were already planning our next trip there before we had even left the hotel. The kids loved the goldfish in the room and thought the window seats were the best. \\n\",\n",
       "  1),\n",
       " (b\"This hotel was full of drunks. The lobby was full of crowds at night and the bar was way too busy. There were people stumbling all over the hotel at all hours of the night, yelling in the hallways, making lots of noise. The staff had little to say. I wasn't aware of the noise level when I booked the room and when I threatened to make other reservations, the people in the lobby had nothing to say. We asked for a water view and got a city view. Again, the people at the front desk weren't accomodating at all. Overall, we had a horrible experience.\\n\",\n",
       "  0),\n",
       " (b\"I just got back from the Monaco in Chicago! I was very pleasantly surprised, as my husband booked this trip as a last minute getaway, and he usually picks bad places-haha. Anyway, the moment we got there the doormen greeted us warmly and helped get our luggage situatated. It was busy and the line was a little long, but it moved quickly. The lady at the front desk gave us a high floor when we requested one which was very good, especially since it seemed to be near full. The room was clean and spacious (especially considering it's a city hotel). We made a lot of use of the concierge, since again, it was so last minute we didn't really make any plans. He gave us some tips and also gave us a few places we should go for Chicago pizza yummy! It was also great being near the theater district, and basically in the thick of everything so we saved on cab fare. I thought the coolest thing was they brought you a goldfish in a bowl for your room! very trendy. My husband is not as easily impressed, but he was really excited about the free wine hour and the free drinks in the afternoon. Overall, really nice stay in a four star, or probably four and half star hotel!\\n\",\n",
       "  0),\n",
       " (b\"I arrived here at about 8pm after a flight from California. I didn't know about the renovation when I made the reservations, but that didn't bother me very much. I was helped by a man at the front desk named Ben, who was friendly enough, but literally just handed me my room key and told me to have a nice stay. He gave me NO information about anything. I had no idea where breakfast was served, or even if there WAS breakfast. There was also an EXTREMELY unpleasant woman working behind the desk(she wasn't wearing a name tag but was African American, slim with short hair) who seemed to be actually radiating hostility. It made me very uncomfortable and needless to say, made me feel unwelcome. I actually felt like I was putting her out by staying in the hotel. I encountered her again the next morning when I had to go downstairs to ask a question and again tried to smile at her a bit, and again was met with utter disdain and rudeness. I also watched her interact with another guest and saw her act with the same rudeness and bad manners. No matter what may be going on in one's life, when you work in customer service you need to leave whatever is happening at the door and put on a smile. I was appalled by her demeanor. My room was alright, there was no clock which I found very odd. Since I came from a different time zone my computer and phone had 2 different times and I was constantly confused as to which one was correct, especially upon waking up in the morning. It would have been nice to have a clock. There was also no literature on local sites, maps, restaurant menus, or even anything with the hotel's name and address in the room. Also, the mattress was the absolute worst mattress I've ever slept on in my life. I woke up every morning with a sore back and neck. I've had better sleep on a hard, lumpy futon. It was absurd. Like another person posted, my tub did not drain either, and I was also shocked that there were no soda machines or ice machines to be found. Maybe they were around somewhere, but I wasn't made aware of it at check-in, and I didn't want to go downstairs and ask for fear of being treated like I was a burden to the employees. The hotel is in a good location and the rooms look nice upon first glance, but I absolutely would not stay here again. I've had more pleasant stays at a cheap chain hotel, which was a bummer because it was my first visit to Chicago and I had pretty high expectations.\\n\",\n",
       "  1),\n",
       " (b\"Striking architecture is only the beginning of what can only be described as one of the best hotel experiences of my professional life. The attention to detail in the room and the bathroom is remarkable and the bed is the best night's sleep I've ever experienced in a hotel. Gorgeous LCD tv and Bose wave machine added to my enjoyment. Sofitel is worth the extra $'s. \\n\",\n",
       "  1),\n",
       " (b\"I would not reccomend staying at the Hard Rock Hotel Chicago if you want a good deal and a good nights sleep. I stayed at the Hard Rock Hotel Chicago for two nights this past July. I had a select king city view room. The room was dark, with ugly black carpets and the view was of another building right next door - not a great view. I was on an upper level floor and the elevators were incredibly slow. The hotel was pretty loud and the people in the room next to mine were up partying all night long, so it was very hard to get to sleep on my first night there. When I called to complain at the front desk they promised to do something about it but never did. I ended up having to call two more times before the management did something about the room next door. They quieted down for about an hour, but then were loud again for the rest of the night. The hotel was expensive, and for the price there weren't very many special amenities. There was no continental breakfast and the wifi was not included -- you had to sign up for a day of service at $10 a day. Overall I would not recommend staying at the Hard Rock Hotel Chicago, as it is way overpriced for what you get.\\n\",\n",
       "  0),\n",
       " (b'We arrived for a weekend stay and really enjoyed the hotel. The cocktail hour was so full of people that we could not get in. The second night we went earlier and it was very nice. The staff was very helpful and had a good knowledge of the area. The rooms were modern and very clean. We will stay there again. \\n',\n",
       "  1),\n",
       " (b\"The hotel is very impressive upon entering and the staff was very friendly, however we felt our room was very dated and worn looking. Our air conditioning didn't seem to be working well, but we turned it down and thought that it would eventually... cool off. Our first night was interrupted by a phone call at one A.M. That was a fax, it happened 4 times. By this time we realized that the air was not working again, so after fussing with the controls it did kick on. The next morning I mentioned to the concierge the issues with the phone, but didn't think to mention the issues with the air because it appeared to be working. After being out seeing the sites of Chicago for several hours and being very hot we were looking forward to resting in a cool room before going to a show . Our room was 78 degrees, I called and maintenience did come to check. After determining that the unit needed a motor it was another hour so we did not get to rest in a cool room before going out. I feel an offer should have been made to us by the hotel. Also was very surprised that WiFi was not a free service !! We will not be staying at the Hilton on our next trip to Chicago.\\n\",\n",
       "  1),\n",
       " (b\"My wife and I came to spend the weekend in downtown Chicago for shopping and we found this Conrad hotel well located close to everything downtown and of a size that doesn't make you feel lost in the Convention world. We have had this feeling when staying at larger hotels in the past. Our Suite has view on Michigan avenue with a bit of the Lake at the end. Staff was very professional, pleasant and friendly making us feel very comfortable. Internet is free n the rooms and I am making my review from there. \\n\",\n",
       "  1),\n",
       " (b'The staff at the Talbott hotel was completely unresponsive when I told them there were a bunch of drunken teenagers playing ding, dong, ditch. The sheets smelled funny when I arrived and were only changed 6 times during my two-week stay. The room service was very slow and the cleaning crew did not replace my soap, but I did notice the contents of the mini-bar diminished every time the maid service had been in my room.\\n',\n",
       "  0)]"
      ]
     },
     "execution_count": 59,
     "metadata": {},
     "output_type": "execute_result"
    }
   ],
   "source": [
    "misclassified[:10]"
   ]
  },
  {
   "cell_type": "code",
   "execution_count": 68,
   "metadata": {},
   "outputs": [
    {
     "name": "stdout",
     "output_type": "stream",
     "text": [
      "Accuracy: 0.8675\n",
      "CPU times: user 10.6 s, sys: 103 ms, total: 10.7 s\n",
      "Wall time: 12.1 s\n"
     ]
    }
   ],
   "source": [
    "%%time\n",
    "\n",
    "import string \n",
    "\n",
    "def stemming_tokenizer(text):\n",
    "    stemmer = PorterStemmer()\n",
    "    return [stemmer.stem(w) for w in word_tokenize(text)]\n",
    " \n",
    "trial_stem = Pipeline([\n",
    "    ('vectorizer', TfidfVectorizer(tokenizer=stemming_tokenizer,\n",
    "                             stop_words=stopwords.words('english') + list(string.punctuation))),\n",
    "    ('classifier', MultinomialNB(alpha=1)),\n",
    "])\n",
    "\n",
    "train(trial_stem, data, target)\n"
   ]
  },
  {
   "cell_type": "code",
   "execution_count": 15,
   "metadata": {},
   "outputs": [],
   "source": [
    "def extract_words(text):\n",
    "    lemmas = [word.lemma_ for word in nlp(text) if not word.is_stop or word.]\n",
    "    return lemmas\n",
    "    \n",
    "fake_words = []"
   ]
  },
  {
   "cell_type": "code",
   "execution_count": 12,
   "metadata": {},
   "outputs": [],
   "source": [
    "text= data[0]"
   ]
  },
  {
   "cell_type": "code",
   "execution_count": 13,
   "metadata": {},
   "outputs": [
    {
     "data": {
      "text/plain": [
       "b'This was a refreshing change from the ordinary. I loved the location, the service and the amenities offered by this hotel. The room was charming with a window seat and a water view. The decor was unique but cheerful. Free wireless internet services were a plus here. The staff was helpful and attentive. We loved having goldfish share our room! I would definitely stay here again.\\n'"
      ]
     },
     "execution_count": 13,
     "metadata": {},
     "output_type": "execute_result"
    }
   ],
   "source": [
    "text"
   ]
  },
  {
   "cell_type": "code",
   "execution_count": 16,
   "metadata": {},
   "outputs": [
    {
     "data": {
      "text/plain": [
       "[\"b'this\",\n",
       " 'refreshing',\n",
       " 'change',\n",
       " 'ordinary',\n",
       " '.',\n",
       " '-PRON-',\n",
       " 'love',\n",
       " 'location',\n",
       " ',',\n",
       " 'service',\n",
       " 'amenity',\n",
       " 'offer',\n",
       " 'hotel',\n",
       " '.',\n",
       " 'the',\n",
       " 'room',\n",
       " 'charming',\n",
       " 'window',\n",
       " 'seat',\n",
       " 'water',\n",
       " 'view',\n",
       " '.',\n",
       " 'the',\n",
       " 'decor',\n",
       " 'unique',\n",
       " 'cheerful',\n",
       " '.',\n",
       " 'free',\n",
       " 'wireless',\n",
       " 'internet',\n",
       " 'service',\n",
       " 'plus',\n",
       " '.',\n",
       " 'the',\n",
       " 'staff',\n",
       " 'helpful',\n",
       " 'attentive',\n",
       " '.',\n",
       " '-PRON-',\n",
       " 'love',\n",
       " 'have',\n",
       " 'goldfish',\n",
       " 'share',\n",
       " 'room',\n",
       " '!',\n",
       " '-PRON-',\n",
       " 'definitely',\n",
       " 'stay',\n",
       " 'again.\\\\n',\n",
       " \"'\"]"
      ]
     },
     "execution_count": 16,
     "metadata": {},
     "output_type": "execute_result"
    }
   ],
   "source": [
    "extract_words(str(text))"
   ]
  },
  {
   "cell_type": "code",
   "execution_count": 42,
   "metadata": {},
   "outputs": [],
   "source": [
    "cleaned_fake = [textacy.preprocess_text(str(text), no_emails=True, no_punct=True, no_urls=True, lowercase=True, no_numbers=True) for text in fake_reviews]\n"
   ]
  },
  {
   "cell_type": "code",
   "execution_count": 43,
   "metadata": {},
   "outputs": [],
   "source": [
    "cleaned_real = [textacy.preprocess_text(str(text), no_emails=True, no_punct=True, no_urls=True, lowercase=True, no_numbers=True) for text in real_reviews]\n"
   ]
  },
  {
   "cell_type": "code",
   "execution_count": 44,
   "metadata": {},
   "outputs": [
    {
     "data": {
      "text/plain": [
       "['bwe',\n",
       " 'stay',\n",
       " 'schicago',\n",
       " 'hilton',\n",
       " 'number',\n",
       " 'day',\n",
       " 'number',\n",
       " 'night',\n",
       " 'conference',\n",
       " 'normally',\n",
       " 'easy',\n",
       " 'go',\n",
       " 'amenity',\n",
       " 'cleanliness',\n",
       " 'likehowever',\n",
       " 'experience',\n",
       " 'hilton',\n",
       " 'awful',\n",
       " 'take',\n",
       " 'time',\n",
       " 'actually',\n",
       " 'write',\n",
       " 'review',\n",
       " 'truly',\n",
       " 'stay',\n",
       " 'hotel',\n",
       " 'arrive',\n",
       " 'room',\n",
       " 'clear',\n",
       " 'carpet',\n",
       " 'not',\n",
       " 'vacuum',\n",
       " 'figuer',\n",
       " 'okay',\n",
       " 'carpet',\n",
       " 'see',\n",
       " 'bathroom',\n",
       " 'bathroom',\n",
       " 'superficial',\n",
       " 'indicator',\n",
       " 'housekeeping',\n",
       " 'have',\n",
       " 'recently',\n",
       " 'clean',\n",
       " 'ie',\n",
       " 'paper',\n",
       " 'band',\n",
       " 'toilet',\n",
       " 'paper',\n",
       " 'cap',\n",
       " 'drinking',\n",
       " 'glass',\n",
       " 'etc',\n",
       " 'clear',\n",
       " 'actual',\n",
       " 'cleaning',\n",
       " 'take',\n",
       " 'place',\n",
       " 'spot',\n",
       " 'probably',\n",
       " 'urine',\n",
       " 'toilet',\n",
       " 'seat',\n",
       " 'kid',\n",
       " 'remnant',\n",
       " 'lipsmudge',\n",
       " 'glass',\n",
       " 'know',\n",
       " 'people',\n",
       " 'work',\n",
       " 'year',\n",
       " 'hotel',\n",
       " 'industry',\n",
       " 'warn',\n",
       " 'lazy',\n",
       " 'housekeeping',\n",
       " 'thing',\n",
       " 'appear',\n",
       " 'clean',\n",
       " 'fact',\n",
       " 'effort',\n",
       " 'thing',\n",
       " 'sanitary',\n",
       " 'hilton',\n",
       " 'proof',\n",
       " 'call',\n",
       " 'downstairs',\n",
       " 'complain',\n",
       " 'send',\n",
       " 'chambermaid',\n",
       " 'hour',\n",
       " 'later',\n",
       " 'frankly',\n",
       " 'find',\n",
       " 'room',\n",
       " 'disgust',\n",
       " 'hotel',\n",
       " 'outside',\n",
       " 'room',\n",
       " 'cavernous',\n",
       " 'unwelcom',\n",
       " 'awful',\n",
       " 'echo',\n",
       " 'lobby',\n",
       " 'area',\n",
       " 'create',\n",
       " 'migraineinducing',\n",
       " 'din',\n",
       " 'rarely',\n",
       " 'eager',\n",
       " 'leave',\n",
       " 'place',\n",
       " 'get',\n",
       " 'home',\n",
       " 'wash',\n",
       " 'clothe',\n",
       " 'wear',\n",
       " 'skeeviness',\n",
       " 'accomodation',\n",
       " 'favor',\n",
       " 'stay',\n",
       " 'clean',\n",
       " 'hoteln']"
      ]
     },
     "execution_count": 44,
     "metadata": {},
     "output_type": "execute_result"
    }
   ],
   "source": [
    "extract_words(cleaned_fake[0])"
   ]
  },
  {
   "cell_type": "code",
   "execution_count": 50,
   "metadata": {},
   "outputs": [],
   "source": [
    "real_words = Counter([word for line in cleaned_real for word in extract_words(line)])"
   ]
  },
  {
   "cell_type": "code",
   "execution_count": 51,
   "metadata": {},
   "outputs": [],
   "source": [
    "fake_words = Counter([word for line in cleaned_fake for word in extract_words(line)])\n"
   ]
  },
  {
   "cell_type": "code",
   "execution_count": 52,
   "metadata": {},
   "outputs": [
    {
     "data": {
      "text/plain": [
       "[('room', 1709),\n",
       " ('hotel', 1618),\n",
       " ('number', 1128),\n",
       " ('stay', 1002),\n",
       " ('not', 612),\n",
       " ('great', 535),\n",
       " ('chicago', 472),\n",
       " ('good', 457),\n",
       " ('staff', 437),\n",
       " ('night', 432),\n",
       " ('n', 411),\n",
       " ('service', 396),\n",
       " ('bed', 375),\n",
       " ('location', 352),\n",
       " ('$', 312),\n",
       " ('nice', 300),\n",
       " ('time', 277),\n",
       " ('desk', 258),\n",
       " ('bathroom', 254),\n",
       " ('get', 248)]"
      ]
     },
     "execution_count": 52,
     "metadata": {},
     "output_type": "execute_result"
    }
   ],
   "source": [
    "real_words.most_common(20)"
   ]
  },
  {
   "cell_type": "code",
   "execution_count": 59,
   "metadata": {},
   "outputs": [],
   "source": [
    "fake_set = set([word for word, _ in fake_words.most_common(50)])"
   ]
  },
  {
   "cell_type": "code",
   "execution_count": 60,
   "metadata": {},
   "outputs": [],
   "source": [
    "real_set = set([word for word, _ in real_words.most_common(50)])"
   ]
  },
  {
   "cell_type": "code",
   "execution_count": 61,
   "metadata": {},
   "outputs": [
    {
     "data": {
      "text/plain": [
       "{'arrive',\n",
       " 'business',\n",
       " 'city',\n",
       " 'definitely',\n",
       " 'expect',\n",
       " 'experience',\n",
       " 'feel',\n",
       " 'food',\n",
       " 'hour',\n",
       " 'husband',\n",
       " 'need',\n",
       " 'recommend',\n",
       " 'reservation',\n",
       " 'take',\n",
       " 'visit',\n",
       " 'wait',\n",
       " 'want'}"
      ]
     },
     "execution_count": 61,
     "metadata": {},
     "output_type": "execute_result"
    }
   ],
   "source": [
    "fake_set - real_set"
   ]
  },
  {
   "cell_type": "code",
   "execution_count": 62,
   "metadata": {},
   "outputs": [
    {
     "data": {
      "text/plain": [
       "{'$',\n",
       " 'bar',\n",
       " 'bathroom',\n",
       " 'book',\n",
       " 'breakfast',\n",
       " 'call',\n",
       " 'comfortable',\n",
       " 'door',\n",
       " 'floor',\n",
       " 'free',\n",
       " 'helpful',\n",
       " 'lobby',\n",
       " 'n',\n",
       " 'pay',\n",
       " 'small',\n",
       " 'tell',\n",
       " 'walk'}"
      ]
     },
     "execution_count": 62,
     "metadata": {},
     "output_type": "execute_result"
    }
   ],
   "source": [
    "real_set - fake_set"
   ]
  },
  {
   "cell_type": "code",
   "execution_count": 63,
   "metadata": {},
   "outputs": [
    {
     "data": {
      "text/plain": [
       "{'area',\n",
       " 'ask',\n",
       " 'bed',\n",
       " 'bi',\n",
       " 'check',\n",
       " 'chicago',\n",
       " 'clean',\n",
       " 'come',\n",
       " 'day',\n",
       " 'desk',\n",
       " 'find',\n",
       " 'friendly',\n",
       " 'get',\n",
       " 'go',\n",
       " 'good',\n",
       " 'great',\n",
       " 'hotel',\n",
       " 'like',\n",
       " 'location',\n",
       " 'look',\n",
       " 'nice',\n",
       " 'night',\n",
       " 'not',\n",
       " 'number',\n",
       " 'place',\n",
       " 'price',\n",
       " 'restaurant',\n",
       " 'room',\n",
       " 'service',\n",
       " 'staff',\n",
       " 'stay',\n",
       " 'time',\n",
       " 'view'}"
      ]
     },
     "execution_count": 63,
     "metadata": {},
     "output_type": "execute_result"
    }
   ],
   "source": [
    "fake_set & real_set"
   ]
  },
  {
   "cell_type": "code",
   "execution_count": null,
   "metadata": {},
   "outputs": [],
   "source": []
  }
 ],
 "metadata": {
  "kernelspec": {
   "display_name": "Python 3",
   "language": "python",
   "name": "python3"
  },
  "language_info": {
   "codemirror_mode": {
    "name": "ipython",
    "version": 3
   },
   "file_extension": ".py",
   "mimetype": "text/x-python",
   "name": "python",
   "nbconvert_exporter": "python",
   "pygments_lexer": "ipython3",
   "version": "3.6.1"
  }
 },
 "nbformat": 4,
 "nbformat_minor": 2
}
