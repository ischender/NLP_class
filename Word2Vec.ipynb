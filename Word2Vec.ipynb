{
 "cells": [
  {
   "cell_type": "code",
   "execution_count": 1,
   "metadata": {},
   "outputs": [],
   "source": [
    "%matplotlib inline\n",
    "\n",
    "from gensim.models import Word2Vec, KeyedVectors"
   ]
  },
  {
   "cell_type": "code",
   "execution_count": 2,
   "metadata": {},
   "outputs": [],
   "source": [
    "data_path = \"data/\"\n",
    "w2v_model = \"GoogleNews-vectors-negative300-SLIM.bin/GoogleNews-vectors-negative300-SLIM.bin\"\n",
    "w2v_model_path = data_path + w2v_model"
   ]
  },
  {
   "cell_type": "code",
   "execution_count": 3,
   "metadata": {},
   "outputs": [],
   "source": [
    "word2vec = KeyedVectors.load_word2vec_format(w2v_model_path, binary=True)\n",
    "word2vec.init_sims()\n"
   ]
  },
  {
   "cell_type": "code",
   "execution_count": 92,
   "metadata": {},
   "outputs": [],
   "source": [
    "fastt_model_path = \"/Users/aliosha/Downloads/wiki-news-300d-1M-subword.vec\"\n",
    "\n",
    "fastt = KeyedVectors.load_word2vec_format(w2v_model_path, binary=True)\n",
    "fastt.init_sims()"
   ]
  },
  {
   "cell_type": "code",
   "execution_count": 4,
   "metadata": {},
   "outputs": [],
   "source": [
    "def get_related_terms(token, topn=10, model=word2vec):\n",
    "    \"\"\"\n",
    "    look up the topn most similar terms to token\n",
    "    and print them as a formatted list\n",
    "    \"\"\"\n",
    "    for word, similarity in model.most_similar(positive=[token], topn=topn):\n",
    "\n",
    "        print(u'{:20} {}'.format(word, round(similarity, 3)))"
   ]
  },
  {
   "cell_type": "code",
   "execution_count": 5,
   "metadata": {},
   "outputs": [
    {
     "name": "stdout",
     "output_type": "stream",
     "text": [
      "hotels               0.771\n",
      "Hotel                0.739\n",
      "motel                0.662\n",
      "Radisson             0.645\n",
      "Sheraton             0.622\n",
      "Marriott             0.609\n",
      "guesthouse           0.605\n",
      "Ramada               0.601\n",
      "Hotels               0.596\n",
      "resort               0.58\n"
     ]
    }
   ],
   "source": [
    "get_related_terms(\"hotel\")"
   ]
  },
  {
   "cell_type": "code",
   "execution_count": 6,
   "metadata": {},
   "outputs": [],
   "source": [
    "# get_related_terms(\"hotwel\", model=fastt)\n",
    "# fastt.most_similar(positive=['hotwel'])"
   ]
  },
  {
   "cell_type": "code",
   "execution_count": 7,
   "metadata": {},
   "outputs": [
    {
     "name": "stdout",
     "output_type": "stream",
     "text": [
      "glad                 0.741\n",
      "pleased              0.663\n",
      "ecstatic             0.663\n",
      "overjoyed            0.66\n",
      "thrilled             0.651\n",
      "satisfied            0.644\n",
      "proud                0.636\n",
      "delighted            0.627\n",
      "disappointed         0.627\n",
      "excited              0.625\n"
     ]
    }
   ],
   "source": [
    "get_related_terms(\"happy\")"
   ]
  },
  {
   "cell_type": "code",
   "execution_count": 9,
   "metadata": {},
   "outputs": [
    {
     "data": {
      "text/html": [
       "<div>\n",
       "<style scoped>\n",
       "    .dataframe tbody tr th:only-of-type {\n",
       "        vertical-align: middle;\n",
       "    }\n",
       "\n",
       "    .dataframe tbody tr th {\n",
       "        vertical-align: top;\n",
       "    }\n",
       "\n",
       "    .dataframe thead th {\n",
       "        text-align: right;\n",
       "    }\n",
       "</style>\n",
       "<table border=\"1\" class=\"dataframe\">\n",
       "  <thead>\n",
       "    <tr style=\"text-align: right;\">\n",
       "      <th></th>\n",
       "      <th>query</th>\n",
       "      <th>keyword</th>\n",
       "    </tr>\n",
       "  </thead>\n",
       "  <tbody>\n",
       "    <tr>\n",
       "      <th>0</th>\n",
       "      <td>cheaphotels</td>\n",
       "      <td>+cheap +hotels</td>\n",
       "    </tr>\n",
       "    <tr>\n",
       "      <th>1</th>\n",
       "      <td>hotels deals</td>\n",
       "      <td>hotel deals</td>\n",
       "    </tr>\n",
       "    <tr>\n",
       "      <th>2</th>\n",
       "      <td>cheaphotels</td>\n",
       "      <td>cheap hotels</td>\n",
       "    </tr>\n",
       "    <tr>\n",
       "      <th>3</th>\n",
       "      <td>cheap hots</td>\n",
       "      <td>+cheap +hotels</td>\n",
       "    </tr>\n",
       "    <tr>\n",
       "      <th>4</th>\n",
       "      <td>bcompare hitels</td>\n",
       "      <td>compare hotels</td>\n",
       "    </tr>\n",
       "    <tr>\n",
       "      <th>5</th>\n",
       "      <td>hotels compare</td>\n",
       "      <td>compare hotels</td>\n",
       "    </tr>\n",
       "    <tr>\n",
       "      <th>6</th>\n",
       "      <td>last min hotel deals</td>\n",
       "      <td>last minute hotel deals</td>\n",
       "    </tr>\n",
       "    <tr>\n",
       "      <th>7</th>\n",
       "      <td>cheap hotel</td>\n",
       "      <td>cheap hotels</td>\n",
       "    </tr>\n",
       "    <tr>\n",
       "      <th>8</th>\n",
       "      <td>compate hotels</td>\n",
       "      <td>compare hotels</td>\n",
       "    </tr>\n",
       "    <tr>\n",
       "      <th>9</th>\n",
       "      <td>last minute hotwls</td>\n",
       "      <td>+last +minute +hotels</td>\n",
       "    </tr>\n",
       "    <tr>\n",
       "      <th>10</th>\n",
       "      <td>last minute holiday</td>\n",
       "      <td>last minute holidays</td>\n",
       "    </tr>\n",
       "    <tr>\n",
       "      <th>11</th>\n",
       "      <td>compare hotel</td>\n",
       "      <td>compare hotels</td>\n",
       "    </tr>\n",
       "    <tr>\n",
       "      <th>12</th>\n",
       "      <td>hotel compare</td>\n",
       "      <td>compare hotels</td>\n",
       "    </tr>\n",
       "    <tr>\n",
       "      <th>13</th>\n",
       "      <td>hotel compare</td>\n",
       "      <td>+compare +hotels</td>\n",
       "    </tr>\n",
       "    <tr>\n",
       "      <th>14</th>\n",
       "      <td>hotel last minute</td>\n",
       "      <td>+last +minute +hotels</td>\n",
       "    </tr>\n",
       "    <tr>\n",
       "      <th>15</th>\n",
       "      <td>hotels cheap</td>\n",
       "      <td>+cheap +hotels</td>\n",
       "    </tr>\n",
       "    <tr>\n",
       "      <th>16</th>\n",
       "      <td>hotels last minute</td>\n",
       "      <td>last minute hotels</td>\n",
       "    </tr>\n",
       "    <tr>\n",
       "      <th>17</th>\n",
       "      <td>last miute hotels</td>\n",
       "      <td>last minute hotels</td>\n",
       "    </tr>\n",
       "    <tr>\n",
       "      <th>18</th>\n",
       "      <td>hptel deala</td>\n",
       "      <td>hotel deals</td>\n",
       "    </tr>\n",
       "    <tr>\n",
       "      <th>19</th>\n",
       "      <td>cheap h9trls</td>\n",
       "      <td>+cheap +hotels</td>\n",
       "    </tr>\n",
       "    <tr>\n",
       "      <th>20</th>\n",
       "      <td>cheaps hotels</td>\n",
       "      <td>+cheap +hotels</td>\n",
       "    </tr>\n",
       "    <tr>\n",
       "      <th>21</th>\n",
       "      <td>cheapest hotels</td>\n",
       "      <td>+cheap +hotels</td>\n",
       "    </tr>\n",
       "    <tr>\n",
       "      <th>22</th>\n",
       "      <td>last min hotels</td>\n",
       "      <td>last minute hotels</td>\n",
       "    </tr>\n",
       "    <tr>\n",
       "      <th>23</th>\n",
       "      <td>hotels comparison</td>\n",
       "      <td>hotel comparison</td>\n",
       "    </tr>\n",
       "    <tr>\n",
       "      <th>24</th>\n",
       "      <td>hotel</td>\n",
       "      <td>hotels</td>\n",
       "    </tr>\n",
       "    <tr>\n",
       "      <th>25</th>\n",
       "      <td>cheapest hotels</td>\n",
       "      <td>cheap hotels</td>\n",
       "    </tr>\n",
       "    <tr>\n",
       "      <th>26</th>\n",
       "      <td>chesp hotels</td>\n",
       "      <td>+cheap +hotels</td>\n",
       "    </tr>\n",
       "    <tr>\n",
       "      <th>27</th>\n",
       "      <td>cheap ho</td>\n",
       "      <td>cheap hotels</td>\n",
       "    </tr>\n",
       "    <tr>\n",
       "      <th>28</th>\n",
       "      <td>cheap hote</td>\n",
       "      <td>+cheap +hotels</td>\n",
       "    </tr>\n",
       "    <tr>\n",
       "      <th>29</th>\n",
       "      <td>conpare hotels</td>\n",
       "      <td>compare hotels</td>\n",
       "    </tr>\n",
       "    <tr>\n",
       "      <th>...</th>\n",
       "      <td>...</td>\n",
       "      <td>...</td>\n",
       "    </tr>\n",
       "    <tr>\n",
       "      <th>972751</th>\n",
       "      <td>hawaii package</td>\n",
       "      <td>hawaii packages</td>\n",
       "    </tr>\n",
       "    <tr>\n",
       "      <th>972752</th>\n",
       "      <td>online travel agent</td>\n",
       "      <td>online travel agency</td>\n",
       "    </tr>\n",
       "    <tr>\n",
       "      <th>972753</th>\n",
       "      <td>traval sites</td>\n",
       "      <td>travel sites</td>\n",
       "    </tr>\n",
       "    <tr>\n",
       "      <th>972754</th>\n",
       "      <td>last minute vactions</td>\n",
       "      <td>last minute vacations</td>\n",
       "    </tr>\n",
       "    <tr>\n",
       "      <th>972755</th>\n",
       "      <td>all inclusive to mexico</td>\n",
       "      <td>all inclusive mexico</td>\n",
       "    </tr>\n",
       "    <tr>\n",
       "      <th>972756</th>\n",
       "      <td>cheapest travel</td>\n",
       "      <td>cheap travel</td>\n",
       "    </tr>\n",
       "    <tr>\n",
       "      <th>972757</th>\n",
       "      <td>caribbean cheap</td>\n",
       "      <td>cheap caribbean</td>\n",
       "    </tr>\n",
       "    <tr>\n",
       "      <th>972758</th>\n",
       "      <td>travvel</td>\n",
       "      <td>travel</td>\n",
       "    </tr>\n",
       "    <tr>\n",
       "      <th>972759</th>\n",
       "      <td>plan vacation</td>\n",
       "      <td>vacation planner</td>\n",
       "    </tr>\n",
       "    <tr>\n",
       "      <th>972760</th>\n",
       "      <td>cheapest spring break trips</td>\n",
       "      <td>cheap spring break trips</td>\n",
       "    </tr>\n",
       "    <tr>\n",
       "      <th>972761</th>\n",
       "      <td>weekend gate away</td>\n",
       "      <td>weekend getaway</td>\n",
       "    </tr>\n",
       "    <tr>\n",
       "      <th>972762</th>\n",
       "      <td>travel websits</td>\n",
       "      <td>travel websites</td>\n",
       "    </tr>\n",
       "    <tr>\n",
       "      <th>972763</th>\n",
       "      <td>cheapcaribbean</td>\n",
       "      <td>cheap caribbean</td>\n",
       "    </tr>\n",
       "    <tr>\n",
       "      <th>972764</th>\n",
       "      <td>hawaii all inclusive honeymoon</td>\n",
       "      <td>all inclusive hawaii honeymoon</td>\n",
       "    </tr>\n",
       "    <tr>\n",
       "      <th>972765</th>\n",
       "      <td>lsat minute vacations</td>\n",
       "      <td>last minute vacations</td>\n",
       "    </tr>\n",
       "    <tr>\n",
       "      <th>972766</th>\n",
       "      <td>all inclusive hawai</td>\n",
       "      <td>all inclusive hawaii</td>\n",
       "    </tr>\n",
       "    <tr>\n",
       "      <th>972767</th>\n",
       "      <td>cheap all inclusive vacations with airfare</td>\n",
       "      <td>cheap vacations all inclusive with airfare</td>\n",
       "    </tr>\n",
       "    <tr>\n",
       "      <th>972768</th>\n",
       "      <td>all inclusives turks and caicos</td>\n",
       "      <td>turks and caicos all inclusive</td>\n",
       "    </tr>\n",
       "    <tr>\n",
       "      <th>972769</th>\n",
       "      <td>all inclusive in punta cana</td>\n",
       "      <td>punta cana all inclusive</td>\n",
       "    </tr>\n",
       "    <tr>\n",
       "      <th>972770</th>\n",
       "      <td>cheap carribbean</td>\n",
       "      <td>cheap caribbean</td>\n",
       "    </tr>\n",
       "    <tr>\n",
       "      <th>972771</th>\n",
       "      <td>vacations all inclusive with airfare</td>\n",
       "      <td>all inclusive vacations with airfare</td>\n",
       "    </tr>\n",
       "    <tr>\n",
       "      <th>972772</th>\n",
       "      <td>disneyworld packages</td>\n",
       "      <td>disney world packages</td>\n",
       "    </tr>\n",
       "    <tr>\n",
       "      <th>972773</th>\n",
       "      <td>plan a vacation</td>\n",
       "      <td>vacation planner</td>\n",
       "    </tr>\n",
       "    <tr>\n",
       "      <th>972774</th>\n",
       "      <td>hawaii packagrs</td>\n",
       "      <td>+hawaii +packages</td>\n",
       "    </tr>\n",
       "    <tr>\n",
       "      <th>972775</th>\n",
       "      <td>florida all incluseve</td>\n",
       "      <td>+all +inclusive +florida</td>\n",
       "    </tr>\n",
       "    <tr>\n",
       "      <th>972776</th>\n",
       "      <td>all inclusive in hawaii</td>\n",
       "      <td>all inclusive hawaii</td>\n",
       "    </tr>\n",
       "    <tr>\n",
       "      <th>972777</th>\n",
       "      <td>all inclusive in hawaii</td>\n",
       "      <td>all inclusive hawaii</td>\n",
       "    </tr>\n",
       "    <tr>\n",
       "      <th>972778</th>\n",
       "      <td>travel agents online</td>\n",
       "      <td>online travel agency</td>\n",
       "    </tr>\n",
       "    <tr>\n",
       "      <th>972779</th>\n",
       "      <td>all inclusive in the bahamas</td>\n",
       "      <td>all inclusive bahamas</td>\n",
       "    </tr>\n",
       "    <tr>\n",
       "      <th>972780</th>\n",
       "      <td>rent a van</td>\n",
       "      <td>van rental</td>\n",
       "    </tr>\n",
       "  </tbody>\n",
       "</table>\n",
       "<p>972781 rows × 2 columns</p>\n",
       "</div>"
      ],
      "text/plain": [
       "                                             query  \\\n",
       "0                                      cheaphotels   \n",
       "1                                     hotels deals   \n",
       "2                                      cheaphotels   \n",
       "3                                       cheap hots   \n",
       "4                                  bcompare hitels   \n",
       "5                                   hotels compare   \n",
       "6                             last min hotel deals   \n",
       "7                                      cheap hotel   \n",
       "8                                   compate hotels   \n",
       "9                               last minute hotwls   \n",
       "10                             last minute holiday   \n",
       "11                                   compare hotel   \n",
       "12                                   hotel compare   \n",
       "13                                   hotel compare   \n",
       "14                               hotel last minute   \n",
       "15                                    hotels cheap   \n",
       "16                              hotels last minute   \n",
       "17                               last miute hotels   \n",
       "18                                     hptel deala   \n",
       "19                                    cheap h9trls   \n",
       "20                                   cheaps hotels   \n",
       "21                                 cheapest hotels   \n",
       "22                                 last min hotels   \n",
       "23                               hotels comparison   \n",
       "24                                           hotel   \n",
       "25                                 cheapest hotels   \n",
       "26                                    chesp hotels   \n",
       "27                                        cheap ho   \n",
       "28                                      cheap hote   \n",
       "29                                  conpare hotels   \n",
       "...                                            ...   \n",
       "972751                              hawaii package   \n",
       "972752                         online travel agent   \n",
       "972753                                traval sites   \n",
       "972754                        last minute vactions   \n",
       "972755                     all inclusive to mexico   \n",
       "972756                             cheapest travel   \n",
       "972757                             caribbean cheap   \n",
       "972758                                     travvel   \n",
       "972759                               plan vacation   \n",
       "972760                 cheapest spring break trips   \n",
       "972761                           weekend gate away   \n",
       "972762                              travel websits   \n",
       "972763                              cheapcaribbean   \n",
       "972764              hawaii all inclusive honeymoon   \n",
       "972765                       lsat minute vacations   \n",
       "972766                         all inclusive hawai   \n",
       "972767  cheap all inclusive vacations with airfare   \n",
       "972768             all inclusives turks and caicos   \n",
       "972769                 all inclusive in punta cana   \n",
       "972770                            cheap carribbean   \n",
       "972771        vacations all inclusive with airfare   \n",
       "972772                        disneyworld packages   \n",
       "972773                             plan a vacation   \n",
       "972774                             hawaii packagrs   \n",
       "972775                       florida all incluseve   \n",
       "972776                     all inclusive in hawaii   \n",
       "972777                     all inclusive in hawaii   \n",
       "972778                        travel agents online   \n",
       "972779                all inclusive in the bahamas   \n",
       "972780                                  rent a van   \n",
       "\n",
       "                                           keyword  \n",
       "0                                   +cheap +hotels  \n",
       "1                                      hotel deals  \n",
       "2                                     cheap hotels  \n",
       "3                                   +cheap +hotels  \n",
       "4                                   compare hotels  \n",
       "5                                   compare hotels  \n",
       "6                          last minute hotel deals  \n",
       "7                                     cheap hotels  \n",
       "8                                   compare hotels  \n",
       "9                            +last +minute +hotels  \n",
       "10                            last minute holidays  \n",
       "11                                  compare hotels  \n",
       "12                                  compare hotels  \n",
       "13                                +compare +hotels  \n",
       "14                           +last +minute +hotels  \n",
       "15                                  +cheap +hotels  \n",
       "16                              last minute hotels  \n",
       "17                              last minute hotels  \n",
       "18                                     hotel deals  \n",
       "19                                  +cheap +hotels  \n",
       "20                                  +cheap +hotels  \n",
       "21                                  +cheap +hotels  \n",
       "22                              last minute hotels  \n",
       "23                                hotel comparison  \n",
       "24                                          hotels  \n",
       "25                                    cheap hotels  \n",
       "26                                  +cheap +hotels  \n",
       "27                                    cheap hotels  \n",
       "28                                  +cheap +hotels  \n",
       "29                                  compare hotels  \n",
       "...                                            ...  \n",
       "972751                             hawaii packages  \n",
       "972752                        online travel agency  \n",
       "972753                                travel sites  \n",
       "972754                       last minute vacations  \n",
       "972755                        all inclusive mexico  \n",
       "972756                                cheap travel  \n",
       "972757                             cheap caribbean  \n",
       "972758                                      travel  \n",
       "972759                            vacation planner  \n",
       "972760                    cheap spring break trips  \n",
       "972761                             weekend getaway  \n",
       "972762                             travel websites  \n",
       "972763                             cheap caribbean  \n",
       "972764              all inclusive hawaii honeymoon  \n",
       "972765                       last minute vacations  \n",
       "972766                        all inclusive hawaii  \n",
       "972767  cheap vacations all inclusive with airfare  \n",
       "972768              turks and caicos all inclusive  \n",
       "972769                    punta cana all inclusive  \n",
       "972770                             cheap caribbean  \n",
       "972771        all inclusive vacations with airfare  \n",
       "972772                       disney world packages  \n",
       "972773                            vacation planner  \n",
       "972774                           +hawaii +packages  \n",
       "972775                    +all +inclusive +florida  \n",
       "972776                        all inclusive hawaii  \n",
       "972777                        all inclusive hawaii  \n",
       "972778                        online travel agency  \n",
       "972779                       all inclusive bahamas  \n",
       "972780                                  van rental  \n",
       "\n",
       "[972781 rows x 2 columns]"
      ]
     },
     "execution_count": 9,
     "metadata": {},
     "output_type": "execute_result"
    }
   ],
   "source": [
    "import pandas as pd\n",
    "csv_path = \"/Users/aliosha/Downloads/contentcreation_searchqueryreport.csv\"\n",
    "df = pd.read_csv(csv_path)\n",
    "df"
   ]
  },
  {
   "cell_type": "code",
   "execution_count": 11,
   "metadata": {},
   "outputs": [],
   "source": [
    "from wordsegment import load, segment\n",
    "load()"
   ]
  },
  {
   "cell_type": "code",
   "execution_count": 14,
   "metadata": {},
   "outputs": [
    {
     "name": "stdout",
     "output_type": "stream",
     "text": [
      "cheaphotels ['cheap', 'hotels'] +cheap +hotels\n",
      "hotels deals ['hotels', 'deals'] hotel deals\n",
      "cheaphotels ['cheap', 'hotels'] cheap hotels\n",
      "cheap hots ['cheap', 'hots'] +cheap +hotels\n",
      "bcompare hitels ['b', 'compare', 'hitels'] compare hotels\n",
      "hotels compare ['hotels', 'compare'] compare hotels\n",
      "last min hotel deals ['last', 'min', 'hotel', 'deals'] last minute hotel deals\n",
      "cheap hotel ['cheap', 'hotel'] cheap hotels\n",
      "compate hotels ['compat', 'e', 'hotels'] compare hotels\n",
      "last minute hotwls ['last', 'minute', 'hotwls'] +last +minute +hotels\n"
     ]
    }
   ],
   "source": [
    "for i, words in enumerate(df['query'][:10]):\n",
    "    print(words, segment(words), df['keyword'][i])"
   ]
  },
  {
   "cell_type": "code",
   "execution_count": 8,
   "metadata": {},
   "outputs": [],
   "source": [
    "# get_related_terms('hotwls')"
   ]
  },
  {
   "cell_type": "code",
   "execution_count": 28,
   "metadata": {},
   "outputs": [],
   "source": [
    "words = word2vec.index2word\n",
    "\n",
    "w_rank = {}\n",
    "for i,word in enumerate(words):\n",
    "    w_rank[word] = i\n",
    "\n",
    "WORDS = w_rank"
   ]
  },
  {
   "cell_type": "code",
   "execution_count": 16,
   "metadata": {},
   "outputs": [],
   "source": [
    "import re\n",
    "from collections import Counter\n",
    "\n",
    "def words(text): return re.findall(r'\\w+', text.lower())\n",
    "\n",
    "def P(word): \n",
    "    \"Probability of `word`.\"\n",
    "    # use inverse of rank as proxy\n",
    "    # returns 0 if the word isn't in the dictionary\n",
    "    return - WORDS.get(word, 0)\n",
    "\n",
    "def correction(word): \n",
    "    \"Most probable spelling correction for word.\"\n",
    "    return max(candidates(word), key=P)\n",
    "\n",
    "def candidates(word): \n",
    "    \"Generate possible spelling corrections for word.\"\n",
    "    return (known([word]) or known(edits1(word)) or known(edits2(word)) or [word])\n",
    "\n",
    "def known(words): \n",
    "    \"The subset of `words` that appear in the dictionary of WORDS.\"\n",
    "    return set(w for w in words if w in WORDS)\n",
    "\n",
    "def edits1(word):\n",
    "    \"All edits that are one edit away from `word`.\"\n",
    "        letters    = 'abcdefghijklmnopqrstuvwxyz'\n",
    "    splits     = [(word[:i], word[i:])    for i in range(len(word) + 1)]\n",
    "    deletes    = [L + R[1:]               for L, R in splits if R]\n",
    "    transposes = [L + R[1] + R[0] + R[2:] for L, R in splits if len(R)>1]\n",
    "    replaces   = [L + c + R[1:]           for L, R in splits if R for c in letters]\n",
    "    inserts    = [L + c + R               for L, R in splits for c in letters]\n",
    "    return set(deletes + transposes + replaces + inserts)\n",
    "\n",
    "def edits2(word): \n",
    "    \"All edits that are two edits away from `word`.\"\n",
    "    return (e2 for e1 in edits1(word) for e2 in edits1(e1))"
   ]
  },
  {
   "cell_type": "code",
   "execution_count": 24,
   "metadata": {},
   "outputs": [
    {
     "data": {
      "text/plain": [
       "'hotels'"
      ]
     },
     "execution_count": 24,
     "metadata": {},
     "output_type": "execute_result"
    }
   ],
   "source": [
    "correction('hotwls')"
   ]
  },
  {
   "cell_type": "code",
   "execution_count": 27,
   "metadata": {},
   "outputs": [
    {
     "name": "stdout",
     "output_type": "stream",
     "text": [
      "cheaphotels ['cheap', 'hotels'] cheaphotels ['cheap', 'hotels'] +cheap +hotels\n",
      "hotels deals ['hotels', 'deals'] hotels deals ['hotels', 'deals'] hotel deals\n",
      "cheaphotels ['cheap', 'hotels'] cheaphotels ['cheap', 'hotels'] cheap hotels\n",
      "cheap hots ['cheap', 'hots'] cheapshots ['cheap', 'hots'] +cheap +hotels\n",
      "bcompare hitels ['b', 'compare', 'hitels'] bcompare hitels ['b', 'compare', 'hotels'] compare hotels\n",
      "hotels compare ['hotels', 'compare'] hotels compare ['hotels', 'compare'] compare hotels\n",
      "last min hotel deals ['last', 'min', 'hotel', 'deals'] last min hotel deals ['last', 'min', 'hotel', 'deals'] last minute hotel deals\n",
      "cheap hotel ['cheap', 'hotel'] cheap hotel ['cheap', 'hotel'] cheap hotels\n",
      "compate hotels ['compat', 'e', 'hotels'] compate hotels ['combat', 'e', 'hotels'] compare hotels\n",
      "last minute hotwls ['last', 'minute', 'hotwls'] last minute hotwls ['last', 'minute', 'hotels'] +last +minute +hotels\n"
     ]
    }
   ],
   "source": [
    "for i, words in enumerate(df['query'][:10]):\n",
    "    print(words, segment(words), correction(words), list(map(correction, segment(words))), df['keyword'][i])"
   ]
  },
  {
   "cell_type": "code",
   "execution_count": 38,
   "metadata": {},
   "outputs": [
    {
     "name": "stdout",
     "output_type": "stream",
     "text": [
      "hotels deals ['hotels', 'deals'] hotel deals\n",
      "cheap hots ['cheap', 'hots'] +cheap +hotels\n",
      "bcompare hitels ['b', 'compare', 'hotels'] compare hotels\n",
      "last min hotel deals ['last', 'min', 'hotel', 'deals'] last minute hotel deals\n",
      "cheap hotel ['cheap', 'hotel'] cheap hotels\n",
      "compate hotels ['combat', 'e', 'hotels'] compare hotels\n",
      "last minute holiday ['last', 'minute', 'holiday'] last minute holidays\n",
      "compare hotel ['compare', 'hotel'] compare hotels\n",
      "hotel compare ['hotel', 'compare'] compare hotels\n",
      "hotel compare ['hotel', 'compare'] +compare +hotels\n",
      "hotel last minute ['hotel', 'last', 'minute'] +last +minute +hotels\n",
      "last miute hotels ['last', 'mi', 'ute', 'hotels'] last minute hotels\n",
      "hptel deala ['hotel', 'deal', 'at'] hotel deals\n"
     ]
    }
   ],
   "source": [
    "for i, words in enumerate(df['query'][:20]):\n",
    "    if set(list(map(correction, segment(words)))) != set(df['keyword'][i].replace(\"+\", \"\").split()):\n",
    "        print(words, list(map(correction, segment(words))), df['keyword'][i])"
   ]
  },
  {
   "cell_type": "code",
   "execution_count": 40,
   "metadata": {},
   "outputs": [
    {
     "data": {
      "text/plain": [
       "('minute', ['mi', 'ute'])"
      ]
     },
     "execution_count": 40,
     "metadata": {},
     "output_type": "execute_result"
    }
   ],
   "source": [
    "correction('miute'), segment('miute')"
   ]
  },
  {
   "cell_type": "code",
   "execution_count": 13,
   "metadata": {},
   "outputs": [],
   "source": [
    "def word_algebra(add=[], subtract=[], topn=4):\n",
    "    \"\"\"\n",
    "    combine the vectors associated with the words provided\n",
    "    in add= and subtract=, look up the topn most similar\n",
    "    terms to the combined vector, and print the result(s)\n",
    "    \"\"\"\n",
    "    answers = word2vec.most_similar(positive=add, negative=subtract, topn=topn)\n",
    "    \n",
    "    for term, similarity in answers:\n",
    "        print( term)"
   ]
  },
  {
   "cell_type": "code",
   "execution_count": 14,
   "metadata": {},
   "outputs": [
    {
     "name": "stdout",
     "output_type": "stream",
     "text": [
      "queen\n",
      "monarch\n",
      "princess\n",
      "prince\n"
     ]
    }
   ],
   "source": [
    "word_algebra(add=['king', 'woman'], subtract=['man'])"
   ]
  },
  {
   "cell_type": "code",
   "execution_count": 16,
   "metadata": {},
   "outputs": [
    {
     "name": "stdout",
     "output_type": "stream",
     "text": [
      "sashimi\n",
      "schnitzels\n",
      "fondues\n",
      "burger\n"
     ]
    }
   ],
   "source": [
    "word_algebra(add=['sushi', 'germany'], subtract=['japan'])"
   ]
  },
  {
   "cell_type": "code",
   "execution_count": 47,
   "metadata": {},
   "outputs": [
    {
     "name": "stdout",
     "output_type": "stream",
     "text": [
      "gynecologist\n",
      "nurse\n",
      "doctors\n",
      "physician\n"
     ]
    }
   ],
   "source": [
    "word_algebra(add=['doctor', 'woman'], subtract=['man'])"
   ]
  },
  {
   "cell_type": "code",
   "execution_count": 48,
   "metadata": {},
   "outputs": [
    {
     "name": "stdout",
     "output_type": "stream",
     "text": [
      "physician\n",
      "doctors\n",
      "surgeon\n",
      "dentist\n"
     ]
    }
   ],
   "source": [
    "word_algebra(add=['doctor', 'man'], subtract=['woman'])"
   ]
  },
  {
   "cell_type": "code",
   "execution_count": 32,
   "metadata": {},
   "outputs": [
    {
     "name": "stdout",
     "output_type": "stream",
     "text": [
      "frustration\n"
     ]
    }
   ],
   "source": [
    "word_algebra(add=['anger', 'man'], subtract=['woman'])"
   ]
  },
  {
   "cell_type": "code",
   "execution_count": 33,
   "metadata": {},
   "outputs": [
    {
     "name": "stdout",
     "output_type": "stream",
     "text": [
      "resentment\n"
     ]
    }
   ],
   "source": [
    "word_algebra(add=['anger', 'woman'], subtract=['man'])"
   ]
  },
  {
   "cell_type": "code",
   "execution_count": 24,
   "metadata": {},
   "outputs": [
    {
     "name": "stdout",
     "output_type": "stream",
     "text": [
      "hours\n"
     ]
    }
   ],
   "source": [
    "word_algebra(add=['happy', 'hour'])"
   ]
  },
  {
   "cell_type": "code",
   "execution_count": 44,
   "metadata": {},
   "outputs": [
    {
     "name": "stdout",
     "output_type": "stream",
     "text": [
      "lunches\n"
     ]
    }
   ],
   "source": [
    "word_algebra(add=['lunch', 'breakfast'], subtract=[u'night'])"
   ]
  },
  {
   "cell_type": "code",
   "execution_count": 25,
   "metadata": {},
   "outputs": [
    {
     "name": "stdout",
     "output_type": "stream",
     "text": [
      "dinner\n"
     ]
    }
   ],
   "source": [
    "word_algebra(add=[u'lunch', u'night'], subtract=[u'day'])"
   ]
  },
  {
   "cell_type": "code",
   "execution_count": 26,
   "metadata": {},
   "outputs": [
    {
     "name": "stdout",
     "output_type": "stream",
     "text": [
      "noodle\n"
     ]
    }
   ],
   "source": [
    "word_algebra(add=[u'taco', u'chinese'], subtract=[u'mexican'])"
   ]
  },
  {
   "cell_type": "code",
   "execution_count": 27,
   "metadata": {},
   "outputs": [
    {
     "name": "stdout",
     "output_type": "stream",
     "text": [
      "buns\n"
     ]
    }
   ],
   "source": [
    "word_algebra(add=[u'bun', u'mexican'], subtract=[u'american'])"
   ]
  },
  {
   "cell_type": "code",
   "execution_count": 30,
   "metadata": {},
   "outputs": [
    {
     "name": "stdout",
     "output_type": "stream",
     "text": [
      "dinning\n"
     ]
    }
   ],
   "source": [
    "word_algebra(add=[u'burger', u'dining', 'fine'])"
   ]
  },
  {
   "cell_type": "code",
   "execution_count": 9,
   "metadata": {},
   "outputs": [
    {
     "name": "stdout",
     "output_type": "stream",
     "text": [
      "dining               0.795\n",
      "buffet               0.545\n",
      "dine                 0.516\n",
      "buffets              0.514\n",
      "cuisine              0.501\n",
      "restaurant           0.499\n",
      "tapas                0.499\n",
      "alfresco             0.49\n",
      "bistro               0.489\n",
      "amenities            0.489\n"
     ]
    }
   ],
   "source": [
    "get_related_terms('dinning')"
   ]
  },
  {
   "cell_type": "code",
   "execution_count": 31,
   "metadata": {},
   "outputs": [
    {
     "name": "stdout",
     "output_type": "stream",
     "text": [
      "dinner\n"
     ]
    }
   ],
   "source": [
    "word_algebra(add=[u'breakfast', u'lunch'])"
   ]
  },
  {
   "cell_type": "code",
   "execution_count": 1,
   "metadata": {},
   "outputs": [],
   "source": [
    "import fasttext"
   ]
  },
  {
   "cell_type": "code",
   "execution_count": null,
   "metadata": {},
   "outputs": [],
   "source": [
    "model_path = \"/Users/aliosha/Downloads/wiki-news-300d-1M-subword.vec\"\n",
    "model = fasttext.load_model(model_path)\n",
    "print(model.words) # list of words in dictionary\n",
    "print(model['king']) # get the vector of the word 'king'"
   ]
  },
  {
   "cell_type": "code",
   "execution_count": 49,
   "metadata": {},
   "outputs": [],
   "source": [
    "import spacy\n",
    "nlp = spacy.load('en')"
   ]
  },
  {
   "cell_type": "code",
   "execution_count": 50,
   "metadata": {},
   "outputs": [],
   "source": [
    "king = nlp('king')"
   ]
  },
  {
   "cell_type": "code",
   "execution_count": 69,
   "metadata": {},
   "outputs": [
    {
     "data": {
      "text/plain": [
       "0.5411764117257293"
      ]
     },
     "execution_count": 69,
     "metadata": {},
     "output_type": "execute_result"
    }
   ],
   "source": [
    "king.similarity(nlp(\"queen\"))"
   ]
  },
  {
   "cell_type": "code",
   "execution_count": 55,
   "metadata": {},
   "outputs": [
    {
     "data": {
      "text/plain": [
       "(array([ 1.45773888e+00,  2.83182764e+00,  5.46466875e+00,  1.51435220e+00,\n",
       "        -1.47675800e+00,  3.05633354e+00, -1.53775227e+00, -9.32716802e-02,\n",
       "         2.35651612e-01, -5.98909557e-02,  6.69459343e-01,  3.19723344e+00,\n",
       "         8.52864206e-01, -1.30748177e+00,  2.07128286e+00,  2.21523643e+00,\n",
       "        -9.58889782e-01,  9.92561042e-01, -9.41402555e-01, -1.42283440e+00,\n",
       "        -7.03022182e-01,  2.78770661e+00,  3.41575956e+00,  2.30089259e+00,\n",
       "        -3.46750927e+00, -7.17997253e-01, -1.10789466e+00, -5.07554829e-01,\n",
       "        -1.61082745e-01, -4.48013723e-01, -1.51986390e-01,  4.05589914e+00,\n",
       "        -4.27406430e-01,  8.70972812e-01, -7.69125164e-01, -2.88991594e+00,\n",
       "        -1.67702293e+00,  1.10237217e+00, -3.80001736e+00,  1.18974781e+00,\n",
       "         4.65255231e-01,  4.02796125e+00,  2.30706263e+00, -2.28130507e+00,\n",
       "        -4.53758001e+00,  6.57765865e-01,  1.84021115e+00, -1.28828511e-01,\n",
       "         6.55127525e-01, -2.29910135e+00, -3.57927728e+00,  1.37840033e+00,\n",
       "        -2.39648795e+00, -2.42281127e+00, -6.82719707e-01, -1.82054210e+00,\n",
       "        -3.23598087e-01, -2.73748815e-01, -2.11488461e+00,  2.05562377e+00,\n",
       "        -1.84401059e+00,  2.95032263e-01, -2.42749763e+00,  3.13088703e+00,\n",
       "        -1.20938933e+00, -5.99607885e-01,  4.61571884e+00, -3.07847500e+00,\n",
       "        -1.17788458e+00,  3.03988981e+00, -1.82163417e-01, -1.37117612e+00,\n",
       "         3.95328236e+00,  1.99466467e-01, -2.34769583e+00,  1.74802196e+00,\n",
       "         2.53167582e+00, -1.14582801e+00,  2.22818947e+00,  1.87952805e+00,\n",
       "        -3.42091751e+00, -4.00870371e+00,  2.40208715e-01, -1.17230773e+00,\n",
       "         1.51734769e-01, -1.07489109e-01,  6.85764551e-02, -4.59158242e-01,\n",
       "        -1.03956163e+00,  5.85837185e-01, -1.27055597e+00,  1.06471646e+00,\n",
       "        -1.21001035e-01,  2.39917994e+00, -1.87759387e+00,  6.43266439e-01,\n",
       "        -1.77857304e+00, -2.35608745e+00,  4.10219097e+00, -1.14508688e+00,\n",
       "        -1.94949532e+00, -4.48189497e-01, -4.41417038e-01, -2.30040455e+00,\n",
       "        -4.64064091e-01,  9.01833832e-01,  1.31517375e+00, -1.14907718e+00,\n",
       "         1.93442512e+00, -4.81329411e-02,  5.85312068e-01,  1.40690315e+00,\n",
       "         1.11544776e+00, -5.28967142e+00,  2.63519716e+00,  3.91915846e+00,\n",
       "         3.85273397e-01,  2.43710637e+00, -3.04531813e+00,  1.10653663e+00,\n",
       "         3.17573833e+00, -5.39992332e-01, -9.71252561e-01,  1.64909947e+00,\n",
       "        -2.59681392e+00, -1.70655966e+00,  3.46198177e+00, -2.43679023e+00,\n",
       "        -3.66486073e-01, -3.12326670e-01, -1.72518969e-01, -1.05896495e-01,\n",
       "        -3.78947288e-01,  5.34538925e-02,  1.47019804e-01,  7.35114455e-01,\n",
       "        -2.66920477e-02,  1.15555473e-01,  4.55671966e-01,  4.07147408e-03,\n",
       "        -4.34087783e-01,  1.13443129e-01, -2.20862925e-01, -1.78990930e-01,\n",
       "        -3.24379325e-01,  2.73785293e-01, -3.15083295e-01, -2.65352368e-01,\n",
       "         3.99412215e-02,  2.95803435e-02, -3.84756148e-01,  3.45859051e-01,\n",
       "         9.77905318e-02, -3.37081850e-01,  7.19206482e-02, -4.45177853e-01,\n",
       "        -6.61812127e-02, -7.53326774e-01, -1.33008957e-02, -2.06544414e-01,\n",
       "         4.95746583e-02, -1.44116536e-01,  2.26053879e-01,  1.61736101e-01,\n",
       "         6.64803147e-01, -2.92083681e-01,  4.83353585e-01,  3.42405945e-01,\n",
       "        -4.80596364e-01,  2.76744813e-02, -2.06055045e-02, -2.24714831e-01,\n",
       "         7.50050187e-01,  4.56968099e-01, -2.62937546e-01, -3.43290925e-01,\n",
       "        -4.01177913e-01, -1.03582829e-01, -3.36786360e-01, -1.01281911e-01,\n",
       "        -1.41259849e-01,  2.27100253e-02, -7.99960792e-02, -1.34581879e-01,\n",
       "         4.21177000e-01, -2.16565758e-01,  1.19662607e+00,  2.00878739e-01,\n",
       "         3.61088693e-01,  7.48862743e-01, -1.81161046e-01,  3.23635340e-01,\n",
       "        -1.34975210e-01,  3.54187906e-01, -1.56653523e-01, -3.74212563e-01,\n",
       "         2.66749501e-01,  1.50858805e-01, -4.80260551e-01, -3.18552196e-01,\n",
       "         5.49825311e-01,  6.03871942e-01,  5.44609308e-01,  8.96337628e-03,\n",
       "         3.23434740e-01,  3.63463461e-01, -1.38940364e-01,  4.15973544e-01,\n",
       "         4.73870486e-02, -2.80341923e-01, -5.47292769e-01, -2.73299217e-01,\n",
       "         1.31538436e-01,  5.01526892e-02, -1.25439990e+00, -4.73472863e-01,\n",
       "        -4.21792239e-01, -3.10805589e-01,  5.40957034e-01, -3.27560008e-01,\n",
       "        -4.25812602e-01, -1.45586133e-02,  2.85050750e-01,  3.42289507e-02,\n",
       "        -2.94589996e-01, -6.97984874e-01, -1.17447749e-01, -2.89007127e-01,\n",
       "        -3.66535187e-02,  7.77293265e-01, -6.06824279e-01,  7.39446163e-01,\n",
       "        -5.52087724e-02,  1.87866256e-01, -4.21922743e-01,  8.55843723e-02,\n",
       "        -3.47320348e-01,  9.04611796e-02, -2.97489166e-01, -7.63206184e-01,\n",
       "         2.29734197e-01, -3.81726682e-01,  3.71118128e-01, -6.43107772e-01,\n",
       "        -1.76539987e-01,  6.61251068e-01,  1.86204299e-01,  3.06545883e-01,\n",
       "        -1.72424898e-01, -4.02245700e-01,  3.58007759e-01, -5.77963293e-02,\n",
       "        -1.53977722e-02,  7.82851279e-01,  2.59233229e-02,  9.83615637e-01,\n",
       "        -5.32438397e-01, -6.13356411e-01, -4.17229861e-01,  7.84935713e-01,\n",
       "        -3.48777235e-01, -6.36595488e-01, -3.32141250e-01, -6.85507536e-01,\n",
       "        -1.05062440e-01, -2.95131445e-01, -6.41373098e-01, -2.49623463e-01,\n",
       "         7.10305333e-01,  2.26518512e-01, -8.76783848e-01,  6.43601656e-01,\n",
       "        -3.23155999e-01, -2.03750104e-01, -4.92096305e-01,  4.05191332e-02,\n",
       "        -3.53572875e-01,  1.43932551e-01,  6.48491740e-01, -4.64434654e-01,\n",
       "        -6.23143911e-01,  5.83326876e-01, -2.54838556e-01,  2.72119671e-01,\n",
       "        -3.74129057e-01,  2.88507938e-01,  4.03127700e-01, -6.70487702e-01,\n",
       "        -5.93080997e-01,  7.46787429e-01,  2.99594879e-01,  2.45164990e-01,\n",
       "         2.40987659e-01,  4.94752198e-01, -3.05852443e-02, -9.67525840e-01,\n",
       "        -3.24484766e-01, -5.25287390e-01, -3.14558506e-01, -2.38375425e-01,\n",
       "        -2.29550123e-01,  4.91755962e-01, -1.41322315e-02, -7.62545526e-01,\n",
       "         1.74942687e-01, -8.62130895e-02,  2.47167766e-01, -2.93015718e-01,\n",
       "         1.66022569e-01, -3.71473283e-03,  1.90513819e-01,  6.85128868e-01,\n",
       "         2.12534592e-01,  8.25692475e-01,  1.32169485e+00, -6.65037394e-01,\n",
       "         8.34801197e-02,  1.01240039e+00, -5.46255946e-01, -2.35377535e-01,\n",
       "         7.56946921e-01, -6.67934045e-02, -1.10660002e-01,  2.21752495e-01,\n",
       "        -4.93770838e-02,  4.36834954e-02,  6.01386487e-01, -3.88903946e-01,\n",
       "        -3.20745736e-01,  6.38112903e-01, -2.51591504e-02,  5.67789376e-01,\n",
       "        -4.10896957e-01,  1.39258057e-01,  9.09620076e-02, -6.86237454e-01,\n",
       "        -9.17361379e-02,  8.03899765e-02, -1.18073255e-01, -1.30819738e-01,\n",
       "        -3.65453780e-01,  8.85383785e-01,  3.63823682e-01,  2.97720283e-02,\n",
       "        -1.54915959e-01,  1.53886378e-01, -3.66598606e-01,  1.22167528e+00,\n",
       "        -9.47444066e-02,  1.61382198e-01, -3.36462170e-01,  2.73023874e-01,\n",
       "        -1.17066753e+00,  8.31595242e-01,  4.03353453e-01,  4.87585366e-01,\n",
       "         2.76875794e-02, -3.16566497e-01, -4.63015109e-01, -4.99754459e-01,\n",
       "        -6.68715596e-01,  7.49003768e-01,  1.51200593e-02,  3.54804844e-01,\n",
       "        -1.13353109e+00,  2.11185336e-01,  7.85478294e-01,  7.58949935e-01,\n",
       "         7.86218166e-01,  9.71740335e-02, -5.52774310e-01,  6.66232184e-02,\n",
       "        -2.68771857e-01, -2.81779438e-01, -2.21611530e-01,  3.92918706e-01,\n",
       "        -2.46892005e-01, -2.53963172e-01,  2.78526604e-01, -9.38439667e-02,\n",
       "         1.57431930e-01,  2.06985980e-01,  3.27615917e-01, -6.96713030e-02],\n",
       "       dtype=float32), 384)"
      ]
     },
     "execution_count": 55,
     "metadata": {},
     "output_type": "execute_result"
    }
   ],
   "source": [
    "nlp('hotwls').vector, len(nlp('hotwls').vector)"
   ]
  },
  {
   "cell_type": "code",
   "execution_count": 56,
   "metadata": {},
   "outputs": [
    {
     "data": {
      "text/plain": [
       "array([ 4.34063822e-02,  1.02627501e-02,  2.96526169e-03,  4.81171533e-02,\n",
       "       -8.83269403e-03, -1.24498932e-02,  3.85273732e-02, -6.83061704e-02,\n",
       "        1.76653881e-02,  1.25171900e-01, -8.34479332e-02, -1.04309916e-01,\n",
       "       -6.12400137e-02, -8.58033169e-03, -5.78751788e-02, -5.85481450e-02,\n",
       "        1.19451676e-02,  1.79808424e-03,  1.59829706e-02,  4.44158353e-02,\n",
       "        4.71077040e-02,  3.88638563e-02,  2.05255002e-02,  4.71077040e-02,\n",
       "        3.48260514e-02, -6.09035306e-02, -8.68127644e-02,  2.06096210e-02,\n",
       "        1.17769256e-01, -1.07254144e-02,  3.60037461e-02,  2.12825872e-02,\n",
       "        4.29016575e-02,  1.37958273e-01, -1.11039586e-01,  2.89375894e-02,\n",
       "        1.34593435e-02,  2.01890152e-03,  2.42268182e-02,  5.95575981e-02,\n",
       "        4.77806702e-02, -7.97466114e-02,  9.75802392e-02,  4.91266064e-02,\n",
       "        1.17769256e-01, -8.24384764e-03, -3.78544033e-02,  1.14404419e-02,\n",
       "       -1.88430808e-02,  5.27858641e-03, -5.58562763e-02,  5.45103438e-02,\n",
       "       -8.95046368e-02,  6.93997415e-03, -5.61927594e-02,  4.67922509e-04,\n",
       "       -4.97995727e-02, -1.96001697e-02,  1.48052778e-02, -8.49621091e-03,\n",
       "        6.39318824e-02,  1.54109493e-01,  3.30174528e-03,  4.54252847e-02,\n",
       "        3.39848436e-02, -6.39318824e-02, -3.44895683e-02, -4.60982509e-02,\n",
       "       -4.30698991e-02,  9.75802392e-02,  4.23969328e-02,  1.83383562e-02,\n",
       "       -6.12400137e-02,  2.96105556e-02, -7.52882054e-03,  7.06615532e-03,\n",
       "       -4.81171533e-02,  8.66445247e-03,  4.77806702e-02, -3.63402292e-02,\n",
       "        4.77806702e-02,  3.06200068e-02, -2.59092376e-02, -7.36057851e-03,\n",
       "        5.95575981e-02,  1.59829706e-02, -9.15235355e-02,  3.07041290e-03,\n",
       "        5.14819883e-02,  1.30387396e-02,  8.21020007e-02, -4.29016575e-02,\n",
       "       -7.50358403e-02, -6.25859499e-02,  1.02627501e-02,  1.96842905e-02,\n",
       "       -9.96832643e-03,  4.29016585e-03,  3.33118774e-02, -7.97466114e-02,\n",
       "        2.00207736e-02,  2.30491254e-02,  2.43950598e-02, -1.06328815e-01,\n",
       "       -7.40263909e-02,  5.01360558e-02, -1.47379816e-01, -3.23865470e-03,\n",
       "        5.31644076e-02, -2.64139622e-02,  9.95991454e-02,  9.55613405e-02,\n",
       "       -1.67584600e-04, -4.71077040e-02,  1.11712553e-01, -8.47938657e-02,\n",
       "       -1.04625372e-03, -7.30169415e-02,  4.30698991e-02,  9.28694755e-02,\n",
       "        7.03250691e-02,  2.84328647e-02, -6.93156198e-02, -5.51833101e-02,\n",
       "       -1.30387396e-02, -4.13874835e-02,  3.97050641e-02, -1.41323106e-02,\n",
       "       -1.36275860e-02, -3.09564900e-02,  2.18714331e-03,  6.99885860e-02,\n",
       "        6.42683655e-02,  9.42154080e-02,  2.17031911e-02,  4.87901196e-02,\n",
       "       -3.38166021e-02,  4.77806702e-02,  6.29224330e-02,  5.98940812e-02,\n",
       "        5.98940812e-02, -8.17655101e-02,  6.15764968e-02,  2.18714345e-02,\n",
       "        8.14290270e-02, -7.20074922e-02,  3.01152822e-02, -5.72022125e-02,\n",
       "       -2.72551719e-02,  8.37844163e-02, -3.06200068e-02,  4.37428690e-02,\n",
       "       -7.46993572e-02, -5.98940812e-02, -1.23825960e-01, -2.84328647e-02,\n",
       "       -2.23761592e-02,  1.74971465e-02,  4.67712209e-02, -2.57409941e-02,\n",
       "       -5.65292425e-02,  3.97471245e-03,  1.53436527e-01, -7.43628740e-02,\n",
       "       -3.83591317e-02, -6.62872717e-02,  5.88846281e-02, -4.30698991e-02,\n",
       "        9.14814766e-04,  6.62872717e-02, -6.02305643e-02,  4.81171533e-02,\n",
       "        1.00945078e-01,  3.90320979e-02,  2.05255002e-02, -2.20396761e-02,\n",
       "        3.43213268e-02, -9.37948003e-03,  6.77173259e-03,  1.47211570e-02,\n",
       "       -8.47938657e-02,  2.20396761e-02, -7.77277127e-02, -5.82116619e-02,\n",
       "        9.98935662e-04,  2.82646213e-02,  1.17769256e-01,  1.48893995e-02,\n",
       "        4.57617678e-02,  4.91266064e-02,  2.62457207e-02,  2.06096210e-02,\n",
       "       -4.10510004e-02,  9.46360116e-04, -2.17031911e-02, -9.37948003e-03,\n",
       "       -1.66138774e-03, -2.82646213e-02, -8.58033169e-03, -1.37958273e-01,\n",
       "       -3.68449539e-02,  1.46370362e-02,  2.67504454e-02, -4.02097888e-02,\n",
       "        2.54045110e-02, -3.17976996e-02,  3.71814370e-02,  5.45103438e-02,\n",
       "        1.46370362e-02,  4.37428690e-02,  1.24498932e-02,  9.21965018e-02,\n",
       "       -3.48260514e-02, -1.04309916e-01, -1.98525321e-02,  1.74130257e-02,\n",
       "        1.81385694e-04, -7.13345185e-02, -4.77806702e-02, -3.09144310e-03,\n",
       "       -9.58978292e-03, -4.87901196e-02,  7.13345185e-02, -5.45103438e-02,\n",
       "        4.40793522e-02,  5.14819883e-02, -7.73912249e-03, -2.91058309e-02,\n",
       "        4.22286913e-02,  7.43628740e-02, -7.36899078e-02, -1.07674748e-01,\n",
       "       -1.28536731e-01,  1.40902505e-03,  3.70131955e-02,  3.68449539e-02,\n",
       "        2.52362695e-02,  3.09144310e-03, -1.33752227e-02, -4.47523184e-02,\n",
       "        5.14819883e-02, -7.40263909e-02, -6.33535499e-04,  3.41530852e-02,\n",
       "        5.41738607e-02, -3.93685810e-02, -7.06615523e-02,  3.41530852e-02,\n",
       "        1.27190799e-01, -6.79696873e-02,  1.21975299e-02,  3.76861617e-02,\n",
       "        4.54252847e-02,  5.75386956e-02,  8.10925439e-02,  3.61719877e-02,\n",
       "       -1.70933664e-01, -5.65292425e-02, -5.38373739e-02, -1.80018730e-02,\n",
       "        3.54990177e-02,  8.37844163e-02, -6.49413317e-02,  1.74971465e-02,\n",
       "       -3.23024243e-02, -2.30491254e-02,  7.82324374e-03,  2.62457207e-02,\n",
       "        9.95991454e-02,  1.07001781e-01, -1.85065977e-02,  7.87371621e-02,\n",
       "        8.66445247e-03,  2.33856104e-02, -4.17239666e-02, -7.43628740e-02,\n",
       "       -9.42154080e-02, -1.05992332e-02, -1.16423324e-01,  5.28279245e-02,\n",
       "        8.04195777e-02, -7.16710091e-02,  1.28536731e-01,  2.82646213e-02,\n",
       "        8.68127644e-02, -2.62457207e-02, -1.60670914e-02, -7.69706210e-03,\n",
       "        1.03048105e-02, -2.04413775e-02, -1.60881213e-03, -8.41208994e-02,\n",
       "       -7.23439753e-02, -9.89261791e-02, -1.56464875e-02, -6.12400137e-02,\n",
       "       -9.62343067e-02, -2.96105556e-02,  3.14612165e-02,  8.68127644e-02],\n",
       "      dtype=float32)"
      ]
     },
     "execution_count": 56,
     "metadata": {},
     "output_type": "execute_result"
    }
   ],
   "source": [
    "word2vec['king']"
   ]
  },
  {
   "cell_type": "code",
   "execution_count": 57,
   "metadata": {},
   "outputs": [
    {
     "data": {
      "text/plain": [
       "array([ 1.48305893e+00,  9.17569697e-01,  2.25083351e+00,  3.24793518e-01,\n",
       "       -1.37231588e+00,  1.44559300e+00, -3.10486317e+00,  1.91495144e+00,\n",
       "        1.05375540e+00, -5.13333082e-02,  4.10352439e-01,  1.80987620e+00,\n",
       "        1.65341759e+00, -1.18028963e+00, -1.41294253e+00,  1.38764441e-01,\n",
       "       -2.34269667e+00, -5.50462484e-01, -1.36713350e+00,  5.95221639e-01,\n",
       "        7.72028208e-01,  8.96306992e-01,  1.30380225e+00,  7.38372564e-01,\n",
       "       -2.38990426e+00, -1.10300136e+00, -1.19724071e+00,  5.86394906e-01,\n",
       "        5.59402466e-01,  1.42483914e+00,  8.09802055e-01,  2.73346710e+00,\n",
       "       -2.06652224e-01,  2.60167551e+00, -1.03043389e+00,  4.77685452e-01,\n",
       "       -6.84206486e-02,  1.01545691e+00, -2.63299918e+00,  1.55441165e-02,\n",
       "        2.83278227e-02,  2.82656860e+00,  1.12389207e+00,  8.76602650e-01,\n",
       "       -2.36223507e+00,  1.60424197e+00, -1.04516745e-01,  4.38667774e-01,\n",
       "        3.07159114e+00, -6.58004045e-01,  3.49915147e-01, -3.46917391e-01,\n",
       "       -1.26298451e+00,  8.82118821e-01, -1.54553032e+00, -1.23508286e+00,\n",
       "        1.71472478e+00,  7.06214249e-01, -2.91698647e+00, -4.52356398e-01,\n",
       "       -2.40474987e+00,  1.37328625e+00, -1.01723289e+00,  5.22305965e-01,\n",
       "       -1.82429075e-01, -2.60329247e-02,  7.05940366e-01, -3.48656774e+00,\n",
       "       -1.37055743e+00, -3.55038673e-01, -9.35060501e-01, -9.28181708e-01,\n",
       "        2.15679693e+00, -2.52720058e-01, -5.01742125e-01,  2.63825035e+00,\n",
       "        1.94959939e+00, -1.85810459e+00,  9.43107605e-02,  4.24901575e-01,\n",
       "       -1.81368160e+00, -3.14889145e+00, -1.25525808e+00, -1.52050149e+00,\n",
       "        4.46406543e-01, -4.06621695e-02,  6.99006677e-01, -1.01245666e+00,\n",
       "       -2.17782319e-01,  1.18724370e+00, -2.56813478e+00,  1.94432425e+00,\n",
       "       -8.30942273e-01,  5.88364840e-01, -2.56612754e+00,  2.10048795e+00,\n",
       "       -7.03434646e-01, -2.31515884e-01,  8.80818963e-01,  1.29474151e+00,\n",
       "       -1.34427345e+00,  2.08165526e-01, -1.25921428e-01,  4.14429814e-01,\n",
       "        3.56272161e-01,  3.32622617e-01, -5.48248827e-01, -1.71398377e+00,\n",
       "       -1.66729778e-01,  2.86706686e-02, -6.37952805e-01,  6.23000860e-01,\n",
       "        2.41536051e-01, -2.27584863e+00,  4.85986853e+00,  3.10732651e+00,\n",
       "       -7.10354447e-01,  3.05376947e-01, -1.17517281e+00,  9.80653822e-01,\n",
       "        1.95150137e+00, -1.50864065e+00,  7.03949928e-01,  3.16644609e-01,\n",
       "       -1.28799403e+00, -1.40889192e+00,  2.22641206e+00, -2.49456525e+00,\n",
       "       -5.04427314e-01, -2.20734164e-01,  1.35612845e-01, -2.88660616e-01,\n",
       "       -3.54543179e-02,  2.89772339e-02, -3.02677035e-01,  2.08152682e-02,\n",
       "        3.72339934e-01, -8.63654912e-02,  2.59003997e-01,  2.66558051e-01,\n",
       "        2.01666445e-01, -2.60780752e-03, -3.87617886e-01,  4.87960577e-02,\n",
       "       -1.34328723e-01,  8.95975083e-02, -8.16969424e-02,  2.15931267e-01,\n",
       "        2.15380013e-01,  1.86742350e-01, -1.90827727e-01, -2.88137421e-02,\n",
       "        2.06353366e-02, -3.37221980e-01,  2.11408556e-01, -3.64876777e-01,\n",
       "       -4.65674043e-01, -4.61932629e-01, -3.32914382e-01,  1.57689109e-01,\n",
       "        1.53907001e-01,  1.33529767e-01, -1.07220367e-01, -1.61840945e-01,\n",
       "       -4.61065620e-02, -3.45479101e-02,  4.67001438e-01,  4.25448895e-01,\n",
       "       -5.33207953e-01,  4.79451120e-02, -4.40957189e-01, -5.50092608e-02,\n",
       "        2.64573574e-01, -1.20535016e-01, -3.53659332e-01,  3.12969685e-02,\n",
       "       -1.47661775e-01,  2.35879928e-01, -7.17175454e-02,  2.65092313e-01,\n",
       "       -4.87239063e-02,  1.22915126e-01, -1.57671869e-02, -1.48369312e-01,\n",
       "       -4.28596735e-01, -4.55875754e-01,  2.67409384e-01,  1.92398533e-01,\n",
       "        2.31526360e-01,  6.92872107e-01, -4.80970442e-02,  1.38341933e-01,\n",
       "        6.07045665e-02,  3.28058451e-01, -2.67621428e-01, -1.89152509e-02,\n",
       "        7.49952495e-02,  5.56178391e-01, -3.60985696e-01, -6.15873873e-01,\n",
       "        7.18190908e-01,  7.70908356e-01,  1.70571893e-01,  4.80203927e-01,\n",
       "        5.08259833e-02,  2.52560794e-01,  2.85522118e-02,  3.98437947e-01,\n",
       "       -3.94920647e-01, -3.87073815e-01,  2.72301346e-01, -4.43987608e-01,\n",
       "        6.63996935e-02, -5.03017381e-02, -1.08311725e+00, -2.20204026e-01,\n",
       "       -3.49734962e-01, -2.14173570e-01,  1.00721046e-01, -2.98260748e-01,\n",
       "       -4.87778276e-01, -1.75136372e-01, -1.61721945e-01, -3.00266653e-01,\n",
       "        3.17025706e-02, -1.25891954e-01, -1.23113677e-01, -1.16108596e-01,\n",
       "        5.61973453e-02,  7.69585490e-01, -3.32250029e-01,  6.54837728e-01,\n",
       "        2.37902492e-01,  1.96573138e-02, -3.34946454e-01, -1.66790769e-01,\n",
       "       -4.62374866e-01,  1.50595665e-01,  9.97786522e-02,  4.46910501e-01,\n",
       "        6.47194535e-02,  2.15902776e-01,  2.80265838e-01, -3.49678218e-01,\n",
       "        1.31785572e-01,  4.51546520e-01, -9.23742726e-02,  2.01925620e-01,\n",
       "        1.16575480e-01, -6.12232983e-01,  3.40236664e-01, -5.94087914e-02,\n",
       "       -1.21828191e-01,  2.48102993e-02,  2.25047052e-01,  8.59791875e-01,\n",
       "       -3.70561033e-01, -5.62394738e-01, -7.31751025e-02,  5.62516689e-01,\n",
       "       -8.11370537e-02, -6.63770795e-01, -2.97230810e-01, -2.00376272e-01,\n",
       "       -2.05060512e-01, -3.35776299e-01, -4.69178468e-01, -1.16910189e-02,\n",
       "        3.59017283e-01, -6.77885115e-02, -5.24354875e-01,  6.60036683e-01,\n",
       "        1.09900236e-02, -2.78427958e-01, -7.62498200e-01, -1.78414851e-01,\n",
       "       -2.42941022e-01,  1.99934423e-01,  7.59734511e-01, -7.41335809e-01,\n",
       "       -5.29621243e-01,  2.43286952e-01, -2.06208780e-01,  3.89209092e-01,\n",
       "       -2.53534108e-01,  2.84348518e-01, -1.42132610e-01, -6.02699280e-01,\n",
       "        9.87551212e-02,  4.74798024e-01,  3.42887342e-01, -1.26491576e-01,\n",
       "        5.72586060e-03,  6.23735666e-01,  3.45231235e-01, -9.97344375e-01,\n",
       "       -1.54339671e-01, -4.31551158e-01, -1.27227098e-01, -4.26203549e-01,\n",
       "       -7.90999085e-02,  1.77287817e-01, -1.33367702e-02, -6.37880385e-01,\n",
       "        1.06790066e-02, -1.72917619e-02,  5.65007329e-02, -2.51956880e-01,\n",
       "        3.56384456e-01,  1.96041465e-01,  4.38798219e-02,  2.14552820e-01,\n",
       "        7.33009651e-02,  6.38647616e-01,  1.07250035e+00, -3.75566125e-01,\n",
       "        1.05326846e-01,  9.59222496e-01, -5.06570518e-01, -1.32668018e-02,\n",
       "        9.72790241e-01, -1.06423229e-01,  1.76348120e-01,  5.28504550e-01,\n",
       "       -2.76539683e-01, -1.23257488e-02,  6.12613633e-02, -3.76942337e-01,\n",
       "       -4.71273720e-01,  3.21467668e-01,  1.33715451e-01,  2.85293877e-01,\n",
       "       -3.13671410e-01,  5.37692308e-01,  7.26679191e-02, -4.72482920e-01,\n",
       "       -1.12083197e-01, -1.71222478e-01, -4.25477773e-02,  1.42596290e-01,\n",
       "       -4.12973166e-01,  1.65370032e-01,  5.10848641e-01,  2.28102475e-01,\n",
       "       -1.93418473e-01, -9.69345272e-02, -2.74741888e-01,  6.79683030e-01,\n",
       "        1.85394242e-01, -1.09196439e-01,  1.47922739e-01, -7.97055811e-02,\n",
       "       -7.44761944e-01,  5.91051459e-01,  5.79638600e-01,  8.89253914e-02,\n",
       "        1.22776404e-01, -6.24598980e-01, -5.31962693e-01, -5.80256343e-01,\n",
       "       -5.45193672e-01,  5.73922455e-01,  3.24929416e-01,  3.31655979e-01,\n",
       "       -6.53955221e-01,  4.70610797e-01,  7.02091455e-01,  2.71248102e-01,\n",
       "        5.39354444e-01,  1.81234479e-01, -6.56588852e-01,  3.66012394e-01,\n",
       "       -7.63364136e-03, -3.71045917e-01, -4.42300141e-02,  5.12849748e-01,\n",
       "        2.41720378e-02, -2.33268455e-01,  6.06766343e-02,  1.25150099e-01,\n",
       "       -9.06602293e-02,  1.74049258e-01, -9.94857103e-02, -2.78777570e-01],\n",
       "      dtype=float32)"
      ]
     },
     "execution_count": 57,
     "metadata": {},
     "output_type": "execute_result"
    }
   ],
   "source": [
    "text = nlp(\"cheap hotwls\")"
   ]
  },
  {
   "cell_type": "code",
   "execution_count": 106,
   "metadata": {},
   "outputs": [],
   "source": [
    "string1 = \"cheap hotels\"\n",
    "string2 = \"cheap hotwls\"\n",
    "string3 = \"cheap hotels1\"\n",
    "string4 = \"hotels cheap\"\n"
   ]
  },
  {
   "cell_type": "code",
   "execution_count": 109,
   "metadata": {},
   "outputs": [],
   "source": [
    "s_string = nlp(string1)\n"
   ]
  },
  {
   "cell_type": "code",
   "execution_count": 113,
   "metadata": {},
   "outputs": [
    {
     "data": {
      "text/plain": [
       "array([-7.24400401e-01, -1.44978452e+00, -9.62124705e-01,  1.00396419e+00,\n",
       "        2.22012019e+00, -1.30926454e+00,  4.18541956e+00, -3.22751927e+00,\n",
       "       -1.75598073e+00,  4.47886676e-01, -1.15477586e+00,  8.50250363e-01,\n",
       "       -7.25000679e-01,  8.98363769e-01,  7.74733901e-01, -5.00217140e-01,\n",
       "        2.16812134e+00,  2.82184899e-01,  2.72804189e+00, -8.27861309e-01,\n",
       "       -1.07983196e+00, -1.45915127e+00, -8.03896189e-01,  7.05579042e-01,\n",
       "        1.60712695e+00,  1.90961838e+00,  1.82620382e+00, -5.32937050e-02,\n",
       "        1.60932437e-01, -2.78200126e+00, -2.42303610e-02, -2.46942186e+00,\n",
       "       -1.13469929e-01, -1.39794576e+00,  1.13097656e+00, -1.11616969e+00,\n",
       "       -3.96536589e-02, -1.61364883e-01,  2.87510252e+00, -2.03913510e-01,\n",
       "       -6.76552892e-01, -2.94623470e+00, -1.78334594e+00, -9.79373574e-01,\n",
       "        2.12999725e+00, -8.86242151e-01, -1.80468142e+00, -1.09805489e+00,\n",
       "       -3.96137714e+00,  1.95453691e+00, -3.95478189e-01,  6.85427248e-01,\n",
       "        1.70245862e+00, -1.29883981e+00,  2.62885880e+00,  6.36317015e-01,\n",
       "       -1.54360938e+00,  5.82023025e-01,  3.10694265e+00, -1.62580967e-01,\n",
       "        1.84773362e+00, -8.04006636e-01,  1.57820606e+00, -2.66410708e-01,\n",
       "       -1.67845845e+00, -4.72935081e-01,  1.21573627e-01,  1.95650005e+00,\n",
       "        5.87743759e-01,  2.50806868e-01,  8.24968636e-01, -7.78184175e-01,\n",
       "       -1.36655855e+00,  9.43157434e-01, -4.42108691e-01, -1.03346992e+00,\n",
       "       -3.08295584e+00,  1.32246375e+00,  6.15826190e-01,  1.04150581e+00,\n",
       "       -6.00116491e-01,  8.05375338e-01,  1.26888239e+00,  1.25914717e+00,\n",
       "       -8.69519055e-01, -2.62653160e+00,  9.26720798e-01,  1.10206258e+00,\n",
       "        1.10583031e+00, -1.00015211e+00,  1.63254523e+00, -7.89777398e-01,\n",
       "        1.00822949e+00,  7.51132131e-01,  2.27975869e+00, -1.68990088e+00,\n",
       "        7.00007856e-01, -2.44005293e-01, -9.89090800e-01, -7.21750677e-01,\n",
       "        1.49768853e+00, -1.45141339e+00,  5.64031363e-01,  6.43244386e-01,\n",
       "        1.82369292e-01, -3.89018536e-01, -9.76394892e-01,  1.36974978e+00,\n",
       "        1.39097404e+00,  9.56493020e-02,  1.40454340e+00, -4.44350779e-01,\n",
       "        1.07959318e+00,  2.17359972e+00, -5.29562473e+00, -2.14721417e+00,\n",
       "        1.80162811e+00,  2.76282668e-01,  7.55102277e-01, -3.05015039e+00,\n",
       "       -1.72539687e+00,  4.67895687e-01, -1.10472453e+00, -5.53032041e-01,\n",
       "       -4.12471294e-02,  2.17089510e+00, -2.37485290e+00,  2.59655881e+00,\n",
       "        5.19487500e-01,  5.38437247e-01, -5.10249883e-02,  2.14945614e-01,\n",
       "       -4.11482036e-01, -5.12087904e-02,  5.59382319e-01,  1.24014169e-01,\n",
       "       -4.29176062e-01, -8.64759088e-04, -4.18028444e-01,  3.97334844e-02,\n",
       "       -4.98796046e-01, -1.05232447e-02,  5.55967391e-01, -3.84863056e-02,\n",
       "        5.99684268e-02, -3.03842306e-01, -2.49130800e-01, -2.81867474e-01,\n",
       "       -3.21836889e-01, -1.14264309e-01, -2.63045758e-01,  1.54938430e-01,\n",
       "        1.15208134e-01,  4.05762106e-01, -9.76752937e-02,  4.50674534e-01,\n",
       "        4.78977442e-01,  4.84149456e-01,  4.36506391e-01, -4.86630946e-02,\n",
       "       -4.25271317e-02, -3.67540002e-01,  3.23340356e-01,  2.63950676e-01,\n",
       "        1.28932253e-01, -1.63181275e-01, -2.88243204e-01, -2.40308061e-01,\n",
       "        7.05266535e-01, -1.85293674e-01,  6.72304571e-01,  2.52833366e-01,\n",
       "       -9.95252132e-02,  3.68925452e-01,  3.29115063e-01,  5.23291677e-02,\n",
       "        1.98788285e-01, -4.80380684e-01,  1.42043695e-01,  1.73506215e-01,\n",
       "        1.89301535e-01,  3.18814069e-02, -2.48733386e-01, -1.95174366e-01,\n",
       "        2.62466908e-01,  6.30930841e-01, -2.41810888e-01, -3.02687675e-01,\n",
       "       -1.45991772e-01, -4.11747247e-01, -1.39828026e-01, -3.68576914e-01,\n",
       "       -2.72199690e-01, -2.93380767e-01,  2.25047737e-01, -2.02083588e-03,\n",
       "       -3.25019509e-02, -5.77268183e-01,  1.58416867e-01,  7.22986221e-01,\n",
       "       -8.93255472e-01, -6.04942560e-01, -8.61744881e-02, -5.55969357e-01,\n",
       "       -3.58220100e-01, -2.52226353e-01, -9.16214958e-02, -4.69489396e-01,\n",
       "        2.91067541e-01,  4.02560651e-01, -5.95997691e-01,  2.42957473e-01,\n",
       "       -3.11671823e-01, -1.12256005e-01,  9.70845520e-01,  1.43542022e-01,\n",
       "        7.97135115e-01,  3.51080060e-01, -1.65937126e-01,  3.37271154e-01,\n",
       "        4.50642049e-01,  1.09963268e-01, -5.82699478e-02,  3.47342223e-01,\n",
       "       -2.79578894e-01,  1.66717306e-01, -9.13441181e-05,  3.44628662e-01,\n",
       "        8.02161545e-02, -7.25596607e-01,  3.72364938e-01, -7.27256835e-01,\n",
       "       -4.54613864e-01, -1.21430606e-02,  4.62832540e-01, -2.48606920e-01,\n",
       "        5.34875870e-01, -3.04997265e-01, -8.83371234e-02, -6.57600343e-01,\n",
       "       -8.83572400e-02, -1.69175088e-01, -2.40333349e-01,  3.40126216e-01,\n",
       "       -3.34848225e-01, -3.45713407e-01,  2.02215225e-01, -1.53083861e-01,\n",
       "       -1.89111292e-01,  8.25874925e-01, -5.33259988e-01,  1.28317028e-01,\n",
       "        2.44043171e-01,  2.30814636e-01, -1.52263716e-02, -7.22744823e-01,\n",
       "        5.02597272e-01,  3.83372307e-02, -3.63783479e-01, -3.64536315e-01,\n",
       "       -2.47758821e-01,  7.09455967e-01, -4.37848382e-02, -7.37780780e-02,\n",
       "        4.28864300e-01,  4.89903629e-01,  3.39111030e-01, -3.59409243e-01,\n",
       "       -3.89540523e-01,  3.36742908e-01,  3.95305991e-01, -5.45364261e-01,\n",
       "       -3.31319183e-01,  2.80939579e-01,  4.61040229e-01,  3.67420077e-01,\n",
       "        9.38342065e-02,  2.25288495e-01, -3.91666681e-01,  4.78124619e-01,\n",
       "        7.66579628e-01,  1.35736227e-01,  1.51364997e-01, -8.72321427e-01,\n",
       "       -2.64942646e-02, -5.08777350e-02,  2.37796530e-01,  1.60767779e-01,\n",
       "       -4.00009155e-01, -8.02521259e-02, -1.01777780e+00,  3.63418937e-01,\n",
       "       -3.22609842e-01, -3.83912444e-01, -9.53444690e-02,  6.88281178e-01,\n",
       "        2.37953365e-01,  3.13058734e-01,  2.59988517e-01,  3.48780125e-01,\n",
       "       -2.11103320e-01, -5.84294021e-01, -1.49668813e-01,  2.87690878e-01,\n",
       "        1.23405546e-01, -6.04883693e-02,  2.77727515e-01, -1.07103691e-01,\n",
       "       -3.49687219e-01,  1.84173986e-01,  4.06090915e-03,  3.70063633e-01,\n",
       "       -2.12332636e-01, -6.63219810e-01, -6.61939263e-01,  3.44424546e-02,\n",
       "       -3.20240736e-01, -5.99380851e-01,  2.89619774e-01,  2.42874146e-01,\n",
       "       -7.01806843e-01,  1.11819729e-01,  8.61649215e-02, -5.37752390e-01,\n",
       "       -8.49432722e-02,  7.93617815e-02,  1.48013905e-01,  4.78780806e-01,\n",
       "        4.52833354e-01, -2.60987788e-01, -7.49072194e-01, -6.83270693e-02,\n",
       "        3.27711403e-01, -3.01753193e-01, -4.47043896e-01, -3.23017389e-02,\n",
       "        4.77228016e-01,  4.91160274e-01, -8.17334950e-02, -8.62208977e-02,\n",
       "       -2.02705741e-01,  1.26863569e-01, -2.59225607e-01, -4.44212258e-02,\n",
       "       -6.71902820e-02,  2.08546788e-01,  3.91187280e-01, -5.64248562e-01,\n",
       "       -3.30932677e-01,  2.33318672e-01, -1.24493778e-01, -3.96335125e-02,\n",
       "        4.26138759e-01, -5.84101737e-01, -5.98914504e-01, -1.71427906e-01,\n",
       "       -6.84378564e-01,  5.35523117e-01,  5.56041718e-01,  2.57047266e-01,\n",
       "        9.12252665e-01, -7.72092566e-02, -2.61151254e-01, -2.79824436e-01,\n",
       "        4.96976793e-01, -2.97236502e-01, -4.56597805e-01,  6.90727085e-02,\n",
       "       -4.11798805e-02, -2.86397934e-02,  4.15756255e-01, -6.12979770e-01,\n",
       "        5.95401824e-02,  4.38758373e-01, -1.43650189e-01, -4.19212312e-01,\n",
       "       -3.79385382e-01,  3.92483801e-01, -4.02612835e-02,  1.14183724e-01,\n",
       "        3.82658899e-01,  2.27122247e-01,  6.70770407e-02,  5.37069321e-01],\n",
       "      dtype=float32)"
      ]
     },
     "execution_count": 113,
     "metadata": {},
     "output_type": "execute_result"
    }
   ],
   "source": [
    "s_string.vector - (s_string[0].vector + s_string[1].vector )"
   ]
  },
  {
   "cell_type": "code",
   "execution_count": 110,
   "metadata": {},
   "outputs": [
    {
     "data": {
      "text/plain": [
       "[cheap, hotels]"
      ]
     },
     "execution_count": 110,
     "metadata": {},
     "output_type": "execute_result"
    }
   ],
   "source": [
    "list(s_string)"
   ]
  },
  {
   "cell_type": "code",
   "execution_count": 107,
   "metadata": {},
   "outputs": [
    {
     "data": {
      "text/plain": [
       "0.7560217830159336"
      ]
     },
     "execution_count": 107,
     "metadata": {},
     "output_type": "execute_result"
    }
   ],
   "source": [
    "nlp(string1).similarity(nlp(string4))"
   ]
  },
  {
   "cell_type": "code",
   "execution_count": 108,
   "metadata": {},
   "outputs": [
    {
     "data": {
      "text/plain": [
       "1.0"
      ]
     },
     "execution_count": 108,
     "metadata": {},
     "output_type": "execute_result"
    }
   ],
   "source": [
    "nlp(string1).similarity(nlp(string1))"
   ]
  },
  {
   "cell_type": "code",
   "execution_count": 72,
   "metadata": {},
   "outputs": [
    {
     "data": {
      "text/plain": [
       "0.8183999479043619"
      ]
     },
     "execution_count": 72,
     "metadata": {},
     "output_type": "execute_result"
    }
   ],
   "source": [
    "nlp(string1).similarity(nlp(string2))"
   ]
  },
  {
   "cell_type": "code",
   "execution_count": 73,
   "metadata": {},
   "outputs": [
    {
     "data": {
      "text/plain": [
       "0.5665318250473387"
      ]
     },
     "execution_count": 73,
     "metadata": {},
     "output_type": "execute_result"
    }
   ],
   "source": [
    "nlp(string1).similarity(nlp(string3))"
   ]
  },
  {
   "cell_type": "code",
   "execution_count": 115,
   "metadata": {},
   "outputs": [
    {
     "data": {
      "text/plain": [
       "array([-9.08460975e-01, -5.31806350e-01,  2.47681761e+00, -3.12347651e-01,\n",
       "        1.97348297e-01,  1.98485875e+00,  1.27508640e-01,  4.18681240e+00,\n",
       "        1.56251991e+00,  3.13075662e+00,  1.18594468e-02, -2.06893969e+00,\n",
       "       -1.54176903e+00, -4.51804399e-02, -1.42254066e+00,  1.11544347e+00,\n",
       "       -3.55837536e+00,  1.93919647e+00, -1.66796374e+00,  2.09506059e+00,\n",
       "        3.62435532e+00,  2.00719929e+00,  1.33604431e+00,  1.38223171e-04,\n",
       "       -5.64724565e-01, -3.56601954e+00, -8.71292412e-01,  2.87083209e-01,\n",
       "       -2.27817988e+00,  1.88740671e+00,  7.24703550e-01,  8.53746653e-01,\n",
       "       -5.26829958e-02,  6.56317830e-01,  2.30108428e+00,  8.80695343e-01,\n",
       "       -1.37363291e+00, -1.00352025e+00, -3.14542937e+00,  1.02434373e+00,\n",
       "       -1.29095876e+00,  2.93496990e+00,  9.02170062e-01,  2.65562963e+00,\n",
       "       -1.48350000e+00, -1.35267806e+00,  1.30237699e-01, -6.54234886e-02,\n",
       "       -1.23033345e+00, -1.13042808e+00, -4.25352275e-01, -1.15619659e+00,\n",
       "       -1.57090127e+00,  4.49209690e+00, -2.69447708e+00,  1.46033001e+00,\n",
       "        3.49846125e+00,  3.01527166e+00, -4.62075567e+00, -6.06511295e-01,\n",
       "        4.41572815e-01,  8.24618459e-01, -1.95150352e+00,  1.76756227e+00,\n",
       "       -1.82049835e+00, -2.02665997e+00,  5.90412319e-01, -1.34369874e+00,\n",
       "       -1.83077967e+00,  1.04798341e+00, -2.06516647e+00, -4.77907360e-01,\n",
       "       -9.02819037e-01, -1.83060932e+00, -2.48788524e+00,  1.09948957e+00,\n",
       "        6.23521471e+00, -2.47093129e+00,  4.01172340e-02, -1.86452711e+00,\n",
       "       -1.72327542e+00, -3.70713997e+00, -1.89029717e+00, -1.13519979e+00,\n",
       "        8.48878384e-01,  2.43547583e+00, -2.70577049e+00, -2.25745726e+00,\n",
       "       -2.76692104e+00,  2.62127900e+00, -2.25227189e+00,  2.61009312e+00,\n",
       "       -8.08865488e-01,  6.58124983e-01,  1.72102004e-01,  3.29248118e+00,\n",
       "        1.25671446e-01, -9.84609127e-01, -1.82606184e+00, -4.49063122e-01,\n",
       "       -1.01330292e+00, -1.13571644e-01, -1.23417234e+00, -1.36899745e+00,\n",
       "        1.55154049e+00, -6.02435052e-01,  1.67449951e+00, -1.84800553e+00,\n",
       "        2.34433961e+00,  3.31083131e+00, -4.28408831e-02,  1.62777519e+00,\n",
       "       -6.79411292e-01, -1.52754998e+00,  1.80614114e+00,  2.55203056e+00,\n",
       "       -3.32391739e+00,  1.47209978e+00,  1.15198863e+00,  1.05359709e+00,\n",
       "        2.86289096e+00,  6.21908665e-01,  4.13535535e-01, -1.87689334e-01,\n",
       "       -9.28732812e-01, -1.92276466e+00,  2.23615718e+00, -1.79735947e+00,\n",
       "       -3.57218772e-01, -1.27392143e-01,  4.27084148e-01,  4.59366143e-01,\n",
       "       -5.60956836e-01,  3.73419762e-01, -3.61893952e-01,  3.20391357e-02,\n",
       "        5.37987709e-01, -9.05606002e-02,  4.70149815e-01, -2.20190257e-01,\n",
       "       -1.52258873e-02,  1.77458405e-01,  1.42354459e-01, -9.17602330e-03,\n",
       "       -2.16938913e-01,  4.23740685e-01,  6.19149581e-02,  3.21478546e-01,\n",
       "        3.16241145e-01,  1.55731857e-01, -4.01011497e-01,  1.70729727e-01,\n",
       "       -2.05636472e-01, -6.41474247e-01, -7.64426112e-01,  3.92390847e-01,\n",
       "        5.98016679e-02, -6.64191604e-01, -1.19953036e-01, -1.01907194e-01,\n",
       "       -5.51052690e-02,  8.54561180e-02, -1.87801123e-01, -2.62933642e-01,\n",
       "       -5.13013899e-02,  4.18510020e-01,  7.01945066e-01,  5.24050146e-02,\n",
       "       -1.09264648e+00, -1.52143925e-01, -3.21826428e-01, -5.82533926e-02,\n",
       "        4.00628299e-02, -4.64069396e-02, -1.35306507e-01, -1.24953553e-01,\n",
       "       -6.04001731e-02,  5.48596442e-01, -7.05624223e-02, -6.88378364e-02,\n",
       "       -1.86675280e-01,  7.61941731e-01, -2.04771549e-01, -1.22052997e-01,\n",
       "       -6.71998560e-02, -2.25650355e-01,  1.10755503e+00,  1.11094706e-01,\n",
       "        4.27132607e-01,  2.03997388e-01, -8.37370753e-02, -2.41976485e-01,\n",
       "       -6.27019823e-01, -1.06612131e-01,  3.67634773e-01,  7.71613866e-02,\n",
       "       -1.06526330e-01,  8.59795213e-02, -2.46921957e-01, -3.83713543e-01,\n",
       "        1.48099208e+00,  9.55714211e-02,  1.09321259e-01,  4.41040635e-01,\n",
       "        2.52368450e-01,  5.89461207e-01, -4.68991697e-03, -2.15404361e-01,\n",
       "       -4.69412982e-01, -6.44599199e-01, -2.65332878e-01, -3.12324643e-01,\n",
       "        4.54441756e-02,  2.45550752e-01, -1.13427711e+00, -2.82156497e-01,\n",
       "       -5.03133982e-02,  2.02278882e-01, -3.26039605e-02, -7.61595964e-01,\n",
       "       -6.10945880e-01,  3.08003306e-01, -3.79529864e-01, -6.42030299e-01,\n",
       "       -7.39600658e-01, -5.95986128e-01, -4.38810110e-01, -1.93516478e-01,\n",
       "        2.22273022e-01,  1.01067317e+00, -4.68440324e-01,  3.70042533e-01,\n",
       "        1.39299107e+00,  3.11399996e-01, -6.25847042e-01,  3.12987357e-01,\n",
       "       -2.47030094e-01,  1.47241652e-02, -5.39831966e-02,  1.20861578e+00,\n",
       "        2.59060800e-01,  8.90352130e-01,  4.33662236e-02, -9.44295764e-01,\n",
       "       -3.10401171e-02,  1.67436987e-01, -3.74668300e-01,  5.87189794e-01,\n",
       "       -2.27192521e-01, -6.44381821e-01,  1.46170437e-01,  4.51097071e-01,\n",
       "       -3.06581438e-01,  2.71024823e-01, -9.60861742e-02,  1.33469796e+00,\n",
       "        1.12463422e-01,  3.09042513e-01,  3.02528560e-01,  5.83170772e-01,\n",
       "       -2.79293835e-01,  5.26651025e-01,  3.77546579e-01, -5.89252710e-01,\n",
       "        6.42155647e-01, -2.67596185e-01, -6.62209392e-01, -2.67778844e-01,\n",
       "        8.20961118e-01, -1.69023380e-01, -4.79474664e-04,  8.24421763e-01,\n",
       "        5.49361944e-01, -2.12779641e-03, -9.90944058e-02, -3.08910638e-01,\n",
       "       -4.36283320e-01,  2.76767761e-02,  1.35677248e-01, -2.15290964e-01,\n",
       "       -4.26424056e-01, -8.55747312e-02,  4.62290943e-02, -9.60084498e-02,\n",
       "       -6.40815139e-01, -2.86061764e-01, -5.80500960e-01, -2.71908283e-01,\n",
       "        5.52786350e-01, -9.42900032e-02,  2.88540542e-01,  4.26646352e-01,\n",
       "        1.85480297e-01,  6.52039587e-01,  2.92593330e-01, -6.20386958e-01,\n",
       "       -4.18116227e-02,  1.75086260e-02, -6.05804920e-01, -2.86993384e-01,\n",
       "       -1.89983904e-01, -1.51391044e-01, -4.00869429e-01,  2.62377381e-01,\n",
       "       -4.69469160e-01, -5.30720055e-01, -7.20524043e-02,  6.95626065e-02,\n",
       "       -1.68380633e-01,  4.48388666e-01, -7.24718869e-01,  1.96816251e-02,\n",
       "       -3.99601549e-01,  7.72313654e-01,  6.51983142e-01, -6.63976312e-01,\n",
       "        1.22017622e-01,  1.87223718e-01,  2.61595249e-01, -3.28801095e-01,\n",
       "        3.12208474e-01,  2.61050880e-01, -7.79353380e-01,  1.27860355e+00,\n",
       "       -1.90147981e-02,  1.93860471e-01,  3.07689160e-01,  3.99189293e-02,\n",
       "       -7.38657176e-01, -1.49760664e-01,  2.10509643e-01, -8.30859125e-01,\n",
       "       -4.23676878e-01,  7.13702977e-01, -3.83033335e-01, -4.79111910e-01,\n",
       "       -2.24712342e-02,  2.89510965e-01, -3.57183576e-01, -2.23685533e-01,\n",
       "       -4.22577411e-02,  2.13261694e-03,  1.81858003e-01,  2.82877207e-01,\n",
       "       -4.90162551e-01, -7.38624334e-01, -3.45048934e-01,  7.69985378e-01,\n",
       "        1.73429489e+00, -3.36610079e-02,  1.02242239e-01, -2.66807258e-01,\n",
       "       -2.89978057e-01,  7.77890444e-01,  4.54336256e-02,  4.31949914e-01,\n",
       "        3.11756074e-01,  2.00002789e-02,  2.24258974e-02, -1.18699300e+00,\n",
       "       -5.29302597e-01, -7.13905469e-02, -2.90414989e-01,  3.41950804e-01,\n",
       "       -9.79111910e-01, -5.27875543e-01,  4.71134245e-01, -2.86032975e-01,\n",
       "        5.17022967e-01, -1.35115325e-01, -6.62268460e-01,  2.17382282e-01,\n",
       "        3.06745589e-01, -6.88545406e-02,  1.35697877e+00,  8.61039758e-01,\n",
       "       -2.33822525e-01, -1.27299100e-01,  4.33191240e-01, -1.64394572e-01,\n",
       "       -5.19383967e-01, -5.43770432e-01,  2.44081408e-01,  6.74419522e-01],\n",
       "      dtype=float32)"
      ]
     },
     "execution_count": 115,
     "metadata": {},
     "output_type": "execute_result"
    }
   ],
   "source": [
    "nlp(\"notawordatall\")[0].vector"
   ]
  },
  {
   "cell_type": "code",
   "execution_count": 10,
   "metadata": {},
   "outputs": [],
   "source": [
    "import numpy as np"
   ]
  },
  {
   "cell_type": "code",
   "execution_count": 60,
   "metadata": {},
   "outputs": [],
   "source": [
    "import langdetect"
   ]
  },
  {
   "cell_type": "code",
   "execution_count": 67,
   "metadata": {},
   "outputs": [
    {
     "data": {
      "text/plain": [
       "[sq:0.9999961362782334]"
      ]
     },
     "execution_count": 67,
     "metadata": {},
     "output_type": "execute_result"
    }
   ],
   "source": [
    "langdetect.detect_langs('fuhna aeroporika eishthria')"
   ]
  },
  {
   "cell_type": "markdown",
   "metadata": {},
   "source": [
    "### Visualization with t-SNE \n",
    "(t-Distributed Stochastic Neighbouring Embedding)"
   ]
  },
  {
   "cell_type": "code",
   "execution_count": 12,
   "metadata": {
    "scrolled": true
   },
   "outputs": [
    {
     "data": {
      "image/png": "[encoded data removed]",
      "text/plain": [
       "<matplotlib.figure.Figure at 0x127ebcf60>"
      ]
     },
     "metadata": {},
     "output_type": "display_data"
    }
   ],
   "source": [
    "from gensim.models import KeyedVectors\n",
    "from sklearn.manifold import TSNE\n",
    "import matplotlib.pyplot as plt\n",
    "\n",
    "# en_model = fastt\n",
    "en_model = word2vec\n",
    "\n",
    "# Limit number of tokens to be visualized\n",
    "limit = 200 \n",
    "vector_dim = 300\n",
    "\n",
    "# Getting tokens and vectors\n",
    "words = []\n",
    "embedding = np.array([])\n",
    "i = 0\n",
    "for i, word in enumerate(en_model.vocab):\n",
    "    # Break the loop if limit exceeds \n",
    "    if i == limit: break\n",
    "\n",
    "    # Getting token \n",
    "    words.append(word)\n",
    "\n",
    "    # Appending the vectors \n",
    "    embedding = np.append(embedding, en_model[word])\n",
    "\n",
    "\n",
    "# Reshaping the embedding vector \n",
    "embedding = embedding.reshape(limit, vector_dim)\n",
    "\n",
    "\n",
    "def plot_with_labels(low_dim_embs, labels, filename='tsne.png'):\n",
    "    assert low_dim_embs.shape[0] >= len(labels), \"More labels than embeddings\"\n",
    "    plt.figure(figsize=(18, 18))  # in inches\n",
    "    for i, label in enumerate(labels):\n",
    "        x, y = low_dim_embs[i, :]\n",
    "        plt.scatter(x, y)\n",
    "        plt.annotate(label,\n",
    "                 xy=(x, y),\n",
    "                 xytext=(5, 2),\n",
    "                 textcoords='offset points',\n",
    "                 ha='right',\n",
    "                 va='bottom')\n",
    "    plt.savefig(filename)\n",
    "\n",
    "\n",
    "# Creating the tsne plot [Warning: will take time]\n",
    "tsne = TSNE(perplexity=30.0, n_components=2, init='pca', n_iter=5000)\n",
    "\n",
    "low_dim_embedding = tsne.fit_transform(embedding)\n",
    "\n",
    "# Finally plotting and saving the fig \n",
    "plot_with_labels(low_dim_embedding, words)"
   ]
  },
  {
   "cell_type": "code",
   "execution_count": 105,
   "metadata": {},
   "outputs": [
    {
     "data": {
      "image/png": "[encoded data removed]",
      "text/plain": [
       "<matplotlib.figure.Figure at 0x17e288ef0>"
      ]
     },
     "metadata": {},
     "output_type": "display_data"
    }
   ],
   "source": [
    "en_model = word2vec\n",
    "# Creating the tsne plot [Warning: will take time]\n",
    "tsne = TSNE(perplexity=30.0, n_components=2, init='pca', n_iter=5000)\n",
    "\n",
    "low_dim_embedding = tsne.fit_transform(embedding)\n",
    "\n",
    "# Finally plotting and saving the fig \n",
    "plot_with_labels(low_dim_embedding, words)"
   ]
  },
  {
   "cell_type": "code",
   "execution_count": null,
   "metadata": {},
   "outputs": [],
   "source": []
  }
 ],
 "metadata": {
  "kernelspec": {
   "display_name": "Python 3",
   "language": "python",
   "name": "python3"
  },
  "language_info": {
   "codemirror_mode": {
    "name": "ipython",
    "version": 3
   },
   "file_extension": ".py",
   "mimetype": "text/x-python",
   "name": "python",
   "nbconvert_exporter": "python",
   "pygments_lexer": "ipython3",
   "version": "3.6.1"
  }
 },
 "nbformat": 4,
 "nbformat_minor": 2
}
