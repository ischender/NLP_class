{
 "cells": [
  {
   "cell_type": "code",
   "execution_count": 4,
   "metadata": {},
   "outputs": [],
   "source": [
    "from sklearn.feature_extraction.text import TfidfVectorizer\n",
    "\n",
    "myvocabulary = ['tim tam', 'jam', 'fresh milk', 'chocolates', 'biscuit pudding']\n",
    "corpus = {1: \"making chocolates biscuit pudding easy first get your favourite biscuit chocolates\", 2: \"tim tam drink new recipe that yummy and tasty more thicker than typical milkshake that uses normal chocolates\", 3: \"making chocolates drink different way using fresh milk egg\"}\n",
    "\n",
    "\n",
    "tfidf = TfidfVectorizer(vocabulary = myvocabulary, stop_words = 'english', ngram_range=(1,2))\n",
    "\n",
    "tfs = tfidf.fit_transform(corpus.values())"
   ]
  },
  {
   "cell_type": "code",
   "execution_count": 5,
   "metadata": {},
   "outputs": [
    {
     "name": "stdout",
     "output_type": "stream",
     "text": [
      "('biscuit pudding', 1) 0.6461289150464732\n",
      "('chocolates', 1) 0.7632282916276542\n",
      "('chocolates', 2) 0.5085423203783267\n",
      "('tim tam', 2) 0.8610369959439764\n",
      "('chocolates', 3) 0.5085423203783267\n",
      "('fresh milk', 3) 0.8610369959439764\n"
     ]
    }
   ],
   "source": [
    "feature_names = tfidf.get_feature_names()\n",
    "corpus_index = [n for n in corpus]\n",
    "rows, cols = tfs.nonzero()\n",
    "for row, col in zip(rows, cols):\n",
    "    print((feature_names[col], corpus_index[row]), tfs[row, col])"
   ]
  },
  {
   "cell_type": "code",
   "execution_count": 13,
   "metadata": {},
   "outputs": [],
   "source": [
    "test_string = \"making chocolates biscuit pudding easy first get your favourite biscuit chocolates\""
   ]
  },
  {
   "cell_type": "code",
   "execution_count": 14,
   "metadata": {},
   "outputs": [],
   "source": [
    "analizer = tfidf.build_analyzer()"
   ]
  },
  {
   "cell_type": "code",
   "execution_count": 15,
   "metadata": {},
   "outputs": [
    {
     "data": {
      "text/plain": [
       "['making',\n",
       " 'chocolates',\n",
       " 'biscuit',\n",
       " 'pudding',\n",
       " 'easy',\n",
       " 'favourite',\n",
       " 'biscuit',\n",
       " 'chocolates',\n",
       " 'making chocolates',\n",
       " 'chocolates biscuit',\n",
       " 'biscuit pudding',\n",
       " 'pudding easy',\n",
       " 'easy favourite',\n",
       " 'favourite biscuit',\n",
       " 'biscuit chocolates']"
      ]
     },
     "execution_count": 15,
     "metadata": {},
     "output_type": "execute_result"
    }
   ],
   "source": [
    "analizer(test_string)"
   ]
  },
  {
   "cell_type": "code",
   "execution_count": 18,
   "metadata": {},
   "outputs": [
    {
     "data": {
      "text/plain": [
       "array([[0., 0., 0., 0., 0.],\n",
       "       [0., 0., 0., 1., 0.],\n",
       "       [0., 0., 0., 0., 0.],\n",
       "       [0., 0., 0., 0., 0.],\n",
       "       [0., 0., 0., 0., 0.],\n",
       "       [0., 0., 0., 0., 0.],\n",
       "       [0., 0., 0., 0., 0.],\n",
       "       [0., 0., 0., 1., 0.],\n",
       "       [0., 0., 0., 1., 0.],\n",
       "       [0., 0., 0., 1., 0.],\n",
       "       [0., 0., 0., 0., 1.],\n",
       "       [0., 0., 0., 0., 0.],\n",
       "       [0., 0., 0., 0., 0.],\n",
       "       [0., 0., 0., 0., 0.],\n",
       "       [0., 0., 0., 1., 0.]])"
      ]
     },
     "execution_count": 18,
     "metadata": {},
     "output_type": "execute_result"
    }
   ],
   "source": [
    "tfidf.transform(analizer(test_string)).toarray()"
   ]
  },
  {
   "cell_type": "code",
   "execution_count": 19,
   "metadata": {},
   "outputs": [
    {
     "data": {
      "text/plain": [
       "['tim tam', 'jam', 'fresh milk', 'chocolates', 'biscuit pudding']"
      ]
     },
     "execution_count": 19,
     "metadata": {},
     "output_type": "execute_result"
    }
   ],
   "source": [
    "tfidf.get_feature_names()"
   ]
  },
  {
   "cell_type": "code",
   "execution_count": null,
   "metadata": {},
   "outputs": [],
   "source": []
  }
 ],
 "metadata": {
  "kernelspec": {
   "display_name": "Python 3",
   "language": "python",
   "name": "python3"
  },
  "language_info": {
   "codemirror_mode": {
    "name": "ipython",
    "version": 3
   },
   "file_extension": ".py",
   "mimetype": "text/x-python",
   "name": "python",
   "nbconvert_exporter": "python",
   "pygments_lexer": "ipython3",
   "version": "3.6.1"
  }
 },
 "nbformat": 4,
 "nbformat_minor": 2
}
