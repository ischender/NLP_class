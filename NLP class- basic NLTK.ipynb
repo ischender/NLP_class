{
 "cells": [
  {
   "cell_type": "markdown",
   "metadata": {},
   "source": [
    "Let's play with segmenting text in words"
   ]
  },
  {
   "cell_type": "code",
   "execution_count": 1,
   "metadata": {
    "collapsed": true
   },
   "outputs": [],
   "source": [
    "import wordsegment"
   ]
  },
  {
   "cell_type": "code",
   "execution_count": 2,
   "metadata": {},
   "outputs": [
    {
     "name": "stdout",
     "output_type": "stream",
     "text": [
      "Help on package wordsegment:\n",
      "\n",
      "NAME\n",
      "    wordsegment - English Word Segmentation in Python\n",
      "\n",
      "DESCRIPTION\n",
      "    Word segmentation is the process of dividing a phrase without spaces back\n",
      "    into its constituent parts. For example, consider a phrase like \"thisisatest\".\n",
      "    For humans, it's relatively easy to parse. This module makes it easy for\n",
      "    machines too. Use `segment` to parse a phrase into its parts:\n",
      "    \n",
      "    >>> from wordsegment import load, segment\n",
      "    >>> load()\n",
      "    >>> segment('thisisatest')\n",
      "    ['this', 'is', 'a', 'test']\n",
      "    \n",
      "    In the code, 1024908267229 is the total number of words in the corpus. A\n",
      "    subset of this corpus is found in unigrams.txt and bigrams.txt which\n",
      "    should accompany this file. A copy of these files may be found at\n",
      "    http://norvig.com/ngrams/ under the names count_1w.txt and count_2w.txt\n",
      "    respectively.\n",
      "    \n",
      "    Copyright (c) 2016 by Grant Jenks\n",
      "    \n",
      "    Based on code from the chapter \"Natural Language Corpus Data\"\n",
      "    from the book \"Beautiful Data\" (Segaran and Hammerbacher, 2009)\n",
      "    http://oreilly.com/catalog/9780596157111/\n",
      "    \n",
      "    Original Copyright (c) 2008-2009 by Peter Norvig\n",
      "\n",
      "PACKAGE CONTENTS\n",
      "    __main__\n",
      "\n",
      "CLASSES\n",
      "    builtins.object\n",
      "        Segmenter\n",
      "    \n",
      "    class Segmenter(builtins.object)\n",
      "     |  Segmenter\n",
      "     |  \n",
      "     |  Support for object-oriented programming and customization.\n",
      "     |  \n",
      "     |  Methods defined here:\n",
      "     |  \n",
      "     |  __init__(self)\n",
      "     |      Initialize self.  See help(type(self)) for accurate signature.\n",
      "     |  \n",
      "     |  divide(self, text)\n",
      "     |      Yield `(prefix, suffix)` pairs from `text`.\n",
      "     |  \n",
      "     |  isegment(self, text)\n",
      "     |      Return iterator of words that is the best segmenation of `text`.\n",
      "     |  \n",
      "     |  load(self)\n",
      "     |      Load unigram and bigram counts from disk.\n",
      "     |  \n",
      "     |  score(self, word, previous=None)\n",
      "     |      Score `word` in the context of `previous` word.\n",
      "     |  \n",
      "     |  segment(self, text)\n",
      "     |      Return list of words that is the best segmenation of `text`.\n",
      "     |  \n",
      "     |  ----------------------------------------------------------------------\n",
      "     |  Class methods defined here:\n",
      "     |  \n",
      "     |  clean(text) from builtins.type\n",
      "     |      Return `text` lower-cased with non-alphanumeric characters removed.\n",
      "     |  \n",
      "     |  ----------------------------------------------------------------------\n",
      "     |  Static methods defined here:\n",
      "     |  \n",
      "     |  parse(filename)\n",
      "     |      Read `filename` and parse tab-separated file of word and count pairs.\n",
      "     |  \n",
      "     |  ----------------------------------------------------------------------\n",
      "     |  Data descriptors defined here:\n",
      "     |  \n",
      "     |  __dict__\n",
      "     |      dictionary for instance variables (if defined)\n",
      "     |  \n",
      "     |  __weakref__\n",
      "     |      list of weak references to the object (if defined)\n",
      "     |  \n",
      "     |  ----------------------------------------------------------------------\n",
      "     |  Data and other attributes defined here:\n",
      "     |  \n",
      "     |  ALPHABET = {'0', '1', '2', '3', '4', '5', ...}\n",
      "     |  \n",
      "     |  BIGRAMS_FILENAME = '/Users/aliosha/Envs/nlp/lib/python3.6/site-package...\n",
      "     |  \n",
      "     |  LIMIT = 24\n",
      "     |  \n",
      "     |  TOTAL = 1024908267229.0\n",
      "     |  \n",
      "     |  UNIGRAMS_FILENAME = '/Users/aliosha/Envs/nlp/lib/python3.6/site-packag...\n",
      "\n",
      "FUNCTIONS\n",
      "    isegment(text) method of Segmenter instance\n",
      "        Return iterator of words that is the best segmenation of `text`.\n",
      "    \n",
      "    load() method of Segmenter instance\n",
      "        Load unigram and bigram counts from disk.\n",
      "    \n",
      "    main(arguments=())\n",
      "        Command-line interface (CLI) entry-point. Parse `arguments` into in-file\n",
      "        and out-file then read lines from in-file, segment the lines, and write the\n",
      "        result to out-file. Input and output default to stdin and stdout\n",
      "        respectively.\n",
      "    \n",
      "    segment(text) method of Segmenter instance\n",
      "        Return list of words that is the best segmenation of `text`.\n",
      "\n",
      "DATA\n",
      "    BIGRAMS = {}\n",
      "    UNIGRAMS = {}\n",
      "    __all__ = ['Segmenter', 'load', 'isegment', 'segment', 'UNIGRAMS', 'BI...\n",
      "    __build__ = 65798\n",
      "    __copyright__ = 'Copyright 2017 Grant Jenks'\n",
      "    __license__ = 'Apache 2.0'\n",
      "    __title__ = 'wordsegment'\n",
      "\n",
      "VERSION\n",
      "    1.1.6\n",
      "\n",
      "AUTHOR\n",
      "    Grant Jenks\n",
      "\n",
      "FILE\n",
      "    /Users/aliosha/Envs/nlp/lib/python3.6/site-packages/wordsegment/__init__.py\n",
      "\n",
      "\n"
     ]
    }
   ],
   "source": [
    "help(wordsegment)"
   ]
  },
  {
   "cell_type": "code",
   "execution_count": 3,
   "metadata": {
    "collapsed": true
   },
   "outputs": [],
   "source": [
    "from wordsegment import load, segment\n",
    "load()"
   ]
  },
  {
   "cell_type": "markdown",
   "metadata": {},
   "source": [
    "Let's create a sting to play with"
   ]
  },
  {
   "cell_type": "code",
   "execution_count": 4,
   "metadata": {},
   "outputs": [
    {
     "name": "stdout",
     "output_type": "stream",
     "text": [
      "Articlesummaryofstateoftheart,andchallengesfornaturallanguageprocessing.\n"
     ]
    }
   ],
   "source": [
    "example_string = \"Article summary of state of the art, and challenges for natural language processing.\"\n",
    "example = example_string.replace(\" \", \"\")\n",
    "print(example)"
   ]
  },
  {
   "cell_type": "code",
   "execution_count": 5,
   "metadata": {},
   "outputs": [
    {
     "data": {
      "text/plain": [
       "['article',\n",
       " 'summary',\n",
       " 'of',\n",
       " 'state',\n",
       " 'of',\n",
       " 'the',\n",
       " 'art',\n",
       " 'and',\n",
       " 'challenges',\n",
       " 'for',\n",
       " 'natural',\n",
       " 'language',\n",
       " 'processing']"
      ]
     },
     "execution_count": 5,
     "metadata": {},
     "output_type": "execute_result"
    }
   ],
   "source": [
    "segment(example)"
   ]
  },
  {
   "cell_type": "markdown",
   "metadata": {},
   "source": [
    "let's see what we're getting"
   ]
  },
  {
   "cell_type": "code",
   "execution_count": 6,
   "metadata": {},
   "outputs": [
    {
     "name": "stdout",
     "output_type": "stream",
     "text": [
      "article summary of state of the art and challenges for natural language processing\n"
     ]
    }
   ],
   "source": [
    "print(\" \".join(segment(example)))"
   ]
  },
  {
   "cell_type": "markdown",
   "metadata": {},
   "source": [
    "what if we change something?"
   ]
  },
  {
   "cell_type": "code",
   "execution_count": 7,
   "metadata": {},
   "outputs": [
    {
     "data": {
      "text/plain": [
       "['article',\n",
       " 'summary',\n",
       " 'of',\n",
       " 'state',\n",
       " 'of',\n",
       " 'the',\n",
       " 'art',\n",
       " 'and',\n",
       " 'challenges',\n",
       " 'for',\n",
       " 'nlp',\n",
       " 'and',\n",
       " 'chatbot',\n",
       " 'development']"
      ]
     },
     "execution_count": 7,
     "metadata": {},
     "output_type": "execute_result"
    }
   ],
   "source": [
    "example_string = \"Article summary of state of the art, and challenges for NLP and chatbot development.\"\n",
    "example = example_string.replace(\" \", \"\")\n",
    "segment(example)"
   ]
  },
  {
   "cell_type": "markdown",
   "metadata": {},
   "source": [
    "(not bad)"
   ]
  },
  {
   "cell_type": "markdown",
   "metadata": {},
   "source": [
    "Basic experimentation on NLTK and corpora\n",
    "===="
   ]
  },
  {
   "cell_type": "code",
   "execution_count": null,
   "metadata": {},
   "outputs": [],
   "source": [
    "import spacy\n"
   ]
  },
  {
   "cell_type": "code",
   "execution_count": 8,
   "metadata": {
    "collapsed": true
   },
   "outputs": [],
   "source": [
    "import nltk"
   ]
  },
  {
   "cell_type": "code",
   "execution_count": 9,
   "metadata": {
    "collapsed": true
   },
   "outputs": [],
   "source": [
    "from nltk import corpus"
   ]
  },
  {
   "cell_type": "code",
   "execution_count": 10,
   "metadata": {},
   "outputs": [
    {
     "name": "stdout",
     "output_type": "stream",
     "text": [
      "Help on LazyModule in nltk.nltk object:\n",
      "\n",
      "nltk.nltk.corpus = class LazyModule(builtins.object)\n",
      " |  Lazy module class.\n",
      " |  \n",
      " |  Lazy modules are imported into the given namespaces whenever a\n",
      " |  non-special attribute (there are some attributes like __doc__\n",
      " |  that class instances handle without calling __getattr__) is\n",
      " |  requested. The module is then registered under the given name\n",
      " |  in locals usually replacing the import wrapper instance. The\n",
      " |  import itself is done using globals as global namespace.\n",
      " |  \n",
      " |  Example of creating a lazy load module:\n",
      " |  \n",
      " |  ISO = LazyModule('ISO',locals(),globals())\n",
      " |  \n",
      " |  Later, requesting an attribute from ISO will load the module\n",
      " |  automatically into the locals() namespace, overriding the\n",
      " |  LazyModule instance:\n",
      " |  \n",
      " |  t = ISO.Week(1998,1,1)\n",
      " |  \n",
      " |  Methods defined here:\n",
      " |  \n",
      " |  __getattr__(self, name)\n",
      " |      Import the module on demand and get the attribute.\n",
      " |  \n",
      " |  __init__(self, name, locals, globals=None)\n",
      " |      Create a LazyModule instance wrapping module name.\n",
      " |      \n",
      " |      The module will later on be registered in locals under the\n",
      " |      given module name.\n",
      " |      \n",
      " |      globals is optional and defaults to locals.\n",
      " |  \n",
      " |  __repr__(self)\n",
      " |      Return repr(self).\n",
      " |  \n",
      " |  __setattr__(self, name, value)\n",
      " |      Import the module on demand and set the attribute.\n",
      " |  \n",
      " |  ----------------------------------------------------------------------\n",
      " |  Data descriptors defined here:\n",
      " |  \n",
      " |  __dict__\n",
      " |      dictionary for instance variables (if defined)\n",
      " |  \n",
      " |  __weakref__\n",
      " |      list of weak references to the object (if defined)\n",
      "\n"
     ]
    }
   ],
   "source": [
    "help(corpus)"
   ]
  },
  {
   "cell_type": "markdown",
   "metadata": {},
   "source": [
    "NLTK corpus readers.  The modules in this package provide functions\n",
    "that can be used to read corpus files in a variety of formats.  These\n",
    "functions can be used to read both the corpus files that are\n",
    "distributed in the NLTK corpus package, and corpus files that are part\n",
    "of external corpora.\n",
    "\n",
    "\n",
    "Available Corpora\n",
    "=================\n",
    "\n",
    "Please see http://www.nltk.org/nltk_data/ for a complete list.\n",
    "Install corpora using nltk.download()."
   ]
  },
  {
   "cell_type": "code",
   "execution_count": 11,
   "metadata": {},
   "outputs": [
    {
     "name": "stdout",
     "output_type": "stream",
     "text": [
      "showing info https://raw.githubusercontent.com/nltk/nltk_data/gh-pages/index.xml\n"
     ]
    },
    {
     "data": {
      "text/plain": [
       "True"
      ]
     },
     "execution_count": 11,
     "metadata": {},
     "output_type": "execute_result"
    }
   ],
   "source": [
    "# let's play\n",
    "nltk.download()"
   ]
  },
  {
   "cell_type": "markdown",
   "metadata": {},
   "source": [
    "![image.png](attachment:image.png)"
   ]
  },
  {
   "cell_type": "code",
   "execution_count": 12,
   "metadata": {
    "scrolled": true
   },
   "outputs": [
    {
     "name": "stdout",
     "output_type": "stream",
     "text": [
      "*** Introductory Examples for the NLTK Book ***\n",
      "Loading text1, ..., text9 and sent1, ..., sent9\n",
      "Type the name of the text or sentence to view it.\n",
      "Type: 'texts()' or 'sents()' to list the materials.\n",
      "text1: Moby Dick by Herman Melville 1851\n",
      "text2: Sense and Sensibility by Jane Austen 1811\n",
      "text3: The Book of Genesis\n",
      "text4: Inaugural Address Corpus\n",
      "text5: Chat Corpus\n",
      "text6: Monty Python and the Holy Grail\n",
      "text7: Wall Street Journal\n",
      "text8: Personals Corpus\n",
      "text9: The Man Who Was Thursday by G . K . Chesterton 1908\n"
     ]
    }
   ],
   "source": [
    "import nltk.book"
   ]
  },
  {
   "cell_type": "code",
   "execution_count": 13,
   "metadata": {},
   "outputs": [
    {
     "data": {
      "text/plain": [
       "FreqDist({'In': 12,\n",
       "          'the': 2411,\n",
       "          'beginning': 5,\n",
       "          'God': 231,\n",
       "          'created': 11,\n",
       "          'heaven': 28,\n",
       "          'and': 2428,\n",
       "          'earth': 111,\n",
       "          '.': 1315,\n",
       "          'And': 1250,\n",
       "          'was': 317,\n",
       "          'without': 9,\n",
       "          'form': 1,\n",
       "          ',': 3681,\n",
       "          'void': 1,\n",
       "          ';': 605,\n",
       "          'darkness': 4,\n",
       "          'upon': 139,\n",
       "          'face': 47,\n",
       "          'of': 1358,\n",
       "          'deep': 6,\n",
       "          'Spirit': 2,\n",
       "          'moved': 2,\n",
       "          'waters': 32,\n",
       "          'said': 476,\n",
       "          'Let': 29,\n",
       "          'there': 116,\n",
       "          'be': 254,\n",
       "          'light': 11,\n",
       "          ':': 238,\n",
       "          'saw': 57,\n",
       "          'that': 509,\n",
       "          'it': 290,\n",
       "          'good': 44,\n",
       "          'divided': 10,\n",
       "          'from': 157,\n",
       "          'called': 98,\n",
       "          'Day': 1,\n",
       "          'he': 648,\n",
       "          'Night': 1,\n",
       "          'evening': 10,\n",
       "          'morning': 20,\n",
       "          'were': 163,\n",
       "          'first': 16,\n",
       "          'day': 71,\n",
       "          'a': 342,\n",
       "          'firmament': 8,\n",
       "          'in': 588,\n",
       "          'midst': 6,\n",
       "          'let': 64,\n",
       "          'divide': 5,\n",
       "          'made': 72,\n",
       "          'which': 198,\n",
       "          'under': 17,\n",
       "          'above': 11,\n",
       "          'firmame': 1,\n",
       "          'so': 52,\n",
       "          'Heaven': 1,\n",
       "          'second': 14,\n",
       "          'gathered': 15,\n",
       "          'together': 16,\n",
       "          'unto': 590,\n",
       "          'one': 70,\n",
       "          'place': 46,\n",
       "          'dry': 4,\n",
       "          'land': 184,\n",
       "          'appe': 1,\n",
       "          'Earth': 1,\n",
       "          'gathering': 2,\n",
       "          'Se': 4,\n",
       "          'bring': 40,\n",
       "          'forth': 43,\n",
       "          'grass': 2,\n",
       "          'herb': 7,\n",
       "          'yielding': 5,\n",
       "          'seed': 58,\n",
       "          'fruit': 9,\n",
       "          'tree': 21,\n",
       "          'after': 107,\n",
       "          'his': 651,\n",
       "          'kind': 13,\n",
       "          'whose': 16,\n",
       "          'is': 267,\n",
       "          'itself': 2,\n",
       "          'ear': 9,\n",
       "          'brought': 60,\n",
       "          'ki': 5,\n",
       "          'third': 10,\n",
       "          'lights': 3,\n",
       "          'to': 611,\n",
       "          'night': 27,\n",
       "          'them': 230,\n",
       "          'for': 297,\n",
       "          'signs': 1,\n",
       "          'seasons': 1,\n",
       "          'days': 61,\n",
       "          'yea': 13,\n",
       "          'give': 59,\n",
       "          'two': 52,\n",
       "          'great': 32,\n",
       "          'greater': 5,\n",
       "          'rule': 5,\n",
       "          'lesser': 1,\n",
       "          'nig': 1,\n",
       "          'stars': 5,\n",
       "          'also': 81,\n",
       "          'set': 31,\n",
       "          'over': 49,\n",
       "          'darkne': 1,\n",
       "          'fourth': 3,\n",
       "          'abundantly': 4,\n",
       "          'moving': 2,\n",
       "          'creature': 8,\n",
       "          'hath': 80,\n",
       "          'life': 31,\n",
       "          'fowl': 16,\n",
       "          'may': 43,\n",
       "          'fly': 1,\n",
       "          'open': 2,\n",
       "          'whales': 1,\n",
       "          'every': 88,\n",
       "          'living': 16,\n",
       "          'moveth': 3,\n",
       "          'their': 153,\n",
       "          'winged': 1,\n",
       "          'blessed': 43,\n",
       "          'saying': 79,\n",
       "          'Be': 3,\n",
       "          'fruitful': 14,\n",
       "          'multiply': 18,\n",
       "          'fill': 2,\n",
       "          'seas': 1,\n",
       "          'fifth': 5,\n",
       "          'cattle': 50,\n",
       "          'creeping': 9,\n",
       "          'thing': 39,\n",
       "          'beast': 20,\n",
       "          'creepeth': 8,\n",
       "          'us': 93,\n",
       "          'make': 46,\n",
       "          'man': 114,\n",
       "          'our': 63,\n",
       "          'image': 5,\n",
       "          'likene': 1,\n",
       "          'have': 132,\n",
       "          'dominion': 4,\n",
       "          'fish': 2,\n",
       "          'sea': 8,\n",
       "          'air': 8,\n",
       "          'all': 245,\n",
       "          'So': 21,\n",
       "          'own': 8,\n",
       "          'him': 387,\n",
       "          'male': 11,\n",
       "          'female': 7,\n",
       "          'replenish': 2,\n",
       "          'subdue': 1,\n",
       "          'Behold': 53,\n",
       "          'I': 484,\n",
       "          'given': 21,\n",
       "          'you': 82,\n",
       "          'bearing': 4,\n",
       "          'shall': 253,\n",
       "          'meat': 10,\n",
       "          'wherein': 8,\n",
       "          'green': 3,\n",
       "          'me': 282,\n",
       "          'had': 139,\n",
       "          'behold': 65,\n",
       "          'very': 18,\n",
       "          'sixth': 2,\n",
       "          'Thus': 12,\n",
       "          'heavens': 3,\n",
       "          'finished': 1,\n",
       "          'host': 4,\n",
       "          'on': 57,\n",
       "          'seventh': 4,\n",
       "          'ended': 3,\n",
       "          'work': 4,\n",
       "          'rested': 3,\n",
       "          'sanctified': 1,\n",
       "          'because': 54,\n",
       "          'These': 21,\n",
       "          'are': 119,\n",
       "          'generations': 16,\n",
       "          'when': 112,\n",
       "          'they': 249,\n",
       "          'LORD': 166,\n",
       "          'plant': 1,\n",
       "          'field': 44,\n",
       "          'before': 91,\n",
       "          'gr': 1,\n",
       "          'not': 224,\n",
       "          'caused': 4,\n",
       "          'rain': 4,\n",
       "          'till': 7,\n",
       "          'ground': 24,\n",
       "          'But': 37,\n",
       "          'went': 110,\n",
       "          'up': 122,\n",
       "          'mist': 1,\n",
       "          'watered': 5,\n",
       "          'whole': 10,\n",
       "          'formed': 3,\n",
       "          'dust': 8,\n",
       "          'breathed': 1,\n",
       "          'into': 86,\n",
       "          'nostrils': 2,\n",
       "          'breath': 4,\n",
       "          'became': 12,\n",
       "          'soul': 13,\n",
       "          'planted': 3,\n",
       "          'garden': 13,\n",
       "          'eastward': 3,\n",
       "          'Eden': 6,\n",
       "          'put': 40,\n",
       "          'whom': 25,\n",
       "          'out': 106,\n",
       "          'grow': 2,\n",
       "          'pleasant': 3,\n",
       "          'sight': 17,\n",
       "          'food': 19,\n",
       "          'knowledge': 2,\n",
       "          'evil': 16,\n",
       "          'river': 14,\n",
       "          'water': 27,\n",
       "          'thence': 18,\n",
       "          'parted': 1,\n",
       "          'four': 12,\n",
       "          'heads': 2,\n",
       "          'The': 50,\n",
       "          'name': 100,\n",
       "          'Pison': 1,\n",
       "          'compasseth': 2,\n",
       "          'Havilah': 4,\n",
       "          'where': 20,\n",
       "          'gold': 8,\n",
       "          'bdellium': 1,\n",
       "          'onyx': 1,\n",
       "          'stone': 11,\n",
       "          'Gihon': 1,\n",
       "          'same': 22,\n",
       "          'Ethiopia': 1,\n",
       "          'Hiddekel': 1,\n",
       "          'goeth': 4,\n",
       "          'toward': 19,\n",
       "          'east': 12,\n",
       "          'Assyria': 1,\n",
       "          'Euphrates': 1,\n",
       "          'took': 81,\n",
       "          'dress': 2,\n",
       "          'keep': 13,\n",
       "          'commanded': 18,\n",
       "          'Of': 6,\n",
       "          'thou': 272,\n",
       "          'mayest': 5,\n",
       "          'freely': 1,\n",
       "          'e': 2,\n",
       "          'shalt': 73,\n",
       "          'eat': 47,\n",
       "          'eatest': 1,\n",
       "          'thereof': 12,\n",
       "          'surely': 15,\n",
       "          'die': 25,\n",
       "          'It': 9,\n",
       "          'should': 21,\n",
       "          'alone': 3,\n",
       "          'will': 195,\n",
       "          'an': 76,\n",
       "          'help': 3,\n",
       "          'meet': 12,\n",
       "          'Adam': 18,\n",
       "          'see': 25,\n",
       "          'what': 19,\n",
       "          'would': 7,\n",
       "          'call': 8,\n",
       "          'th': 19,\n",
       "          'whatsoever': 5,\n",
       "          'gave': 48,\n",
       "          'names': 10,\n",
       "          'but': 66,\n",
       "          'found': 37,\n",
       "          'sleep': 5,\n",
       "          'fall': 4,\n",
       "          'sle': 1,\n",
       "          'ribs': 1,\n",
       "          'closed': 2,\n",
       "          'flesh': 26,\n",
       "          'instead': 3,\n",
       "          'rib': 1,\n",
       "          'taken': 21,\n",
       "          'woman': 20,\n",
       "          'her': 173,\n",
       "          'This': 22,\n",
       "          'now': 56,\n",
       "          'bone': 2,\n",
       "          'my': 325,\n",
       "          'bones': 2,\n",
       "          'fle': 2,\n",
       "          'she': 161,\n",
       "          'Woman': 1,\n",
       "          'Man': 1,\n",
       "          'Therefore': 12,\n",
       "          'leave': 6,\n",
       "          'father': 198,\n",
       "          'mother': 28,\n",
       "          'cleave': 1,\n",
       "          'wife': 104,\n",
       "          'both': 29,\n",
       "          'naked': 4,\n",
       "          'ashamed': 1,\n",
       "          'Now': 31,\n",
       "          'serpent': 6,\n",
       "          'more': 21,\n",
       "          'subtil': 1,\n",
       "          'than': 15,\n",
       "          'any': 23,\n",
       "          'Yea': 2,\n",
       "          'Ye': 9,\n",
       "          '?': 148,\n",
       "          'We': 17,\n",
       "          'trees': 3,\n",
       "          'gard': 1,\n",
       "          'neither': 12,\n",
       "          'ye': 87,\n",
       "          'touch': 2,\n",
       "          'lest': 14,\n",
       "          'For': 29,\n",
       "          'doth': 3,\n",
       "          'know': 22,\n",
       "          'then': 33,\n",
       "          'your': 82,\n",
       "          'eyes': 37,\n",
       "          'opened': 12,\n",
       "          'as': 112,\n",
       "          'gods': 5,\n",
       "          'knowing': 1,\n",
       "          'desired': 1,\n",
       "          'wise': 4,\n",
       "          'did': 58,\n",
       "          'husband': 7,\n",
       "          'with': 289,\n",
       "          'knew': 17,\n",
       "          'sewed': 1,\n",
       "          'fig': 1,\n",
       "          'leaves': 1,\n",
       "          'themselves': 14,\n",
       "          'aprons': 1,\n",
       "          'heard': 30,\n",
       "          'voice': 22,\n",
       "          'walking': 1,\n",
       "          'cool': 1,\n",
       "          'd': 5,\n",
       "          'hid': 4,\n",
       "          'presence': 10,\n",
       "          'amongst': 2,\n",
       "          'Where': 5,\n",
       "          'art': 31,\n",
       "          'thy': 267,\n",
       "          'afraid': 9,\n",
       "          'myself': 2,\n",
       "          'Who': 6,\n",
       "          'told': 34,\n",
       "          'thee': 257,\n",
       "          'wast': 4,\n",
       "          'Hast': 4,\n",
       "          'eaten': 9,\n",
       "          'whereof': 1,\n",
       "          'shouldest': 4,\n",
       "          'gavest': 1,\n",
       "          'What': 27,\n",
       "          'this': 123,\n",
       "          'hast': 52,\n",
       "          'done': 36,\n",
       "          'beguiled': 2,\n",
       "          'Because': 11,\n",
       "          'cursed': 5,\n",
       "          'belly': 1,\n",
       "          'go': 64,\n",
       "          'li': 2,\n",
       "          'enmity': 1,\n",
       "          'between': 25,\n",
       "          'bruise': 2,\n",
       "          'head': 16,\n",
       "          'heel': 2,\n",
       "          'Unto': 8,\n",
       "          'greatly': 5,\n",
       "          'sorrow': 6,\n",
       "          'conception': 1,\n",
       "          'children': 62,\n",
       "          'desire': 2,\n",
       "          'hearkened': 7,\n",
       "          'Thou': 12,\n",
       "          'sake': 11,\n",
       "          'Thorns': 1,\n",
       "          'thistles': 1,\n",
       "          'sweat': 1,\n",
       "          'bread': 22,\n",
       "          'return': 6,\n",
       "          'tak': 1,\n",
       "          \"'\": 268,\n",
       "          's': 263,\n",
       "          'Eve': 2,\n",
       "          'coats': 1,\n",
       "          'skins': 2,\n",
       "          'clothed': 1,\n",
       "          'become': 9,\n",
       "          'ev': 4,\n",
       "          'hand': 82,\n",
       "          'take': 47,\n",
       "          'live': 11,\n",
       "          'sent': 44,\n",
       "          'whence': 4,\n",
       "          'drove': 6,\n",
       "          'placed': 2,\n",
       "          'at': 53,\n",
       "          'Cherubims': 1,\n",
       "          'flaming': 1,\n",
       "          'sword': 6,\n",
       "          'turned': 6,\n",
       "          'way': 34,\n",
       "          'conceived': 22,\n",
       "          'bare': 56,\n",
       "          'Cain': 16,\n",
       "          'gotten': 6,\n",
       "          'again': 44,\n",
       "          'brother': 91,\n",
       "          'Abel': 8,\n",
       "          'keeper': 5,\n",
       "          'sheep': 17,\n",
       "          'tiller': 1,\n",
       "          'process': 2,\n",
       "          'time': 25,\n",
       "          'came': 177,\n",
       "          'pass': 81,\n",
       "          'offering': 8,\n",
       "          'firstlings': 1,\n",
       "          'flock': 14,\n",
       "          'fat': 5,\n",
       "          'respect': 2,\n",
       "          'offeri': 2,\n",
       "          'wroth': 6,\n",
       "          'countenance': 4,\n",
       "          'fell': 12,\n",
       "          'Why': 3,\n",
       "          'why': 5,\n",
       "          'fallen': 1,\n",
       "          'If': 18,\n",
       "          'doest': 2,\n",
       "          'well': 49,\n",
       "          'accepted': 2,\n",
       "          'if': 35,\n",
       "          'sin': 8,\n",
       "          'lieth': 2,\n",
       "          'door': 12,\n",
       "          'talked': 5,\n",
       "          'rose': 21,\n",
       "          'against': 23,\n",
       "          'slew': 7,\n",
       "          'n': 4,\n",
       "          'Am': 2,\n",
       "          'blood': 11,\n",
       "          'crieth': 1,\n",
       "          'mouth': 14,\n",
       "          'receive': 3,\n",
       "          'When': 8,\n",
       "          'tillest': 1,\n",
       "          'henceforth': 1,\n",
       "          'yield': 2,\n",
       "          'strength': 3,\n",
       "          'fugitive': 2,\n",
       "          'vagabond': 2,\n",
       "          'My': 18,\n",
       "          'punishment': 1,\n",
       "          'can': 7,\n",
       "          'bear': 13,\n",
       "          'driven': 1,\n",
       "          'come': 67,\n",
       "          'findeth': 1,\n",
       "          'slay': 11,\n",
       "          'whosoever': 1,\n",
       "          'slayeth': 1,\n",
       "          'vengeance': 1,\n",
       "          'sevenfold': 3,\n",
       "          'mark': 1,\n",
       "          'finding': 1,\n",
       "          'kill': 5,\n",
       "          'dwelt': 26,\n",
       "          'Nod': 1,\n",
       "          'Enoch': 8,\n",
       "          'builded': 7,\n",
       "          'city': 41,\n",
       "          'son': 152,\n",
       "          'born': 33,\n",
       "          'Irad': 2,\n",
       "          'begat': 67,\n",
       "          'Mehujael': 2,\n",
       "          'Methusa': 1,\n",
       "          'Methusael': 1,\n",
       "          'Lamech': 10,\n",
       "          'wives': 22,\n",
       "          'Adah': 8,\n",
       "          'other': 16,\n",
       "          'Zillah': 3,\n",
       "          'Jabal': 1,\n",
       "          'such': 11,\n",
       "          'dwell': 22,\n",
       "          'tents': 5,\n",
       "          'Jubal': 1,\n",
       "          'handle': 1,\n",
       "          'harp': 2,\n",
       "          'organ': 1,\n",
       "          'Tubalcain': 2,\n",
       "          'instructor': 1,\n",
       "          'artificer': 1,\n",
       "          'brass': 1,\n",
       "          'ir': 1,\n",
       "          'sister': 21,\n",
       "          'Naamah': 1,\n",
       "          'Hear': 3,\n",
       "          'hearken': 5,\n",
       "          'spee': 1,\n",
       "          'slain': 2,\n",
       "          'wounding': 1,\n",
       "          'young': 12,\n",
       "          'hurt': 4,\n",
       "          'avenged': 1,\n",
       "          'truly': 4,\n",
       "          'seventy': 5,\n",
       "          'appointed': 4,\n",
       "          'another': 15,\n",
       "          'Seth': 5,\n",
       "          'En': 1,\n",
       "          'began': 6,\n",
       "          'men': 65,\n",
       "          'book': 1,\n",
       "          'likeness': 2,\n",
       "          'Male': 1,\n",
       "          'lived': 38,\n",
       "          'hundred': 61,\n",
       "          'thirty': 17,\n",
       "          'years': 102,\n",
       "          'begotten': 1,\n",
       "          'eight': 10,\n",
       "          'sons': 142,\n",
       "          'daughters': 53,\n",
       "          'nine': 12,\n",
       "          'died': 33,\n",
       "          'five': 22,\n",
       "          'Enos': 5,\n",
       "          'seven': 54,\n",
       "          'daughte': 8,\n",
       "          'twelve': 6,\n",
       "          'ninety': 6,\n",
       "          'Cainan': 5,\n",
       "          'fifteen': 2,\n",
       "          'Mahalaleel': 5,\n",
       "          'forty': 15,\n",
       "          'ten': 18,\n",
       "          'sixty': 6,\n",
       "          'Jared': 5,\n",
       "          'Eno': 1,\n",
       "          'Methuselah': 5,\n",
       "          'walked': 3,\n",
       "          'three': 30,\n",
       "          'eighty': 3,\n",
       "          'Noah': 41,\n",
       "          'comfort': 4,\n",
       "          'concerning': 6,\n",
       "          'toil': 2,\n",
       "          'hands': 18,\n",
       "          'old': 45,\n",
       "          'Shem': 14,\n",
       "          'Ham': 10,\n",
       "          'Japheth': 7,\n",
       "          'That': 11,\n",
       "          'fair': 5,\n",
       "          'chose': 2,\n",
       "          'spirit': 3,\n",
       "          'always': 1,\n",
       "          'strive': 2,\n",
       "          'yet': 35,\n",
       "          'twenty': 11,\n",
       "          'There': 5,\n",
       "          'giants': 1,\n",
       "          'those': 8,\n",
       "          'mighty': 7,\n",
       "          'renown': 1,\n",
       "          'wickedness': 2,\n",
       "          'imagination': 2,\n",
       "          'thoughts': 1,\n",
       "          'heart': 11,\n",
       "          'only': 13,\n",
       "          'continually': 3,\n",
       "          'repented': 1,\n",
       "          'grieved': 4,\n",
       "          'destroy': 15,\n",
       "          'fowls': 5,\n",
       "          'repenteth': 1,\n",
       "          'grace': 11,\n",
       "          'just': 1,\n",
       "          'perfect': 2,\n",
       "          'corrupt': 2,\n",
       "          'filled': 5,\n",
       "          'violence': 2,\n",
       "          'looked': 15,\n",
       "          'corrupted': 1,\n",
       "          'end': 9,\n",
       "          'through': 5,\n",
       "          'Make': 2,\n",
       "          'ark': 25,\n",
       "          'gopher': 1,\n",
       "          'wood': 5,\n",
       "          'rooms': 1,\n",
       "          'pitch': 2,\n",
       "          'within': 9,\n",
       "          'fashion': 1,\n",
       "          'length': 2,\n",
       "          'cubits': 4,\n",
       "          'breadth': 2,\n",
       "          'fifty': 9,\n",
       "          'height': 1,\n",
       "          'A': 2,\n",
       "          'window': 3,\n",
       "          'cubit': 1,\n",
       "          'finish': 1,\n",
       "          'side': 2,\n",
       "          'lower': 1,\n",
       "          'stories': 1,\n",
       "          'even': 28,\n",
       "          'do': 45,\n",
       "          'flood': 11,\n",
       "          'establish': 6,\n",
       "          'covenant': 26,\n",
       "          'sort': 3,\n",
       "          'alive': 12,\n",
       "          'gather': 3,\n",
       "          'according': 32,\n",
       "          'Come': 8,\n",
       "          'house': 82,\n",
       "          'seen': 11,\n",
       "          'righteous': 10,\n",
       "          'generation': 3,\n",
       "          'clean': 7,\n",
       "          'by': 80,\n",
       "          'sevens': 2,\n",
       "          'fema': 1,\n",
       "          'beasts': 6,\n",
       "          'cause': 1,\n",
       "          'nights': 2,\n",
       "          'substance': 7,\n",
       "          'off': 20,\n",
       "          'six': 7,\n",
       "          'hundredth': 2,\n",
       "          'year': 9,\n",
       "          'month': 12,\n",
       "          'seventeenth': 2,\n",
       "          'fountains': 2,\n",
       "          'broken': 3,\n",
       "          'windows': 2,\n",
       "          'selfsame': 3,\n",
       "          'entered': 5,\n",
       "          'They': 6,\n",
       "          'bird': 1,\n",
       "          'h': 17,\n",
       "          'shut': 3,\n",
       "          'increased': 4,\n",
       "          'lift': 8,\n",
       "          'prevailed': 7,\n",
       "          'exceedingly': 8,\n",
       "          'high': 6,\n",
       "          'hills': 1,\n",
       "          'covered': 6,\n",
       "          'Fifteen': 1,\n",
       "          'upward': 1,\n",
       "          'prevail': 2,\n",
       "          'mountains': 4,\n",
       "          'm': 5,\n",
       "          'All': 5,\n",
       "          'destroyed': 5,\n",
       "          'things': 16,\n",
       "          'remained': 2,\n",
       "          'remembered': 4,\n",
       "          'wind': 4,\n",
       "          'asswaged': 1,\n",
       "          'stopped': 3,\n",
       "          'restrained': 3,\n",
       "          'returned': 18,\n",
       "          'abated': 3,\n",
       "          'Ararat': 1,\n",
       "          'decreased': 1,\n",
       "          'until': 17,\n",
       "          'tenth': 3,\n",
       "          'tops': 1,\n",
       "          'ma': 1,\n",
       "          'raven': 1,\n",
       "          'fro': 1,\n",
       "          'dried': 3,\n",
       "          'Also': 2,\n",
       "          'dove': 5,\n",
       "          'no': 26,\n",
       "          'rest': 4,\n",
       "          'sole': 1,\n",
       "          'foot': 2,\n",
       "          'pulled': 2,\n",
       "          'stayed': 3,\n",
       "          'lo': 11,\n",
       "          'olive': 1,\n",
       "          'leaf': 1,\n",
       "          'pluckt': 1,\n",
       "          'o': 5,\n",
       "          'removed': 6,\n",
       "          'covering': 2,\n",
       "          'twentieth': 1,\n",
       "          'spake': 39,\n",
       "          'Go': 14,\n",
       "          'Bring': 8,\n",
       "          'breed': 1,\n",
       "          'Every': 3,\n",
       "          'kinds': 1,\n",
       "          'altar': 13,\n",
       "          'offered': 4,\n",
       "          'burnt': 8,\n",
       "          'offerings': 1,\n",
       "          'smelled': 2,\n",
       "          'sweet': 1,\n",
       "          'savour': 1,\n",
       "          'curse': 4,\n",
       "          'youth': 2,\n",
       "          'smite': 3,\n",
       "          'While': 1,\n",
       "          'remaineth': 1,\n",
       "          'seedtime': 1,\n",
       "          'harvest': 3,\n",
       "          'cold': 1,\n",
       "          'heat': 2,\n",
       "          'summer': 1,\n",
       "          'winter': 1,\n",
       "          'cease': 1,\n",
       "          'fear': 11,\n",
       "          'dread': 1,\n",
       "          'fishes': 1,\n",
       "          'delivered': 5,\n",
       "          'liveth': 1,\n",
       "          'lives': 3,\n",
       "          'require': 5,\n",
       "          'Whoso': 1,\n",
       "          'sheddeth': 1,\n",
       "          'shed': 1,\n",
       "          'therein': 10,\n",
       "          'cut': 2,\n",
       "          'token': 4,\n",
       "          'perpetual': 1,\n",
       "          'generatio': 2,\n",
       "          'bow': 11,\n",
       "          'cloud': 3,\n",
       "          'clo': 1,\n",
       "          'remember': 4,\n",
       "          'look': 9,\n",
       "          'everlasting': 8,\n",
       "          'established': 2,\n",
       "          'Japhe': 2,\n",
       "          'Canaan': 43,\n",
       "          'overspread': 1,\n",
       "          'husbandman': 1,\n",
       "          'vineyard': 1,\n",
       "          'drank': 4,\n",
       "          'wine': 11,\n",
       "          'drunken': 1,\n",
       "          'uncovered': 1,\n",
       "          'tent': 22,\n",
       "          'nakedness': 5,\n",
       "          'brethren': 80,\n",
       "          'garment': 8,\n",
       "          'laid': 13,\n",
       "          'shoulders': 1,\n",
       "          'backward': 3,\n",
       "          'faces': 4,\n",
       "          'awoke': 4,\n",
       "          'younger': 14,\n",
       "          'Cursed': 2,\n",
       "          'servant': 41,\n",
       "          'servants': 37,\n",
       "          'Blessed': 3,\n",
       "          'enlarge': 1,\n",
       "          'these': 81,\n",
       "          'Gomer': 2,\n",
       "          'Magog': 1,\n",
       "          'Madai': 1,\n",
       "          'Javan': 2,\n",
       "          'Tubal': 1,\n",
       "          'Meshech': 1,\n",
       "          'Tiras': 1,\n",
       "          'Ashkenaz': 1,\n",
       "          'Riphath': 1,\n",
       "          'Togarmah': 1,\n",
       "          'Elishah': 1,\n",
       "          'Tarshish': 1,\n",
       "          'Kittim': 1,\n",
       "          'Dodanim': 1,\n",
       "          'By': 4,\n",
       "          'isles': 1,\n",
       "          'Gentiles': 1,\n",
       "          'lands': 5,\n",
       "          'tongue': 1,\n",
       "          'families': 9,\n",
       "          'nations': 18,\n",
       "          'Cush': 3,\n",
       "          'Mizraim': 2,\n",
       "          'Phut': 1,\n",
       "          'Seba': 1,\n",
       "          'Sabtah': 1,\n",
       "          'Raamah': 2,\n",
       "          'Sabtech': 1,\n",
       "          'Sheba': 3,\n",
       "          'Dedan': 3,\n",
       "          'Nimrod': 2,\n",
       "          'He': 7,\n",
       "          'hunter': 3,\n",
       "          'wherefore': 7,\n",
       "          'Even': 2,\n",
       "          'kingdom': 2,\n",
       "          'Babel': 2,\n",
       "          'Erech': 1,\n",
       "          'Accad': 1,\n",
       "          'Calneh': 1,\n",
       "          'Shinar': 4,\n",
       "          'Out': 2,\n",
       "          'Asshur': 2,\n",
       "          'Nineveh': 2,\n",
       "          'Rehoboth': 3,\n",
       "          'Calah': 2,\n",
       "          'Resen': 1,\n",
       "          'Ludim': 1,\n",
       "          'Anamim': 1,\n",
       "          'Lehabim': 1,\n",
       "          'Naphtuhim': 1,\n",
       "          'Pathrusim': 1,\n",
       "          'Casluhim': 1,\n",
       "          '(': 6,\n",
       "          'Philistim': 1,\n",
       "          ',)': 1,\n",
       "          'Caphtorim': 1,\n",
       "          'Sidon': 2,\n",
       "          'Heth': 12,\n",
       "          'Jebusite': 1,\n",
       "          'Amorite': 3,\n",
       "          'Girgasite': 1,\n",
       "          'Hivite': 3,\n",
       "          'Arkite': 1,\n",
       "          'Sinite': 1,\n",
       "          'Arvadite': 1,\n",
       "          'Zemarite': 1,\n",
       "          'Hamathite': 1,\n",
       "          'afterward': 4,\n",
       "          'Canaanites': 7,\n",
       "          'spread': 4,\n",
       "          'abroad': 7,\n",
       "          'border': 2,\n",
       "          'comest': 3,\n",
       "          'Gerar': 8,\n",
       "          'Gaza': 1,\n",
       "          'goest': 5,\n",
       "          'Sodom': 19,\n",
       "          'Gomorrah': 9,\n",
       "          'Admah': 3,\n",
       "          'Zeboim': 1,\n",
       "          'Lasha': 1,\n",
       "          'tongues': 2,\n",
       "          'countries': 4,\n",
       "          'Eber': 7,\n",
       "          'elder': 4,\n",
       "          'Elam': 3,\n",
       "          'Arphaxad': 6,\n",
       "          'Lud': 1,\n",
       "          'Aram': 3,\n",
       "          'Uz': 2,\n",
       "          'Hul': 1,\n",
       "          'Gether': 1,\n",
       "          'Mash': 1,\n",
       "          'Salah': 6,\n",
       "          'Peleg': 5,\n",
       "          'Joktan': 3,\n",
       "          'Almodad': 1,\n",
       "          'Sheleph': 1,\n",
       "          'Hazarmaveth': 1,\n",
       "          'Jerah': 1,\n",
       "          'Hadoram': 1,\n",
       "          'Uzal': 1,\n",
       "          'Diklah': 1,\n",
       "          'Obal': 1,\n",
       "          'Abimael': 1,\n",
       "          'Ophir': 1,\n",
       "          'Jobab': 3,\n",
       "          'dwelling': 3,\n",
       "          'Mesha': 1,\n",
       "          'Sephar': 1,\n",
       "          'mount': 10,\n",
       "          'natio': 1,\n",
       "          'language': 4,\n",
       "          'speech': 2,\n",
       "          'journeyed': 8,\n",
       "          'plain': 12,\n",
       "          'brick': 2,\n",
       "          'burn': 2,\n",
       "          'thoroughly': 1,\n",
       "          'slime': 1,\n",
       "          'morter': 1,\n",
       "          'build': 2,\n",
       "          'tower': 3,\n",
       "          'top': 3,\n",
       "          'reach': 1,\n",
       "          'we': 90,\n",
       "          'scattered': 2,\n",
       "          'down': 59,\n",
       "          'people': 35,\n",
       "          'begin': 1,\n",
       "          'nothing': 4,\n",
       "          'imagined': 1,\n",
       "          'confound': 2,\n",
       "          'understand': 2,\n",
       "          'left': 26,\n",
       "          'scatter': 2,\n",
       "          'flo': 1,\n",
       "          'Reu': 4,\n",
       "          'Serug': 4,\n",
       "          'Nahor': 16,\n",
       "          'Terah': 9,\n",
       "          'nineteen': 1,\n",
       "          'Abram': 58,\n",
       "          'Haran': 13,\n",
       "          'Lot': 30,\n",
       "          'nativity': 1,\n",
       "          'Ur': 3,\n",
       "          'Chaldees': 3,\n",
       "          'Sarai': 17,\n",
       "          'Milcah': 7,\n",
       "          'daughter': 46,\n",
       "          'Iscah': 1,\n",
       "          'barren': 2,\n",
       "          'child': 16,\n",
       "          'law': 10,\n",
       "          'Get': 2,\n",
       "          'country': 16,\n",
       "          'kindred': 10,\n",
       "          'shew': 5,\n",
       "          'nation': 8,\n",
       "          'bless': 23,\n",
       "          'blessi': 1,\n",
       "          'curseth': 2,\n",
       "          'departed': 12,\n",
       "          'spoken': 9,\n",
       "          'souls': 8,\n",
       "          'passed': 8,\n",
       "          'Sichem': 1,\n",
       "          'Moreh': 1,\n",
       "          'Canaanite': 3,\n",
       "          'appeared': 10,\n",
       "          'la': 3,\n",
       "          'who': 18,\n",
       "          'mountain': 5,\n",
       "          'Bethel': 12,\n",
       "          'pitched': 7,\n",
       "          'having': 1,\n",
       "          'west': 2,\n",
       "          'Hai': 2,\n",
       "          'ea': 3,\n",
       "          'going': 3,\n",
       "          'still': 2,\n",
       "          'south': 5,\n",
       "          'famine': 24,\n",
       "          'Egypt': 74,\n",
       "          'sojourn': 3,\n",
       "          'grievous': 6,\n",
       "          'near': 24,\n",
       "          'enter': 1,\n",
       "          'Egyptians': 12,\n",
       "          'say': 23,\n",
       "          'save': 4,\n",
       "          'Say': 2,\n",
       "          'pray': 48,\n",
       "          'beheld': 5,\n",
       "          'princes': 3,\n",
       "          'Pharaoh': 90,\n",
       "          'commended': 1,\n",
       "          'Phara': 4,\n",
       "          'entreated': 1,\n",
       "          'oxen': 5,\n",
       "          'asses': 14,\n",
       "          'menservants': 5,\n",
       "          'maidservants': 5,\n",
       "          'camels': 22,\n",
       "          'plagued': 1,\n",
       "          'plagues': 1,\n",
       "          'didst': 7,\n",
       "          'tell': 17,\n",
       "          'saidst': 6,\n",
       "          'She': 8,\n",
       "          'might': 11,\n",
       "          'therefore': 35,\n",
       "          ...})"
      ]
     },
     "execution_count": 13,
     "metadata": {},
     "output_type": "execute_result"
    }
   ],
   "source": [
    "nltk.book.text3.vocab()"
   ]
  },
  {
   "cell_type": "code",
   "execution_count": 14,
   "metadata": {},
   "outputs": [
    {
     "data": {
      "image/png": "[encoded data removed]",
      "text/plain": [
       "<matplotlib.figure.Figure at 0x123661630>"
      ]
     },
     "metadata": {},
     "output_type": "display_data"
    }
   ],
   "source": [
    "from nltk.corpus import udhr\n",
    "languages = ['Chickasaw', 'English', 'German_Deutsch', 'Greenlandic_Inuktikut', 'Hungarian_Magyar', 'Ibibio_Efik']\n",
    "cfd = nltk.ConditionalFreqDist(\n",
    "    (lang, len(word))\n",
    "    for lang in languages\n",
    "    for word in udhr.words(lang + '-Latin1'))\n",
    "cfd.plot(cumulative=True)"
   ]
  },
  {
   "cell_type": "code",
   "execution_count": 15,
   "metadata": {},
   "outputs": [
    {
     "data": {
      "text/plain": [
       "[('NOUN', 30654),\n",
       " ('VERB', 14399),\n",
       " ('ADP', 12355),\n",
       " ('.', 11928),\n",
       " ('DET', 11389),\n",
       " ('ADJ', 6706),\n",
       " ('ADV', 3349),\n",
       " ('CONJ', 2717),\n",
       " ('PRON', 2535),\n",
       " ('PRT', 2264),\n",
       " ('NUM', 2166),\n",
       " ('X', 92)]"
      ]
     },
     "execution_count": 15,
     "metadata": {},
     "output_type": "execute_result"
    }
   ],
   "source": [
    "from nltk.corpus import brown\n",
    "brown_news_tagged = brown.tagged_words(categories='news', tagset='universal')\n",
    "tag_fd = nltk.FreqDist(tag for (word, tag) in brown_news_tagged)\n",
    "tag_fd.most_common()"
   ]
  },
  {
   "cell_type": "code",
   "execution_count": 16,
   "metadata": {},
   "outputs": [
    {
     "name": "stdout",
     "output_type": "stream",
     "text": [
      "['is', 'said', 'was', 'are', 'be', 'has', 'have', 'will', 'says', 'would', 'were', 'had', 'been', 'could', \"'s\", 'can', 'do', 'say', 'make', 'may']\n"
     ]
    }
   ],
   "source": [
    "wsj = nltk.corpus.treebank.tagged_words(tagset='universal')\n",
    "word_tag_fd = nltk.FreqDist(wsj)\n",
    "print([wt[0] for (wt, _) in word_tag_fd.most_common() if wt[1] == 'VERB'][:20])"
   ]
  },
  {
   "cell_type": "code",
   "execution_count": 17,
   "metadata": {},
   "outputs": [
    {
     "name": "stdout",
     "output_type": "stream",
     "text": [
      "combined to achieve\n",
      "continue to place\n",
      "serve to protect\n",
      "wanted to wait\n",
      "allowed to place\n",
      "expected to become\n",
      "expected to approve\n",
      "expected to make\n",
      "intends to make\n",
      "seek to set\n",
      "like to see\n",
      "designed to provide\n",
      "get to hear\n",
      "expects to tell\n",
      "expected to give\n",
      "prefer to pay\n",
      "required to obtain\n",
      "permitted to teach\n",
      "designed to reduce\n",
      "Asked to elaborate\n",
      "raised to pay\n"
     ]
    }
   ],
   "source": [
    "from nltk.corpus import brown\n",
    "\n",
    "def process(sentence):\n",
    "    for (w1,t1), (w2,t2), (w3,t3) in nltk.trigrams(sentence):\n",
    "        if (t1.startswith('V') and t2 == 'TO' and t3.startswith('V')):\n",
    "            return w1, w2, w3\n",
    "\n",
    "counter = 0\n",
    "for tagged_sent in brown.tagged_sents():\n",
    "    res = process(tagged_sent)\n",
    "    if res:\n",
    "        print(\" \".join(res))\n",
    "        counter += 1\n",
    "    if counter > 20:\n",
    "        break"
   ]
  },
  {
   "cell_type": "markdown",
   "metadata": {},
   "source": [
    "TOKENIZATION\n",
    "==="
   ]
  },
  {
   "cell_type": "code",
   "execution_count": 5,
   "metadata": {},
   "outputs": [],
   "source": [
    "from nltk.tokenize import word_tokenize, sent_tokenize, regexp_tokenize, treebank, punkt"
   ]
  },
  {
   "cell_type": "code",
   "execution_count": 26,
   "metadata": {},
   "outputs": [],
   "source": [
    "import spacy\n",
    "nlp = spacy.load('en')"
   ]
  },
  {
   "cell_type": "code",
   "execution_count": 31,
   "metadata": {},
   "outputs": [
    {
     "name": "stdout",
     "output_type": "stream",
     "text": [
      "Hello Mr. Smith, how are you doing today? The weather is great, and Python is awesome. The sky is pinkish-blue. You shouldn't eat cardboard.\n"
     ]
    }
   ],
   "source": [
    "example_tok = \"Hello Mr. Smith, how are you doing today? The weather is great, and Python is awesome. The sky is pinkish-blue. You shouldn't eat cardboard.\"\n",
    "print(example_tok)"
   ]
  },
  {
   "cell_type": "code",
   "execution_count": 7,
   "metadata": {},
   "outputs": [
    {
     "data": {
      "text/plain": [
       "['Hello Mr. Smith, how are you doing today?',\n",
       " 'The weather is great, and Python is awesome.',\n",
       " 'The sky is pinkish-blue.',\n",
       " \"You shouldn't eat cardboard.\"]"
      ]
     },
     "execution_count": 7,
     "metadata": {},
     "output_type": "execute_result"
    }
   ],
   "source": [
    "sent_tokenize(example_tok)"
   ]
  },
  {
   "cell_type": "code",
   "execution_count": 8,
   "metadata": {},
   "outputs": [
    {
     "name": "stdout",
     "output_type": "stream",
     "text": [
      "['Hello', 'Mr.', 'Smith', ',', 'how', 'are', 'you', 'doing', 'today', '?', 'The', 'weather', 'is', 'great', ',', 'and', 'Python', 'is', 'awesome', '.', 'The', 'sky', 'is', 'pinkish-blue', '.', 'You', 'should', \"n't\", 'eat', 'cardboard', '.']\n"
     ]
    }
   ],
   "source": [
    "print(word_tokenize(example_tok))"
   ]
  },
  {
   "cell_type": "code",
   "execution_count": 16,
   "metadata": {},
   "outputs": [
    {
     "name": "stdout",
     "output_type": "stream",
     "text": [
      "['Hello', 'Mr.', 'Smith,', 'how', 'are', 'you', 'doing', 'today?', 'The', 'weather', 'is', 'great,', 'and', 'Python', 'is', 'awesome.', 'The', 'sky', 'is', 'pinkish-blue.', 'You', \"shouldn't\", 'eat', 'cardboard.']\n"
     ]
    }
   ],
   "source": [
    "print(example_tok.split(\" \"))"
   ]
  },
  {
   "cell_type": "code",
   "execution_count": 19,
   "metadata": {},
   "outputs": [],
   "source": [
    "import re\n",
    "punkt = re.compile(\"\\s\")"
   ]
  },
  {
   "cell_type": "code",
   "execution_count": 21,
   "metadata": {},
   "outputs": [
    {
     "name": "stdout",
     "output_type": "stream",
     "text": [
      "['Hello', 'Mr.', 'Smith,', 'how', 'are', 'you', 'doing', 'today?', 'The', 'weather', 'is', 'great,', 'and', 'Python', 'is', 'awesome.', 'The', 'sky', 'is', 'pinkish-blue.', 'You', \"shouldn't\", 'eat', 'cardboard.']\n"
     ]
    }
   ],
   "source": [
    "print(punkt.split(example_tok))"
   ]
  },
  {
   "cell_type": "code",
   "execution_count": 25,
   "metadata": {},
   "outputs": [
    {
     "name": "stdout",
     "output_type": "stream",
     "text": [
      "['Hello', 'Mr.', 'Smith', ',', 'how', 'are', 'you', 'doing', 'today', '?', 'The', 'weather', 'is', 'great', ',', 'and', 'Python', 'is', 'awesome', '.', 'The', 'sky', 'is', 'pinkish', '-', 'blue', '.', 'You', 'should', \"n't\", 'eat', 'cardboard', '.']\n"
     ]
    }
   ],
   "source": [
    "print([str(el) for el in nlp(example_tok)])"
   ]
  },
  {
   "cell_type": "code",
   "execution_count": 27,
   "metadata": {},
   "outputs": [
    {
     "data": {
      "text/plain": [
       "33"
      ]
     },
     "execution_count": 27,
     "metadata": {},
     "output_type": "execute_result"
    }
   ],
   "source": [
    "len(nlp(example_tok))"
   ]
  },
  {
   "cell_type": "code",
   "execution_count": 28,
   "metadata": {},
   "outputs": [
    {
     "data": {
      "text/plain": [
       "31"
      ]
     },
     "execution_count": 28,
     "metadata": {},
     "output_type": "execute_result"
    }
   ],
   "source": [
    "len(word_tokenize(example_tok))"
   ]
  },
  {
   "cell_type": "code",
   "execution_count": 30,
   "metadata": {},
   "outputs": [
    {
     "data": {
      "text/plain": [
       "24"
      ]
     },
     "execution_count": 30,
     "metadata": {},
     "output_type": "execute_result"
    }
   ],
   "source": [
    "len(punkt.split(example_tok))"
   ]
  },
  {
   "cell_type": "code",
   "execution_count": 22,
   "metadata": {},
   "outputs": [
    {
     "name": "stdout",
     "output_type": "stream",
     "text": [
      "['Hello', 'Mr.', 'Smith', ',', 'how', 'are', 'you', 'doing', 'today', '?', 'The', 'weather', 'is', 'great', ',', 'and', 'Python', 'is', 'awesome', '.', 'The', 'sky', 'is', 'pinkish-blue', '.', 'You', 'should', \"n't\", 'eat', 'cardboard', '.']\n",
      "['Hello Mr. Smith, how are you doing today?', 'The weather is great, and Python is awesome.', 'The sky is pinkish-blue.', \"You shouldn't eat cardboard.\"]\n",
      "['Hello', 'Mr.', 'Smith', ',', 'how', 'are', 'you', 'doing', 'today', '?', 'The', 'weather', 'is', 'great', ',', 'and', 'Python', 'is', 'awesome.', 'The', 'sky', 'is', 'pinkish-blue.', 'You', 'should', \"n't\", 'eat', 'cardboard', '.']\n"
     ]
    }
   ],
   "source": [
    "tokenizers = [word_tokenize, sent_tokenize, treebank.TreebankWordTokenizer().tokenize, ]\n",
    "for t in tokenizers:\n",
    "    print(t(example_tok))"
   ]
  },
  {
   "cell_type": "code",
   "execution_count": 23,
   "metadata": {},
   "outputs": [
    {
     "data": {
      "text/plain": [
       "['Die Orgellandschaft Südniedersachsen umfasst das Gebiet der Landkreise Goslar, Göttingen, Hameln-Pyrmont, Hildesheim, Holzminden, Northeim und Osterode am Harz sowie die Stadt Salzgitter.',\n",
       " 'Über 70 historische Orgeln vom 17. bis 19.',\n",
       " 'Jahrhundert sind in der südniedersächsischen Orgellandschaft vollständig oder in Teilen erhalten.']"
      ]
     },
     "execution_count": 23,
     "metadata": {},
     "output_type": "execute_result"
    }
   ],
   "source": [
    "german_text = u\"Die Orgellandschaft Südniedersachsen umfasst das Gebiet der Landkreise Goslar, Göttingen, Hameln-Pyrmont, Hildesheim, Holzminden, Northeim und Osterode am Harz sowie die Stadt Salzgitter. Über 70 historische Orgeln vom 17. bis 19. Jahrhundert sind in der südniedersächsischen Orgellandschaft vollständig oder in Teilen erhalten. \"\n",
    "sent_tokenize(german_text)"
   ]
  },
  {
   "cell_type": "code",
   "execution_count": 24,
   "metadata": {},
   "outputs": [
    {
     "data": {
      "text/plain": [
       "['Die Orgellandschaft Südniedersachsen umfasst das Gebiet der Landkreise Goslar, Göttingen, Hameln-Pyrmont, Hildesheim, Holzminden, Northeim und Osterode am Harz sowie die Stadt Salzgitter.',\n",
       " 'Über 70 historische Orgeln vom 17. bis 19. Jahrhundert sind in der südniedersächsischen Orgellandschaft vollständig oder in Teilen erhalten.']"
      ]
     },
     "execution_count": 24,
     "metadata": {},
     "output_type": "execute_result"
    }
   ],
   "source": [
    "sent_tokenize(german_text, language='German')"
   ]
  },
  {
   "cell_type": "code",
   "execution_count": 25,
   "metadata": {},
   "outputs": [
    {
     "data": {
      "text/plain": [
       "['• I am a sentence • I am another sentence • I am a sentence • I am another sentence']"
      ]
     },
     "execution_count": 25,
     "metadata": {},
     "output_type": "execute_result"
    }
   ],
   "source": [
    "bullet_sent = '• I am a sentence • I am another sentence • I am a sentence • I am another sentence'\n",
    "sent_tokenize(bullet_sent)"
   ]
  },
  {
   "cell_type": "code",
   "execution_count": 26,
   "metadata": {},
   "outputs": [
    {
     "name": "stdout",
     "output_type": "stream",
     "text": [
      "['austen-emma.txt', 'austen-persuasion.txt', 'austen-sense.txt', 'bible-kjv.txt', 'blake-poems.txt', 'bryant-stories.txt', 'burgess-busterbrown.txt', 'carroll-alice.txt', 'chesterton-ball.txt', 'chesterton-brown.txt', 'chesterton-thursday.txt', 'edgeworth-parents.txt', 'melville-moby_dick.txt', 'milton-paradise.txt', 'shakespeare-caesar.txt', 'shakespeare-hamlet.txt', 'shakespeare-macbeth.txt', 'whitman-leaves.txt']\n"
     ]
    },
    {
     "data": {
      "text/plain": [
       "11793318"
      ]
     },
     "execution_count": 26,
     "metadata": {},
     "output_type": "execute_result"
    }
   ],
   "source": [
    "from nltk.corpus import gutenberg\n",
    " \n",
    "print(gutenberg.fileids())\n",
    " \n",
    "text = \"\"\n",
    "for file_id in gutenberg.fileids():\n",
    "    text += gutenberg.raw(file_id)\n",
    " \n",
    "len(text) "
   ]
  },
  {
   "cell_type": "code",
   "execution_count": 27,
   "metadata": {
    "collapsed": true
   },
   "outputs": [],
   "source": [
    "from pprint import pprint\n",
    "from nltk.tokenize.punkt import PunktSentenceTokenizer, PunktTrainer\n",
    " \n",
    "trainer = PunktTrainer()\n",
    "trainer.INCLUDE_ALL_COLLOCS = True\n",
    "trainer.train(text)\n",
    " \n",
    "tokenizer = PunktSentenceTokenizer(trainer.get_params())\n",
    " "
   ]
  },
  {
   "cell_type": "code",
   "execution_count": 28,
   "metadata": {},
   "outputs": [
    {
     "name": "stdout",
     "output_type": "stream",
     "text": [
      "['Mr. James told me Dr.', 'Brown is not available today.', 'I will try tomorrow.']\n",
      "{'ang', 'b', 'rosin', 'bru', 'p.m', 'moo', 'rev', 'oct', 'c', 'hec', '1.ple', 'pol', 'ophe', 'ros', 'boa', 'y.sey', 'jun', 'ser', 'w', 'finsb', 'n', 'malc', 'm', 'mes', 'ro', 'cin', 'cai', 'g', 'macb', 'stra', 'k', 'octa', 'gho', 'ibid', 'calp', 'mss', 'ely', 'fred', 'dut', 'mal', 'hon', 'p', 'k.c', 'sw', 'ed', 'o.r', 'hag', 'lbs', 'esq', 'u', 'cop', 'a.d', 'm.d', 'ami', 'var', 'laer', 'ple', 'messa', 'cly', 'cic', 'ult', 'u.s', 'sey', 'talb', 'deci', 'fran', 'l10', 'v.e', 'osr', 'm.p', 'macd', 'etc', 'polon', 'banq', 'tit', 'cyn', 'gent', 'j', 'cassi', 'ger', 'fla', 'pind', 'doct', 'ave', 'cath', 'p.s', 'xxx', 'clo', 'g.k', 'a.s', 'vol', 'brut', 'xx', 'luc', 'ant', 'mt', 's.w.f', 'qu', 'treb', 'i.e', 'f', 'guil', 'bap', 'dag', 'mac', 'amb', \"'w\", 'burs', 'vat', 'foh', 'hora', 'dard', 'trans', 'syw', 'clit', 'len', 'ment', \"'mr\", 'cass', 'cob', 'p.h', 'mur', 'por', 'cas', \"'dr\", 'prima', 'n.e', 'poe', 'gen', 'br', 'ara', 'dec', 'phil', 'lep', 'wm', 'feb'}\n"
     ]
    }
   ],
   "source": [
    "# Test the tokenizer on a piece of text\n",
    "sentences = \"Mr. James told me Dr. Brown is not available today. I will try tomorrow.\"\n",
    " \n",
    "print(tokenizer.tokenize(sentences))\n",
    "# ['Mr. James told me Dr.', 'Brown is not available today.', 'I will try tomorrow.']\n",
    " \n",
    "# View the learned abbreviations\n",
    "print(tokenizer._params.abbrev_types)\n",
    "# set([...])\n",
    " "
   ]
  },
  {
   "cell_type": "code",
   "execution_count": 29,
   "metadata": {},
   "outputs": [
    {
     "data": {
      "text/plain": [
       "['• I am a sentence • I am another sentence • I am a sentence • I am another sentence']"
      ]
     },
     "execution_count": 29,
     "metadata": {},
     "output_type": "execute_result"
    }
   ],
   "source": [
    "tokenizer.tokenize(bullet_sent)"
   ]
  },
  {
   "cell_type": "code",
   "execution_count": 30,
   "metadata": {
    "collapsed": true
   },
   "outputs": [],
   "source": [
    "punctuation = (';', ':', ',', '.', '!', '?', '•')"
   ]
  },
  {
   "cell_type": "code",
   "execution_count": 31,
   "metadata": {},
   "outputs": [
    {
     "data": {
      "text/plain": [
       "['',\n",
       " 'I am a sentence ',\n",
       " 'I am another sentence ',\n",
       " 'I am a sentence ',\n",
       " 'I am another sentence']"
      ]
     },
     "execution_count": 31,
     "metadata": {},
     "output_type": "execute_result"
    }
   ],
   "source": [
    "bullet_sent.split('• ')"
   ]
  },
  {
   "cell_type": "code",
   "execution_count": 32,
   "metadata": {},
   "outputs": [
    {
     "data": {
      "text/plain": [
       "['I am a sentence ',\n",
       " 'I am another sentence ',\n",
       " 'I am a sentence ',\n",
       " 'I am another sentence']"
      ]
     },
     "execution_count": 32,
     "metadata": {},
     "output_type": "execute_result"
    }
   ],
   "source": [
    "[s for s in bullet_sent.split('• ') if s]"
   ]
  },
  {
   "cell_type": "code",
   "execution_count": 33,
   "metadata": {},
   "outputs": [
    {
     "data": {
      "text/plain": [
       "['My friend holds a Msc.', 'in Computer Science.']"
      ]
     },
     "execution_count": 33,
     "metadata": {},
     "output_type": "execute_result"
    }
   ],
   "source": [
    "sentence = \"My friend holds a Msc. in Computer Science.\"\n",
    "sent_tokenize(sentence)"
   ]
  },
  {
   "cell_type": "code",
   "execution_count": 34,
   "metadata": {},
   "outputs": [
    {
     "data": {
      "text/plain": [
       "['My friend holds a Msc.', 'in Computer Science.']"
      ]
     },
     "execution_count": 34,
     "metadata": {},
     "output_type": "execute_result"
    }
   ],
   "source": [
    "tokenizer.tokenize(sentence)"
   ]
  },
  {
   "cell_type": "code",
   "execution_count": 35,
   "metadata": {},
   "outputs": [
    {
     "data": {
      "text/plain": [
       "['My friend holds a Msc. in Computer Science.']"
      ]
     },
     "execution_count": 35,
     "metadata": {},
     "output_type": "execute_result"
    }
   ],
   "source": [
    "tokenizer._params.abbrev_types.add('msc')\n",
    "tokenizer.tokenize(sentence)"
   ]
  },
  {
   "cell_type": "markdown",
   "metadata": {},
   "source": [
    "More fun"
   ]
  },
  {
   "cell_type": "code",
   "execution_count": 1,
   "metadata": {},
   "outputs": [],
   "source": [
    "import spacy\n",
    "nlp = spacy.load('en')"
   ]
  },
  {
   "cell_type": "code",
   "execution_count": 2,
   "metadata": {},
   "outputs": [
    {
     "name": "stdout",
     "output_type": "stream",
     "text": [
      "I 561228191312463089 -PRON- 13656873538139661788 PRP 94 PRON\n",
      "made 9614445426764226664 make 17109001835818727656 VBD 99 VERB\n",
      "her 561228191312463089 -PRON- 4062917326063685704 PRP$ 83 ADJ\n",
      "duck 17978585585790962591 duck 15308085513773655218 NN 91 NOUN\n"
     ]
    }
   ],
   "source": [
    "ambiguous = \"I made her duck\"\n",
    "amb_doc1 = nlp(ambiguous)\n",
    "for word in amb_doc1:\n",
    "    print(word.text, word.lemma, word.lemma_, word.tag, word.tag_, word.pos, word.pos_)"
   ]
  },
  {
   "cell_type": "code",
   "execution_count": 18,
   "metadata": {},
   "outputs": [
    {
     "name": "stdout",
     "output_type": "stream",
     "text": [
      "Hello INTJ\n",
      "Mr. PROPN\n",
      "Smith PROPN\n",
      ", PUNCT\n",
      "how ADV\n",
      "are VERB\n",
      "you PRON\n",
      "doing VERB\n",
      "today NOUN\n",
      "? PUNCT\n",
      "The DET\n",
      "weather NOUN\n",
      "is VERB\n",
      "great ADJ\n",
      ", PUNCT\n",
      "and CCONJ\n",
      "Python PROPN\n",
      "is VERB\n",
      "awesome ADJ\n",
      ". PUNCT\n",
      "The DET\n",
      "sky NOUN\n",
      "is VERB\n",
      "pinkish ADJ\n",
      "- PUNCT\n",
      "blue NOUN\n",
      ". PUNCT\n",
      "You PRON\n",
      "should VERB\n",
      "n't ADV\n",
      "eat VERB\n",
      "cardboard NOUN\n",
      ". PUNCT\n"
     ]
    }
   ],
   "source": [
    "for el in nlp(example_tok):\n",
    "    print(el, el.pos_)"
   ]
  },
  {
   "cell_type": "code",
   "execution_count": 38,
   "metadata": {},
   "outputs": [
    {
     "data": {
      "text/plain": [
       "[('I', 'PRP'), ('made', 'VBD'), ('her', 'PRP'), ('duck', 'NN')]"
      ]
     },
     "execution_count": 38,
     "metadata": {},
     "output_type": "execute_result"
    }
   ],
   "source": [
    "nltk.pos_tag(nltk.word_tokenize(ambiguous))"
   ]
  },
  {
   "cell_type": "code",
   "execution_count": 39,
   "metadata": {},
   "outputs": [
    {
     "name": "stdout",
     "output_type": "stream",
     "text": [
      "man time day year car moment world house family child country boy\n",
      "state job place way war girl work word\n"
     ]
    }
   ],
   "source": [
    "text_brown = nltk.Text(word.lower() for word in nltk.corpus.brown.words())\n",
    "text_brown.similar('woman')"
   ]
  },
  {
   "cell_type": "code",
   "execution_count": 40,
   "metadata": {
    "collapsed": true
   },
   "outputs": [],
   "source": [
    "import textacy\n",
    "from textacy import doc\n",
    "import pandas as pd"
   ]
  },
  {
   "cell_type": "code",
   "execution_count": 41,
   "metadata": {},
   "outputs": [
    {
     "data": {
      "text/plain": [
       "Doc(20 tokens; \"• I am a sentence • I am another sentence • I a...\")"
      ]
     },
     "execution_count": 41,
     "metadata": {},
     "output_type": "execute_result"
    }
   ],
   "source": [
    "my_doc = doc.Doc(bullet_sent)\n",
    "my_doc"
   ]
  },
  {
   "cell_type": "code",
   "execution_count": 42,
   "metadata": {},
   "outputs": [
    {
     "data": {
      "text/plain": [
       "[[('•', 'PUNCT'),\n",
       "  ('I', 'PRON'),\n",
       "  ('am', 'VERB'),\n",
       "  ('a', 'DET'),\n",
       "  ('sentence', 'NOUN'),\n",
       "  ('•', 'PUNCT'),\n",
       "  ('I', 'PRON'),\n",
       "  ('am', 'VERB'),\n",
       "  ('another', 'DET'),\n",
       "  ('sentence', 'NOUN'),\n",
       "  ('•', 'PUNCT'),\n",
       "  ('I', 'PRON'),\n",
       "  ('am', 'VERB'),\n",
       "  ('a', 'DET'),\n",
       "  ('sentence', 'NOUN'),\n",
       "  ('•', 'PUNCT')],\n",
       " [('I', 'PRON'), ('am', 'VERB'), ('another', 'DET'), ('sentence', 'NOUN')]]"
      ]
     },
     "execution_count": 42,
     "metadata": {},
     "output_type": "execute_result"
    }
   ],
   "source": [
    "my_doc.pos_tagged_text"
   ]
  },
  {
   "cell_type": "code",
   "execution_count": 43,
   "metadata": {},
   "outputs": [
    {
     "data": {
      "text/plain": [
       "[• I am a sentence • I am another sentence • I am a sentence •,\n",
       " I am another sentence]"
      ]
     },
     "execution_count": 43,
     "metadata": {},
     "output_type": "execute_result"
    }
   ],
   "source": [
    "list(my_doc.sents)"
   ]
  },
  {
   "cell_type": "code",
   "execution_count": 44,
   "metadata": {},
   "outputs": [
    {
     "data": {
      "text/plain": [
       "[My friend holds a Msc. in Computer Science, so he is not a Dr. in that at all...]"
      ]
     },
     "execution_count": 44,
     "metadata": {},
     "output_type": "execute_result"
    }
   ],
   "source": [
    "sent = sentence = \"My friend holds a Msc. in Computer Science, so he is not a Dr. in that at all...\"\n",
    "s_doc = doc.Doc(sent)\n",
    "list(s_doc.sents)"
   ]
  },
  {
   "cell_type": "code",
   "execution_count": 45,
   "metadata": {},
   "outputs": [
    {
     "data": {
      "text/plain": [
       "[[('My', 'ADJ'),\n",
       "  ('friend', 'NOUN'),\n",
       "  ('holds', 'VERB'),\n",
       "  ('a', 'DET'),\n",
       "  ('Msc', 'PROPN'),\n",
       "  ('.', 'PUNCT'),\n",
       "  ('in', 'ADP'),\n",
       "  ('Computer', 'PROPN'),\n",
       "  ('Science', 'PROPN'),\n",
       "  (',', 'PUNCT'),\n",
       "  ('so', 'ADP'),\n",
       "  ('he', 'PRON'),\n",
       "  ('is', 'VERB'),\n",
       "  ('not', 'ADV'),\n",
       "  ('a', 'DET'),\n",
       "  ('Dr.', 'PROPN'),\n",
       "  ('in', 'ADP'),\n",
       "  ('that', 'DET'),\n",
       "  ('at', 'ADP'),\n",
       "  ('all', 'ADV'),\n",
       "  ('...', 'PUNCT')]]"
      ]
     },
     "execution_count": 45,
     "metadata": {},
     "output_type": "execute_result"
    }
   ],
   "source": [
    "s_doc.pos_tagged_text"
   ]
  },
  {
   "cell_type": "code",
   "execution_count": 46,
   "metadata": {},
   "outputs": [
    {
     "name": "stdout",
     "output_type": "stream",
     "text": [
      "I 757862 -PRON- 479 PRP 93 PRON\n",
      "made 664 make 489 VBD 98 VERB\n",
      "her 757862 -PRON- 480 PRP$ 82 ADJ\n",
      "duck 7797 duck 474 NN 90 NOUN\n"
     ]
    }
   ],
   "source": [
    "ambiguous = \"I made her duck\"\n",
    "amb_doc1 = nlp(ambiguous)\n",
    "for word in amb_doc1:\n",
    "    print(word.text, word.lemma, word.lemma_, word.tag, word.tag_, word.pos, word.pos_)"
   ]
  },
  {
   "cell_type": "code",
   "execution_count": 47,
   "metadata": {},
   "outputs": [
    {
     "data": {
      "text/plain": [
       "[[('I', 'PRON'), ('made', 'VERB'), ('her', 'ADJ'), ('duck', 'NOUN')]]"
      ]
     },
     "execution_count": 47,
     "metadata": {},
     "output_type": "execute_result"
    }
   ],
   "source": [
    "amb_doc2 = doc.Doc(ambiguous)\n",
    "amb_doc2.pos_tagged_text"
   ]
  },
  {
   "cell_type": "code",
   "execution_count": 35,
   "metadata": {},
   "outputs": [],
   "source": [
    "review = '''The Road-550-W from Adventure Works Cycles is everything it's advertised to be. Finally, a quality bike that is actually built for a woman and provides control and comfort in one neat package. The top tube is shorter, the suspension is weight-tuned and there's a much shorter reach to the brake levers. All this adds up to a great mountain bike that is sure to accommodate any woman's anatomy. In addition to getting the size right, the saddle is incredibly comfortable. Attention to detail is apparent in every aspect from the frame finish to the careful design of each component. Each component is a solid performer without any fluff. The designers clearly did their homework and thought about size, weight, and funtionality throughout. And at less than 19 pounds, the bike is manageable for even the most petite cyclist. We had 5 riders, including my good friend Dr. Joseph A. Bicycle, and his wife, Mrs. Jane Bicycle, take the bike out for a spin and really put it to the test. The results were consistent and very positive. Our testers loved the manuverability and control they had with the redesigned frame on the 550-W. A definite improvement over the 2002 design. Four out of five testers listed quick handling and responsivness were the key elements they noticed. Technical climbing and on the flats, the bike just cruises through the rough. Tight corners and obstacles were handled effortlessly. The fifth tester was more impressed with the smooth ride. The heavy-duty shocks absorbed even the worst bumps and provided a soft ride on all but the nastiest trails and biggest drops. The shifting was rated superb and typical of what we've come to expect from Adventure Works Cycles. On descents, the bike handled flawlessly and tracked very well. The bike is well balanced front-to-rear and frame flex was minimal. In particular, the testers noted that the brake system had a unique combination of power and modulation.  While some brake setups can be overly touchy, these brakes had a good amount of power, but also a good feel that allows you to apply as little or as much braking power as is needed. Second is their short break-in period. We found that they tend to break-in well before the end of the first ride; while others take two to three rides (or more) to come to full power. On the negative side, the pedals were not quite up to our tester's standards. Just for fun, we experimented with routine maintenance tasks. Overall we found most operations to be straight forward and easy to complete. The only exception was replacing the front wheel. The maintenance manual that comes with the bike say to install the front wheel with the axle quick release or bolt, then compress the fork a few times before fastening and tightening the two quick-release mechanisms on the bottom of the dropouts. This is to seat the axle in the dropouts, and if you do not do this, the axle will become seated after you tightened the two bottom quick releases, which will then become loose. It's better to test the tightness carefully or you may notice that the two bottom quick releases have come loose enough to fall completely open. And that's something you don't want to experience while out on the road! The Road-550-W frame is available in a variety of sizes and colors and has the same durable, high-quality aluminum that AWC is known for. At a MSRP of just under $1125.00, it's comparable in price to its closest competitors and we think that after a test drive you'l find the quality and performance above and beyond . You'll have a grin on your face and be itching to get out on the road for more. While designed for serious road racing, the Road-550-W would be an excellent choice for just about any terrain and any level of experience. It's a huge step in the right direction for female cyclists and well worth your consideration and hard-earned money.'''"
   ]
  },
  {
   "cell_type": "code",
   "execution_count": 47,
   "metadata": {},
   "outputs": [
    {
     "name": "stdout",
     "output_type": "stream",
     "text": [
      "The Road-550-W from Adventure Works Cycles is everything it's advertised to be. Finally, a quality bike that is actually built for a woman and provides control and comfort in one neat package. The top tube is shorter, the suspension is weight-tuned and there's a much shorter reach to the brake levers. All this adds up to a great mountain bike that is sure to accommodate any woman's anatomy. In addition to getting the size right, the saddle is incredibly comfortable. Attention to detail is apparent in every aspect from the frame finish to the careful design of each component. Each component is a solid performer without any fluff. The designers clearly did their homework and thought about size, weight, and funtionality throughout. And at less than 19 pounds, the bike is manageable for even the most petite cyclist. We had 5 riders, including my good friend Dr. Joseph A. Bicycle, and his wife, Mrs. Jane Bicycle, take the bike out for a spin and really put it to the test. The results were consistent and very positive. Our testers loved the manuverability and control they had with the redesigned frame on the 550-W. A definite improvement over the 2002 design. Four out of five testers listed quick handling and responsivness were the key elements they noticed. Technical climbing and on the flats, the bike just cruises through the rough. Tight corners and obstacles were handled effortlessly. The fifth tester was more impressed with the smooth ride. The heavy-duty shocks absorbed even the worst bumps and provided a soft ride on all but the nastiest trails and biggest drops. The shifting was rated superb and typical of what we've come to expect from Adventure Works Cycles. On descents, the bike handled flawlessly and tracked very well. The bike is well balanced front-to-rear and frame flex was minimal. In particular, the testers noted that the brake system had a unique combination of power and modulation.  While some brake setups can be overly touchy, these brakes had a good amount of power, but also a good feel that allows you to apply as little or as much braking power as is needed. Second is their short break-in period. We found that they tend to break-in well before the end of the first ride; while others take two to three rides (or more) to come to full power. On the negative side, the pedals were not quite up to our tester's standards. Just for fun, we experimented with routine maintenance tasks. Overall we found most operations to be straight forward and easy to complete. The only exception was replacing the front wheel. The maintenance manual that comes with the bike say to install the front wheel with the axle quick release or bolt, then compress the fork a few times before fastening and tightening the two quick-release mechanisms on the bottom of the dropouts. This is to seat the axle in the dropouts, and if you do not do this, the axle will become seated after you tightened the two bottom quick releases, which will then become loose. It's better to test the tightness carefully or you may notice that the two bottom quick releases have come loose enough to fall completely open. And that's something you don't want to experience while out on the road! The Road-550-W frame is available in a variety of sizes and colors and has the same durable, high-quality aluminum that AWC is known for. At a MSRP of just under $1125.00, it's comparable in price to its closest competitors and we think that after a test drive you'l find the quality and performance above and beyond . You'll have a grin on your face and be itching to get out on the road for more. While designed for serious road racing, the Road-550-W would be an excellent choice for just about any terrain and any level of experience. It's a huge step in the right direction for female cyclists and well worth your consideration and hard-earned money.\n"
     ]
    }
   ],
   "source": [
    "print(review)"
   ]
  },
  {
   "cell_type": "code",
   "execution_count": 38,
   "metadata": {},
   "outputs": [],
   "source": [
    "rev_t = doc.Doc(review)"
   ]
  },
  {
   "cell_type": "code",
   "execution_count": 37,
   "metadata": {},
   "outputs": [],
   "source": [
    "from textacy import doc"
   ]
  },
  {
   "cell_type": "code",
   "execution_count": 46,
   "metadata": {},
   "outputs": [
    {
     "name": "stdout",
     "output_type": "stream",
     "text": [
      "Adventure Works Cycles ORG\n",
      "less than 19 pounds QUANTITY\n",
      "5 CARDINAL\n",
      "Joseph A. Bicycle PERSON\n",
      "Jane Bicycle PERSON\n",
      "2002 DATE\n",
      "Four CARDINAL\n",
      "five CARDINAL\n",
      "fifth ORDINAL\n",
      "Adventure Works Cycles ORG\n",
      "Second ORDINAL\n",
      "first ORDINAL\n",
      "two CARDINAL\n",
      "three CARDINAL\n",
      "two CARDINAL\n",
      "two CARDINAL\n",
      "two CARDINAL\n",
      "AWC ORG\n",
      "just under $1125.00 MONEY\n"
     ]
    }
   ],
   "source": [
    "for el in list(textacy.extract.named_entities(rev_t)):\n",
    "    print(el, el.label_)"
   ]
  },
  {
   "cell_type": "code",
   "execution_count": 45,
   "metadata": {},
   "outputs": [
    {
     "data": {
      "text/plain": [
       "'ORG'"
      ]
     },
     "execution_count": 45,
     "metadata": {},
     "output_type": "execute_result"
    }
   ],
   "source": [
    "el.label_"
   ]
  },
  {
   "cell_type": "code",
   "execution_count": 33,
   "metadata": {},
   "outputs": [],
   "source": [
    "import textacy"
   ]
  },
  {
   "cell_type": "code",
   "execution_count": 51,
   "metadata": {
    "collapsed": true
   },
   "outputs": [],
   "source": [
    "doc_s = nlp(review)"
   ]
  },
  {
   "cell_type": "code",
   "execution_count": 52,
   "metadata": {},
   "outputs": [
    {
     "name": "stdout",
     "output_type": "stream",
     "text": [
      "There were 37 sentences found. Here's a sample:\n"
     ]
    },
    {
     "data": {
      "text/html": [
       "<div>\n",
       "<style>\n",
       "    .dataframe thead tr:only-child th {\n",
       "        text-align: right;\n",
       "    }\n",
       "\n",
       "    .dataframe thead th {\n",
       "        text-align: left;\n",
       "    }\n",
       "\n",
       "    .dataframe tbody tr th {\n",
       "        vertical-align: top;\n",
       "    }\n",
       "</style>\n",
       "<table border=\"1\" class=\"dataframe\">\n",
       "  <thead>\n",
       "    <tr style=\"text-align: right;\">\n",
       "      <th></th>\n",
       "      <th>0</th>\n",
       "    </tr>\n",
       "  </thead>\n",
       "  <tbody>\n",
       "    <tr>\n",
       "      <th>0</th>\n",
       "      <td>And at less than 19 pounds, the bike is manage...</td>\n",
       "    </tr>\n",
       "    <tr>\n",
       "      <th>1</th>\n",
       "      <td>We had 5 riders, including my good friend Dr. ...</td>\n",
       "    </tr>\n",
       "    <tr>\n",
       "      <th>2</th>\n",
       "      <td>The results were consistent and very positive.</td>\n",
       "    </tr>\n",
       "    <tr>\n",
       "      <th>3</th>\n",
       "      <td>Our testers loved the manuverability and contr...</td>\n",
       "    </tr>\n",
       "    <tr>\n",
       "      <th>4</th>\n",
       "      <td>Four out of five testers listed quick handling...</td>\n",
       "    </tr>\n",
       "  </tbody>\n",
       "</table>\n",
       "</div>"
      ],
      "text/plain": [
       "                                                   0\n",
       "0  And at less than 19 pounds, the bike is manage...\n",
       "1  We had 5 riders, including my good friend Dr. ...\n",
       "2     The results were consistent and very positive.\n",
       "3  Our testers loved the manuverability and contr...\n",
       "4  Four out of five testers listed quick handling..."
      ]
     },
     "execution_count": 52,
     "metadata": {},
     "output_type": "execute_result"
    }
   ],
   "source": [
    "sentences = [sentence.orth_ for sentence in doc_s.sents]\n",
    "print(\"There were {} sentences found. Here's a sample:\".format(len(sentences)))\n",
    "pd.DataFrame(sentences[8:13])"
   ]
  },
  {
   "cell_type": "code",
   "execution_count": 53,
   "metadata": {},
   "outputs": [
    {
     "name": "stdout",
     "output_type": "stream",
     "text": [
      "There were 156 noun phrases found. Here's a sample:\n"
     ]
    },
    {
     "data": {
      "text/html": [
       "<div>\n",
       "<style>\n",
       "    .dataframe thead tr:only-child th {\n",
       "        text-align: right;\n",
       "    }\n",
       "\n",
       "    .dataframe thead th {\n",
       "        text-align: left;\n",
       "    }\n",
       "\n",
       "    .dataframe tbody tr th {\n",
       "        vertical-align: top;\n",
       "    }\n",
       "</style>\n",
       "<table border=\"1\" class=\"dataframe\">\n",
       "  <thead>\n",
       "    <tr style=\"text-align: right;\">\n",
       "      <th></th>\n",
       "      <th>0</th>\n",
       "      <th>1</th>\n",
       "    </tr>\n",
       "  </thead>\n",
       "  <tbody>\n",
       "    <tr>\n",
       "      <th>0</th>\n",
       "      <td>one neat package</td>\n",
       "      <td>in</td>\n",
       "    </tr>\n",
       "    <tr>\n",
       "      <th>1</th>\n",
       "      <td>The top tube</td>\n",
       "      <td>is</td>\n",
       "    </tr>\n",
       "    <tr>\n",
       "      <th>2</th>\n",
       "      <td>the suspension</td>\n",
       "      <td>is</td>\n",
       "    </tr>\n",
       "    <tr>\n",
       "      <th>3</th>\n",
       "      <td>a much shorter reach</td>\n",
       "      <td>'s</td>\n",
       "    </tr>\n",
       "    <tr>\n",
       "      <th>4</th>\n",
       "      <td>the brake levers</td>\n",
       "      <td>to</td>\n",
       "    </tr>\n",
       "    <tr>\n",
       "      <th>5</th>\n",
       "      <td>a great mountain bike</td>\n",
       "      <td>to</td>\n",
       "    </tr>\n",
       "    <tr>\n",
       "      <th>6</th>\n",
       "      <td>any woman's anatomy</td>\n",
       "      <td>accommodate</td>\n",
       "    </tr>\n",
       "    <tr>\n",
       "      <th>7</th>\n",
       "      <td>addition</td>\n",
       "      <td>In</td>\n",
       "    </tr>\n",
       "    <tr>\n",
       "      <th>8</th>\n",
       "      <td>the size</td>\n",
       "      <td>getting</td>\n",
       "    </tr>\n",
       "    <tr>\n",
       "      <th>9</th>\n",
       "      <td>the saddle</td>\n",
       "      <td>is</td>\n",
       "    </tr>\n",
       "  </tbody>\n",
       "</table>\n",
       "</div>"
      ],
      "text/plain": [
       "                       0            1\n",
       "0       one neat package           in\n",
       "1           The top tube           is\n",
       "2         the suspension           is\n",
       "3   a much shorter reach           's\n",
       "4       the brake levers           to\n",
       "5  a great mountain bike           to\n",
       "6    any woman's anatomy  accommodate\n",
       "7               addition           In\n",
       "8               the size      getting\n",
       "9             the saddle           is"
      ]
     },
     "execution_count": 53,
     "metadata": {},
     "output_type": "execute_result"
    }
   ],
   "source": [
    "nounphrases = [[np.orth_, np.root.head.orth_] for np in doc_s.noun_chunks]\n",
    "print(\"There were {} noun phrases found. Here's a sample:\".format(len(nounphrases)))\n",
    "pd.DataFrame(nounphrases[8:18])"
   ]
  },
  {
   "cell_type": "code",
   "execution_count": 55,
   "metadata": {},
   "outputs": [
    {
     "name": "stdout",
     "output_type": "stream",
     "text": [
      "                jumps                  \n",
      "  ________________|____________         \n",
      " |    |     |     |    |      over     \n",
      " |    |     |     |    |       |        \n",
      " |    |     |     |    |      dog      \n",
      " |    |     |     |    |    ___|____    \n",
      "The quick brown  fox   .  the      lazy\n",
      "\n"
     ]
    },
    {
     "data": {
      "text/plain": [
       "[None]"
      ]
     },
     "execution_count": 55,
     "metadata": {},
     "output_type": "execute_result"
    }
   ],
   "source": [
    "from nltk import Tree\n",
    "\n",
    "\n",
    "doc = nlp(\"The quick brown fox jumps over the lazy dog.\")\n",
    "\n",
    "def to_nltk_tree(node):\n",
    "    if node.n_lefts + node.n_rights > 0:\n",
    "        return Tree(node.orth_, [to_nltk_tree(child) for child in node.children])\n",
    "    else:\n",
    "        return node.orth_\n",
    "\n",
    "\n",
    "[to_nltk_tree(sent.root).pretty_print() for sent in doc.sents]"
   ]
  },
  {
   "cell_type": "code",
   "execution_count": 56,
   "metadata": {},
   "outputs": [
    {
     "name": "stdout",
     "output_type": "stream",
     "text": [
      "(S\n",
      "  (NP I)\n",
      "  (VP\n",
      "    (VP (V shot) (NP (Det an) (N elephant)))\n",
      "    (PP (P in) (NP (Det my) (N pajamas)))))\n",
      "(S\n",
      "  (NP I)\n",
      "  (VP\n",
      "    (V shot)\n",
      "    (NP (Det an) (N elephant) (PP (P in) (NP (Det my) (N pajamas))))))\n"
     ]
    }
   ],
   "source": [
    "groucho_grammar = nltk.CFG.fromstring(\"\"\"\n",
    "S -> NP VP\n",
    "PP -> P NP\n",
    "NP -> Det N | Det N PP | 'I'\n",
    "VP -> V NP | VP PP\n",
    "Det -> 'an' | 'my'\n",
    "N -> 'elephant' | 'pajamas'\n",
    "V -> 'shot'\n",
    "P -> 'in'\n",
    "\"\"\")\n",
    "\n",
    "sent = ['I', 'shot', 'an', 'elephant', 'in', 'my', 'pajamas']\n",
    "parser = nltk.ChartParser(groucho_grammar)\n",
    "for tree in parser.parse(sent):\n",
    "    print(tree)"
   ]
  },
  {
   "cell_type": "markdown",
   "metadata": {},
   "source": [
    "http://www.nltk.org/book/tree_images/ch08-tree-1.png\n",
    "![image.png](attachment:image.png)"
   ]
  },
  {
   "cell_type": "markdown",
   "metadata": {},
   "source": [
    "![image.png](attachment:image.png)"
   ]
  },
  {
   "cell_type": "markdown",
   "metadata": {},
   "source": [
    "Entity recognition\n",
    "==="
   ]
  },
  {
   "cell_type": "code",
   "execution_count": 65,
   "metadata": {
    "collapsed": true
   },
   "outputs": [],
   "source": [
    "entity = \"Jim bought 300 shares of Acme Corp. in 2006.\""
   ]
  },
  {
   "cell_type": "code",
   "execution_count": 58,
   "metadata": {
    "collapsed": true
   },
   "outputs": [],
   "source": [
    "from textacy import doc"
   ]
  },
  {
   "cell_type": "code",
   "execution_count": 59,
   "metadata": {
    "collapsed": true
   },
   "outputs": [],
   "source": [
    "entity_t = doc.Doc(entity)"
   ]
  },
  {
   "cell_type": "code",
   "execution_count": 60,
   "metadata": {},
   "outputs": [
    {
     "data": {
      "text/plain": [
       "[[('Jim', 'PROPN'),\n",
       "  ('bought', 'VERB'),\n",
       "  ('300', 'NUM'),\n",
       "  ('shares', 'NOUN'),\n",
       "  ('of', 'ADP'),\n",
       "  ('Acme', 'PROPN'),\n",
       "  ('Corp.', 'PROPN'),\n",
       "  ('in', 'ADP'),\n",
       "  ('2006', 'NUM'),\n",
       "  ('.', 'PUNCT')]]"
      ]
     },
     "execution_count": 60,
     "metadata": {},
     "output_type": "execute_result"
    }
   ],
   "source": [
    "entity_t.pos_tagged_text"
   ]
  },
  {
   "cell_type": "code",
   "execution_count": 66,
   "metadata": {},
   "outputs": [
    {
     "data": {
      "text/plain": [
       "[Jim, 300, Acme Corp., 2006]"
      ]
     },
     "execution_count": 66,
     "metadata": {},
     "output_type": "execute_result"
    }
   ],
   "source": [
    "entities = list(textacy.extract.named_entities(entity_t))\n",
    "entities"
   ]
  },
  {
   "cell_type": "code",
   "execution_count": 72,
   "metadata": {},
   "outputs": [
    {
     "name": "stdout",
     "output_type": "stream",
     "text": [
      "Jim PERSON \n",
      "300 CARDINAL \n",
      "Acme Corp. ORG \n",
      "2006 DATE \n"
     ]
    },
    {
     "data": {
      "text/plain": [
       "'ORG'"
      ]
     },
     "execution_count": 72,
     "metadata": {},
     "output_type": "execute_result"
    }
   ],
   "source": [
    "for e in entities:\n",
    "    print(e, e.label_)\n",
    "e = entities[2]\n",
    "e.label_"
   ]
  },
  {
   "cell_type": "markdown",
   "metadata": {},
   "source": [
    "Stemming and Lemmatizers\n",
    "==="
   ]
  },
  {
   "cell_type": "code",
   "execution_count": 1,
   "metadata": {},
   "outputs": [
    {
     "name": "stdout",
     "output_type": "stream",
     "text": [
      "getting get get\n",
      "rabbits rabbit rabbit\n",
      "xyzing xyze xyzing\n",
      "quickly quick quickly\n",
      "slowly slowli slowly\n",
      "university univers university\n",
      "universe univers universe\n"
     ]
    }
   ],
   "source": [
    "from nltk.stem import SnowballStemmer\n",
    "from nltk.stem import WordNetLemmatizer\n",
    "wnl = WordNetLemmatizer()\n",
    "snow = SnowballStemmer('english')\n",
    "\n",
    "words = 'getting rabbits xyzing quickly slowly university universe'.split()\n",
    "pos = 'v n n r r n n'.split()\n",
    "all_words = zip(words, pos)\n",
    "\n",
    "for w in all_words:\n",
    "    try:\n",
    "        print(w[0], snow.stem(w[0]), wnl.lemmatize(w[0], w[1]))\n",
    "    except Exception as e:\n",
    "        print(e)"
   ]
  },
  {
   "cell_type": "code",
   "execution_count": 12,
   "metadata": {},
   "outputs": [
    {
     "name": "stdout",
     "output_type": "stream",
     "text": [
      "getting getting get\n",
      "rabbits rabbits rabbit\n",
      "xyzing xyzing xyzing\n",
      "quickly quickly quickly\n",
      "slowly slowly slowly\n",
      "university university university\n",
      "universe univers universe\n"
     ]
    }
   ],
   "source": [
    "from nltk.stem import SnowballStemmer\n",
    "from nltk.stem import WordNetLemmatizer\n",
    "wnl = WordNetLemmatizer()\n",
    "snow = SnowballStemmer('finnish')\n",
    "\n",
    "words = 'getting rabbits xyzing quickly slowly university universe'.split()\n",
    "all_words = zip(words, pos)\n",
    "\n",
    "pos = 'v n v r r n n'.split()\n",
    "for w in all_words:\n",
    "    try:\n",
    "        print(w[0], snow.stem(w[0]), wnl.lemmatize(w[0], w[1]))\n",
    "    except Exception as e:\n",
    "        print(e)"
   ]
  },
  {
   "cell_type": "code",
   "execution_count": 5,
   "metadata": {},
   "outputs": [],
   "source": [
    "import spacy\n",
    "nlp = spacy.load('en')"
   ]
  },
  {
   "cell_type": "code",
   "execution_count": 9,
   "metadata": {},
   "outputs": [
    {
     "data": {
      "text/plain": [
       "('xyz', 'VERB')"
      ]
     },
     "execution_count": 9,
     "metadata": {},
     "output_type": "execute_result"
    }
   ],
   "source": [
    "xing = nlp('xyzing for fun an profit')\n",
    "xing[0].lemma_, xing[0].pos_"
   ]
  },
  {
   "cell_type": "code",
   "execution_count": null,
   "metadata": {},
   "outputs": [],
   "source": [
    "xx = "
   ]
  },
  {
   "cell_type": "code",
   "execution_count": 85,
   "metadata": {},
   "outputs": [
    {
     "name": "stdout",
     "output_type": "stream",
     "text": [
      "getting\n",
      "rabbits\n",
      "xyzing\n",
      "quickly\n",
      "slowly\n"
     ]
    }
   ],
   "source": [
    "for w in all_words:\n",
    "    print(w[0])"
   ]
  },
  {
   "cell_type": "code",
   "execution_count": 83,
   "metadata": {},
   "outputs": [
    {
     "data": {
      "text/plain": [
       "[('getting', 'v'),\n",
       " ('rabbits', 'n'),\n",
       " ('xyzing', 'n'),\n",
       " ('quickly', 'r'),\n",
       " ('slowly', 'r')]"
      ]
     },
     "execution_count": 83,
     "metadata": {},
     "output_type": "execute_result"
    }
   ],
   "source": [
    "all_words = zip(words, pos)\n",
    "list(all_words)"
   ]
  },
  {
   "cell_type": "code",
   "execution_count": 95,
   "metadata": {},
   "outputs": [
    {
     "name": "stdout",
     "output_type": "stream",
     "text": [
      "['i', 'me', 'my', 'myself', 'we', 'our', 'ours', 'ourselves', 'you', 'your', 'yours', 'yourself', 'yourselves', 'he', 'him', 'his', 'himself', 'she', 'her', 'hers', 'herself', 'it', 'its', 'itself', 'they', 'them', 'their', 'theirs', 'themselves', 'what', 'which', 'who', 'whom', 'this', 'that', 'these', 'those', 'am', 'is', 'are', 'was', 'were', 'be', 'been', 'being', 'have', 'has', 'had', 'having', 'do', 'does', 'did', 'doing', 'a', 'an', 'the', 'and', 'but', 'if', 'or', 'because', 'as', 'until', 'while', 'of', 'at', 'by', 'for', 'with', 'about', 'against', 'between', 'into', 'through', 'during', 'before', 'after', 'above', 'below', 'to', 'from', 'up', 'down', 'in', 'out', 'on', 'off', 'over', 'under', 'again', 'further', 'then', 'once', 'here', 'there', 'when', 'where', 'why', 'how', 'all', 'any', 'both', 'each', 'few', 'more', 'most', 'other', 'some', 'such', 'no', 'nor', 'not', 'only', 'own', 'same', 'so', 'than', 'too', 'very', 's', 't', 'can', 'will', 'just', 'don', 'should', 'now', 'd', 'll', 'm', 'o', 're', 've', 'y', 'ain', 'aren', 'couldn', 'didn', 'doesn', 'hadn', 'hasn', 'haven', 'isn', 'ma', 'mightn', 'mustn', 'needn', 'shan', 'shouldn', 'wasn', 'weren', 'won', 'wouldn']\n"
     ]
    }
   ],
   "source": [
    "print(nltk.corpus.stopwords.words('english'))"
   ]
  },
  {
   "cell_type": "code",
   "execution_count": 97,
   "metadata": {},
   "outputs": [
    {
     "name": "stdout",
     "output_type": "stream",
     "text": [
      "spam\n",
      "ham\n"
     ]
    }
   ],
   "source": [
    ">>> import nltk\n",
    ">>> def features(s):\n",
    "...     vec = {}\n",
    "...     for token in nltk.tokenize.word_tokenize(s):\n",
    "...         vec[token] = 1 if token not in vec else vec[token] + 1\n",
    "...\n",
    "...     return vec\n",
    "...\n",
    ">>> data = [('Hi John, I will see you at 9:00pm', 'ham'),\n",
    "...         ('Buy Viagra at low, low prices.  One time offer.', 'spam'),\n",
    "...         ('Your Amazon Order is for the book \"Harry Potter\"', 'ham'),\n",
    "...         ('Earn a million dollars by working at home.', 'spam')]\n",
    "...\n",
    ">>> processed_data = [(features(tup[0]), tup[1]) for tup in data]\n",
    ">>> classifier = nltk.NaiveBayesClassifier.train(processed_data)\n",
    ">>> print(classifier.classify(features(\"This is good Viagra!\")))\n",
    ">>> print(classifier.classify(features(\"We will meet you at 7pm.  Take care\")))\n"
   ]
  },
  {
   "cell_type": "code",
   "execution_count": 1,
   "metadata": {},
   "outputs": [
    {
     "name": "stdout",
     "output_type": "stream",
     "text": [
      "play\n",
      "playing\n",
      "playing\n",
      "playing\n"
     ]
    }
   ],
   "source": [
    "from nltk.stem import WordNetLemmatizer\n",
    " \n",
    "lemmatizer = WordNetLemmatizer()\n",
    " \n",
    "print(lemmatizer.lemmatize('playing', pos=\"v\"))\n",
    "print(lemmatizer.lemmatize('playing', pos=\"n\"))\n",
    "print(lemmatizer.lemmatize('playing', pos=\"a\"))\n",
    "print(lemmatizer.lemmatize('playing', pos=\"r\"))"
   ]
  },
  {
   "cell_type": "code",
   "execution_count": 4,
   "metadata": {},
   "outputs": [
    {
     "name": "stdout",
     "output_type": "stream",
     "text": [
      "stone\n",
      "speak\n",
      "bedroom\n",
      "joke\n",
      "lisa\n",
      "purpl\n",
      "----------------------\n",
      "stone\n",
      "speaking speak\n",
      "bedroom\n",
      "joke\n",
      "lisa\n",
      "purple\n"
     ]
    }
   ],
   "source": [
    "from nltk.stem import WordNetLemmatizer\n",
    "from nltk.stem import PorterStemmer\n",
    "\n",
    "stemmer = PorterStemmer()\n",
    "lemmatizer = WordNetLemmatizer()\n",
    "\n",
    "print(stemmer.stem('stones'))\n",
    "print(stemmer.stem('speaking'))\n",
    "print(stemmer.stem('bedroom'))\n",
    "print(stemmer.stem('jokes'))\n",
    "print(stemmer.stem('lisa'))\n",
    "print(stemmer.stem('purple'))\n",
    "print('----------------------')\n",
    "print(lemmatizer.lemmatize('stones'))\n",
    "print(lemmatizer.lemmatize('speaking'), lemmatizer.lemmatize('speaking', pos='v'))\n",
    "print(lemmatizer.lemmatize('bedroom'))\n",
    "print(lemmatizer.lemmatize('jokes'))\n",
    "print(lemmatizer.lemmatize('lisa'))\n",
    "print(lemmatizer.lemmatize('purple'))"
   ]
  },
  {
   "cell_type": "code",
   "execution_count": null,
   "metadata": {},
   "outputs": [],
   "source": []
  }
 ],
 "metadata": {
  "kernelspec": {
   "display_name": "Python 3",
   "language": "python",
   "name": "python3"
  },
  "language_info": {
   "codemirror_mode": {
    "name": "ipython",
    "version": 3
   },
   "file_extension": ".py",
   "mimetype": "text/x-python",
   "name": "python",
   "nbconvert_exporter": "python",
   "pygments_lexer": "ipython3",
   "version": "3.6.1"
  }
 },
 "nbformat": 4,
 "nbformat_minor": 2
}
