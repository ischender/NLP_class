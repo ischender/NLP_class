{
 "cells": [
  {
   "cell_type": "code",
   "execution_count": 1,
   "metadata": {},
   "outputs": [],
   "source": [
    "# from sklearn.cross_validation import train_test_split\n",
    "from sklearn.model_selection import train_test_split\n",
    "from collections import Counter\n",
    "from nltk.stem import PorterStemmer\n",
    "from nltk import word_tokenize\n",
    "import os\n",
    "import random\n",
    "import codecs\n",
    "\n",
    "random.seed(42)"
   ]
  },
  {
   "cell_type": "code",
   "execution_count": 2,
   "metadata": {},
   "outputs": [],
   "source": [
    "base_path = \"/Users/aliosha/Downloads/op_spam_v1.4\""
   ]
  },
  {
   "cell_type": "code",
   "execution_count": 3,
   "metadata": {},
   "outputs": [],
   "source": [
    "def read_review(filename):\n",
    "    with open(filename, \"rb\") as fp:\n",
    "        return fp.read()"
   ]
  },
  {
   "cell_type": "code",
   "execution_count": 4,
   "metadata": {},
   "outputs": [
    {
     "name": "stdout",
     "output_type": "stream",
     "text": [
      "800 fake reviews, 800 real reviews\n"
     ]
    }
   ],
   "source": [
    "real_reviews = []\n",
    "fake_reviews = []\n",
    "\n",
    "for dir_name, subdir_list, file_list in os.walk(base_path):\n",
    "    if \"deceptive\" in dir_name:\n",
    "        for fname in file_list:\n",
    "            if \".txt\" in fname:\n",
    "                fake_reviews.append(read_review(os.path.join(dir_name,fname)))\n",
    "    if \"truthful\" in dir_name:\n",
    "        for fname in file_list:\n",
    "            if \".txt\" in fname:\n",
    "                real_reviews.append(read_review(os.path.join(dir_name,fname)))\n",
    "          \n",
    "print(f\"{len(fake_reviews)} fake reviews, {len(real_reviews)} real reviews\")"
   ]
  },
  {
   "cell_type": "code",
   "execution_count": 5,
   "metadata": {},
   "outputs": [],
   "source": [
    "from gensim.summarization import summarize"
   ]
  },
  {
   "cell_type": "markdown",
   "metadata": {},
   "source": [
    "In Gensim, summarizing is based on ranks of text sentences using a variation of the TextRank algorithm \n",
    "\n",
    "https://arxiv.org/abs/1602.03606"
   ]
  },
  {
   "cell_type": "code",
   "execution_count": 6,
   "metadata": {},
   "outputs": [
    {
     "data": {
      "text/plain": [
       "b'My $200 Gucci sunglasses were stolen out of my bag on the 16th. I filed a report with the hotel security and am anxious to hear back from them. This was such a disappointment, as we liked the hotel and were having a great time in Chicago. Our room was really nice, with 2 bathrooms. We had 2 double beds and a comfortable hideaway bed. We had a great view of the lake and park. The hotel charged us $25 to check in early (10am).\\n'"
      ]
     },
     "execution_count": 6,
     "metadata": {},
     "output_type": "execute_result"
    }
   ],
   "source": [
    "text = real_reviews[0]\n",
    "text"
   ]
  },
  {
   "cell_type": "code",
   "execution_count": 7,
   "metadata": {},
   "outputs": [
    {
     "name": "stdout",
     "output_type": "stream",
     "text": [
      "Summary:\n",
      "This was such a disappointment, as we liked the hotel and were having a great time in Chicago.\n"
     ]
    }
   ],
   "source": [
    "print ('Summary:')\n",
    "print (summarize(str(text)))"
   ]
  },
  {
   "cell_type": "code",
   "execution_count": 8,
   "metadata": {},
   "outputs": [
    {
     "name": "stdout",
     "output_type": "stream",
     "text": [
      "b'My $200 Gucci sunglasses were stolen out of my bag on the 16th. I filed a report with the hotel security and am anxious to hear back from them. This was such a disappointment, as we liked the hotel and were having a great time in Chicago. Our room was really nice, with 2 bathrooms. We had 2 double beds and a comfortable hideaway bed. We had a great view of the lake and park. The hotel charged us $25 to check in early (10am).\\n'\n",
      "###\n",
      "summary\n",
      "This was such a disappointment, as we liked the hotel and were having a great time in Chicago.\n",
      "###\n",
      "b\"This was a gorgeous hotel from the outside and in the lobby. However, when we reached the elevator things started to look quite dingy. Our bathrooms in our room had grout that was in need of a deep scrubbing and had an overall appearance of dirty. Wireless internet is available, but that's an additional fee. Are you kidding? Even the roach motel offers wireless for free! Also, the fitness room was available for only $15 per day. Wow, I thought the room rate was enough to cover that. When I used the coffee supplies in the room, they were not replenished. I called the next morning requesting more and was told that wasn't housekeeping's area but they would send some up. No kidding, nearly 90 minutes later I got the cream and sugar! Glad I wasn't in a big hurry. I'll definitely be staying next door for half the cost and a lot better accommodations the next time I'm in Chicago!\\n\"\n",
      "###\n",
      "summary\n",
      "Wireless internet is available, but that's an additional fee.\n",
      "Also, the fitness room was available for only $15 per day.\n",
      "###\n",
      "b\"The hotel is very impressive upon entering and the staff was very friendly, however we felt our room was very dated and worn looking. Our air conditioning didn't seem to be working well, but we turned it down and thought that it would eventually... cool off. Our first night was interrupted by a phone call at one A.M. That was a fax, it happened 4 times. By this time we realized that the air was not working again, so after fussing with the controls it did kick on. The next morning I mentioned to the concierge the issues with the phone, but didn't think to mention the issues with the air because it appeared to be working. After being out seeing the sites of Chicago for several hours and being very hot we were looking forward to resting in a cool room before going to a show . Our room was 78 degrees, I called and maintenience did come to check. After determining that the unit needed a motor it was another hour so we did not get to rest in a cool room before going out. I feel an offer should have been made to us by the hotel. Also was very surprised that WiFi was not a free service !! We will not be staying at the Hilton on our next trip to Chicago.\\n\"\n",
      "###\n",
      "summary\n",
      "After being out seeing the sites of Chicago for several hours and being very hot we were looking forward to resting in a cool room before going to a show .\n",
      "After determining that the unit needed a motor it was another hour so we did not get to rest in a cool room before going out.\n",
      "###\n",
      "b'Going to the Internet Retailer 2010 at the last minute and this was the only hotel left available with shuttle services. First of all, from reading other reviews, now I know I got ripped @ $249 a night when Priceline folks are sniping these rooms for $79 (albiet, I got free wifi). The hotel is nice; but it can only get so nice for an oldie...no matter how much money you dump into it. Shower head was really low (I\\'m 6\\'1\"), water pressure was low. It is in a decent part of town with a hype bar close by (check out reviews on Yelp!) For some off reason I ended up with two double beds (they asked me a few times if I was traveling alone). If traveling here: 1 - make sure you get a better deal than I did 2 - confirm your exact needs with reservation over the phone and in person 3 - Don\\'t have super high hopes My room was neither up to par as a business class (although the 22nd floor is called the executive floor) nor was it a good fit for the romantic couple...it wasnt even spacious enough for those last minute get awayers (sp?) trying to save money.\\n'\n",
      "###\n",
      "summary\n",
      "If traveling here: 1 - make sure you get a better deal than I did 2 - confirm your exact needs with reservation over the phone and in person 3 - Don\\'t have super high hopes My room was neither up to par as a business class (although the 22nd floor is called the executive floor) nor was it a good fit for the romantic couple...it wasnt even spacious enough for those last minute get awayers (sp?) trying to save money.\\n'\n",
      "###\n",
      "b'I checked into this hotel, Rm 1760 on 11/13/2010. Next day, I woke up with bed bug bites, numerous, on my arm and back. We reported this to the management who assiged us to rm 1901 and promised to get the room inspected and \"taken care of\". I insisted that they get all my clothes laundered, which they did. Interestingly, no one from the management, other than the security guy who came when we first complained, even offered any apology for the inconvience. I missed couple of meetings that day. The next day, I called as I forgot something in the previous room, only to discover that the room was already assigned to the next guest. So much for reporting!\\n'\n",
      "###\n",
      "summary\n",
      "We reported this to the management who assiged us to rm 1901 and promised to get the room inspected and \"taken care of\".\n",
      "###\n",
      "b'I expected a glamorous room and I walked into a disappointment. Housekeeping and Management must not be concerned with attention to detail at this hotel. If you like staying somewhere that the air in the rooms doesn\\'t go down past 74, the closet is 24\" wide, all old/dirty brass fixtures, beds that are a little bigger than a twin, showerheads that barely put out water, then this is your hotel. I might be spoiled by staying in Marriott\\'s, but I stay in hotels 1/3 of the year and was severly disappionted. No free breakfasts or a room change will get me to stay here again.\\n'\n",
      "###\n",
      "summary\n",
      "If you like staying somewhere that the air in the rooms doesn\\'t go down past 74, the closet is 24\" wide, all old/dirty brass fixtures, beds that are a little bigger than a twin, showerheads that barely put out water, then this is your hotel.\n",
      "###\n",
      "b'I stayed at the Chicago Hilton because it was host to a conference I was attending. Before I arrived I tried to find out about the \"In Room Fitness\" program advertised on the corporate website. I called the 800 reservation number and the client service representative answered that the hotel did have a fitness center. I explained that I was inquiring about the \\'In Room Fitness\\' advertised on their website. She put me on hold and came back a few minutes later and told me that there was no such thing and that I should call the property directly. I did and got the same response. I asked if they could reserve a treadmill for my room. Again, this was a problem. When I arrived at the hotel, no treadmill was available. When I went to tour the fitness room the first night I found that they close at 9pm. When I returned to the center the next day I discovered that they charge $13 per day to use the fitness equipment. The pool, track and locker room are free, but to use the treadmills, etc. you have to pay $13 per day. This charge is not noted anywhere -- not on the website, not in any of the guest service materials in the room. The food for the conference was mediocre, but the one room service meal I had was pretty good. During one of the conference lunch sessions the wait staff made so much noise we couldn\\'t hear the speaker. The HVAC didn\\'t work well in my room and I kept the windows open for most of my three night stay. The beds were comfortable with very nice linens. I tried to get a late checkout, which was offered on a card in my room. The woman who answered the phone would only give me an hour, not the 11-2pm range advertised in my room. The best service I received was from the folks in the Security office. The hotel does not have safes in guest rooms, so I became very friendly with Security office as I locked up my laptop between conference sessions and every other time I couldn\\'t carry it out of the hotel. I visit Chicago at least once a year for personal travel and will continue to stay at the Marriott properties. Only wish I had done so for this visit.\\n'\n",
      "###\n",
      "summary\n",
      "Before I arrived I tried to find out about the \"In Room Fitness\" program advertised on the corporate website.\n",
      "I called the 800 reservation number and the client service representative answered that the hotel did have a fitness center.\n",
      "I explained that I was inquiring about the \\'In Room Fitness\\' advertised on their website.\n",
      "I visit Chicago at least once a year for personal travel and will continue to stay at the Marriott properties.\n",
      "###\n",
      "b\"I stayed there on October 6, 2012. When I pulled the covers of my bed, there was a small dark brown insect the size of a grain of rice, which was either a bed bug or cockroach. I trapped it under a glass (see the attached pictures) and called the front desk. The housecleaning person claimed it was a cockroach. Absolutely horrible service by the hotel management to respond to the problem, failing to follow through on promises they made to me. Setting aside the bug problem, I caution that the windows are quite thin. We could hear a lot of the street noise, which made for a hard night's sleep, not to mention worrying about insects even after changing rooms. For $400 a night after tax, I strongly encourage you to check for alternatives.\\n\"\n",
      "###\n",
      "summary\n",
      "When I pulled the covers of my bed, there was a small dark brown insect the size of a grain of rice, which was either a bed bug or cockroach.\n",
      "###\n",
      "b\"I stayed at the Hilton Chicago last week and was very disappointed. The highlight of the stay was waiting 20 minutes for a bellman to come and get our luggage. Finally, my 72 year old mother, 8 year old son, and myself gave up and dragged it all down to valet parking ourselves - no easy task. The security guard was kind enough to hold the door for me. The valet parking attendants looked over and then ignored us. As far as I could tell, he was just standing there doing nothing. I couldn't let go of the bags without everything falling so I gave my son the parking receipt. The attendant pointed to where our car was parked - no short distance away. My 8 year old had to tell him to pull it up. They should have been ashamed. Less significant, but irritating issues. The pool is part of the Hilton Athletic club. Two lanes are reserved for adults wanting to lap swim. Basically, two adults can take up 2/3rds of the pool while everyone else is consigned to the leftover 1/3rd. This is ridiculous and very family unfriendly. In addition, the pool closes at 9 p.m. What pool closes at 9? We stayed for 3 nights. Not one single additional bar of soap, bottle of shampoo, or coffee stirrers.\\n\"\n",
      "###\n",
      "summary\n",
      "b\"I stayed at the Hilton Chicago last week and was very disappointed.\n",
      "Finally, my 72 year old mother, 8 year old son, and myself gave up and dragged it all down to valet parking ourselves - no easy task.\n",
      "Basically, two adults can take up 2/3rds of the pool while everyone else is consigned to the leftover 1/3rd.\n",
      "###\n",
      "b\"I stayed at the Hilton Chicago because I was attending a conference at the hotel. The room was sufficient - had a coffee maker, bed, hangers, tv, etc. That's about where my compliments end: *restaurant rates are outrageous. $21 for a breakfast buffet? $25 to use the gym? $7.50/hr for WiFi!?!?! This is unacceptable when I'm paying $249 per night. Thank goodness the ice was free. *servers in the restaurant and bar were surly, not well-versed in English, and just rude. *computer monitors in rooms are silly and turn on at random times during the night *conference was incredibly cold...everybody was wearing their overcoats the entire time, despite our complaints to management. *fridge in room was not usable. had to store cold items in the ice bucket. *Cable channels just flat out SUCKED. I was soooo bored when I had to spend an hour in my room. If I'm paying that much, at least provide the full 70 channels.\\n\"\n",
      "###\n",
      "summary\n",
      "*computer monitors in rooms are silly and turn on at random times during the night *conference was incredibly cold...everybody was wearing their overcoats the entire time, despite our complaints to management.\n",
      "had to store cold items in the ice bucket.\n",
      "If I'm paying that much, at least provide the full 70 channels.\\n\"\n",
      "###\n"
     ]
    }
   ],
   "source": [
    "for text in real_reviews[:10]:\n",
    "    print(text)\n",
    "    print(\"###\")\n",
    "    print(\"summary\")\n",
    "    print (summarize(str(text)))\n",
    "    print(\"###\")"
   ]
  },
  {
   "cell_type": "code",
   "execution_count": 9,
   "metadata": {},
   "outputs": [
    {
     "name": "stdout",
     "output_type": "stream",
     "text": [
      "b'My $200 Gucci sunglasses were stolen out of my bag on the 16th. I filed a report with the hotel security and am anxious to hear back from them. This was such a disappointment, as we liked the hotel and were having a great time in Chicago. Our room was really nice, with 2 bathrooms. We had 2 double beds and a comfortable hideaway bed. We had a great view of the lake and park. The hotel charged us $25 to check in early (10am).\\n'\n",
      "###\n",
      "summary\n",
      "I filed a report with the hotel security and am anxious to hear back from them.\n",
      "This was such a disappointment, as we liked the hotel and were having a great time in Chicago.\n",
      "We had a great view of the lake and park.\n",
      "The hotel charged us $25 to check in early (10am).\\n'\n",
      "###\n",
      "b\"This was a gorgeous hotel from the outside and in the lobby. However, when we reached the elevator things started to look quite dingy. Our bathrooms in our room had grout that was in need of a deep scrubbing and had an overall appearance of dirty. Wireless internet is available, but that's an additional fee. Are you kidding? Even the roach motel offers wireless for free! Also, the fitness room was available for only $15 per day. Wow, I thought the room rate was enough to cover that. When I used the coffee supplies in the room, they were not replenished. I called the next morning requesting more and was told that wasn't housekeeping's area but they would send some up. No kidding, nearly 90 minutes later I got the cream and sugar! Glad I wasn't in a big hurry. I'll definitely be staying next door for half the cost and a lot better accommodations the next time I'm in Chicago!\\n\"\n",
      "###\n",
      "summary\n",
      "Wireless internet is available, but that's an additional fee.\n",
      "Are you kidding?\n",
      "Also, the fitness room was available for only $15 per day.\n",
      "I called the next morning requesting more and was told that wasn't housekeeping's area but they would send some up.\n",
      "No kidding, nearly 90 minutes later I got the cream and sugar!\n",
      "###\n",
      "b\"The hotel is very impressive upon entering and the staff was very friendly, however we felt our room was very dated and worn looking. Our air conditioning didn't seem to be working well, but we turned it down and thought that it would eventually... cool off. Our first night was interrupted by a phone call at one A.M. That was a fax, it happened 4 times. By this time we realized that the air was not working again, so after fussing with the controls it did kick on. The next morning I mentioned to the concierge the issues with the phone, but didn't think to mention the issues with the air because it appeared to be working. After being out seeing the sites of Chicago for several hours and being very hot we were looking forward to resting in a cool room before going to a show . Our room was 78 degrees, I called and maintenience did come to check. After determining that the unit needed a motor it was another hour so we did not get to rest in a cool room before going out. I feel an offer should have been made to us by the hotel. Also was very surprised that WiFi was not a free service !! We will not be staying at the Hilton on our next trip to Chicago.\\n\"\n",
      "###\n",
      "summary\n",
      "After being out seeing the sites of Chicago for several hours and being very hot we were looking forward to resting in a cool room before going to a show .\n",
      "After determining that the unit needed a motor it was another hour so we did not get to rest in a cool room before going out.\n",
      "###\n",
      "b'Going to the Internet Retailer 2010 at the last minute and this was the only hotel left available with shuttle services. First of all, from reading other reviews, now I know I got ripped @ $249 a night when Priceline folks are sniping these rooms for $79 (albiet, I got free wifi). The hotel is nice; but it can only get so nice for an oldie...no matter how much money you dump into it. Shower head was really low (I\\'m 6\\'1\"), water pressure was low. It is in a decent part of town with a hype bar close by (check out reviews on Yelp!) For some off reason I ended up with two double beds (they asked me a few times if I was traveling alone). If traveling here: 1 - make sure you get a better deal than I did 2 - confirm your exact needs with reservation over the phone and in person 3 - Don\\'t have super high hopes My room was neither up to par as a business class (although the 22nd floor is called the executive floor) nor was it a good fit for the romantic couple...it wasnt even spacious enough for those last minute get awayers (sp?) trying to save money.\\n'\n",
      "###\n",
      "summary\n",
      "If traveling here: 1 - make sure you get a better deal than I did 2 - confirm your exact needs with reservation over the phone and in person 3 - Don\\'t have super high hopes My room was neither up to par as a business class (although the 22nd floor is called the executive floor) nor was it a good fit for the romantic couple...it wasnt even spacious enough for those last minute get awayers (sp?) trying to save money.\\n'\n",
      "###\n",
      "b'I checked into this hotel, Rm 1760 on 11/13/2010. Next day, I woke up with bed bug bites, numerous, on my arm and back. We reported this to the management who assiged us to rm 1901 and promised to get the room inspected and \"taken care of\". I insisted that they get all my clothes laundered, which they did. Interestingly, no one from the management, other than the security guy who came when we first complained, even offered any apology for the inconvience. I missed couple of meetings that day. The next day, I called as I forgot something in the previous room, only to discover that the room was already assigned to the next guest. So much for reporting!\\n'\n",
      "###\n",
      "summary\n",
      "Next day, I woke up with bed bug bites, numerous, on my arm and back.\n",
      "We reported this to the management who assiged us to rm 1901 and promised to get the room inspected and \"taken care of\".\n",
      "I missed couple of meetings that day.\n",
      "So much for reporting!\\n'\n",
      "###\n",
      "b'I expected a glamorous room and I walked into a disappointment. Housekeeping and Management must not be concerned with attention to detail at this hotel. If you like staying somewhere that the air in the rooms doesn\\'t go down past 74, the closet is 24\" wide, all old/dirty brass fixtures, beds that are a little bigger than a twin, showerheads that barely put out water, then this is your hotel. I might be spoiled by staying in Marriott\\'s, but I stay in hotels 1/3 of the year and was severly disappionted. No free breakfasts or a room change will get me to stay here again.\\n'\n",
      "###\n",
      "summary\n",
      "If you like staying somewhere that the air in the rooms doesn\\'t go down past 74, the closet is 24\" wide, all old/dirty brass fixtures, beds that are a little bigger than a twin, showerheads that barely put out water, then this is your hotel.\n",
      "###\n",
      "b'I stayed at the Chicago Hilton because it was host to a conference I was attending. Before I arrived I tried to find out about the \"In Room Fitness\" program advertised on the corporate website. I called the 800 reservation number and the client service representative answered that the hotel did have a fitness center. I explained that I was inquiring about the \\'In Room Fitness\\' advertised on their website. She put me on hold and came back a few minutes later and told me that there was no such thing and that I should call the property directly. I did and got the same response. I asked if they could reserve a treadmill for my room. Again, this was a problem. When I arrived at the hotel, no treadmill was available. When I went to tour the fitness room the first night I found that they close at 9pm. When I returned to the center the next day I discovered that they charge $13 per day to use the fitness equipment. The pool, track and locker room are free, but to use the treadmills, etc. you have to pay $13 per day. This charge is not noted anywhere -- not on the website, not in any of the guest service materials in the room. The food for the conference was mediocre, but the one room service meal I had was pretty good. During one of the conference lunch sessions the wait staff made so much noise we couldn\\'t hear the speaker. The HVAC didn\\'t work well in my room and I kept the windows open for most of my three night stay. The beds were comfortable with very nice linens. I tried to get a late checkout, which was offered on a card in my room. The woman who answered the phone would only give me an hour, not the 11-2pm range advertised in my room. The best service I received was from the folks in the Security office. The hotel does not have safes in guest rooms, so I became very friendly with Security office as I locked up my laptop between conference sessions and every other time I couldn\\'t carry it out of the hotel. I visit Chicago at least once a year for personal travel and will continue to stay at the Marriott properties. Only wish I had done so for this visit.\\n'\n",
      "###\n",
      "summary\n",
      "Before I arrived I tried to find out about the \"In Room Fitness\" program advertised on the corporate website.\n",
      "I called the 800 reservation number and the client service representative answered that the hotel did have a fitness center.\n",
      "I visit Chicago at least once a year for personal travel and will continue to stay at the Marriott properties.\n",
      "###\n",
      "b\"I stayed there on October 6, 2012. When I pulled the covers of my bed, there was a small dark brown insect the size of a grain of rice, which was either a bed bug or cockroach. I trapped it under a glass (see the attached pictures) and called the front desk. The housecleaning person claimed it was a cockroach. Absolutely horrible service by the hotel management to respond to the problem, failing to follow through on promises they made to me. Setting aside the bug problem, I caution that the windows are quite thin. We could hear a lot of the street noise, which made for a hard night's sleep, not to mention worrying about insects even after changing rooms. For $400 a night after tax, I strongly encourage you to check for alternatives.\\n\"\n",
      "###\n",
      "summary\n",
      "When I pulled the covers of my bed, there was a small dark brown insect the size of a grain of rice, which was either a bed bug or cockroach.\n",
      "Setting aside the bug problem, I caution that the windows are quite thin.\n",
      "###\n",
      "b\"I stayed at the Hilton Chicago last week and was very disappointed. The highlight of the stay was waiting 20 minutes for a bellman to come and get our luggage. Finally, my 72 year old mother, 8 year old son, and myself gave up and dragged it all down to valet parking ourselves - no easy task. The security guard was kind enough to hold the door for me. The valet parking attendants looked over and then ignored us. As far as I could tell, he was just standing there doing nothing. I couldn't let go of the bags without everything falling so I gave my son the parking receipt. The attendant pointed to where our car was parked - no short distance away. My 8 year old had to tell him to pull it up. They should have been ashamed. Less significant, but irritating issues. The pool is part of the Hilton Athletic club. Two lanes are reserved for adults wanting to lap swim. Basically, two adults can take up 2/3rds of the pool while everyone else is consigned to the leftover 1/3rd. This is ridiculous and very family unfriendly. In addition, the pool closes at 9 p.m. What pool closes at 9? We stayed for 3 nights. Not one single additional bar of soap, bottle of shampoo, or coffee stirrers.\\n\"\n",
      "###\n",
      "summary\n",
      "b\"I stayed at the Hilton Chicago last week and was very disappointed.\n",
      "Finally, my 72 year old mother, 8 year old son, and myself gave up and dragged it all down to valet parking ourselves - no easy task.\n",
      "Basically, two adults can take up 2/3rds of the pool while everyone else is consigned to the leftover 1/3rd.\n",
      "###\n",
      "b\"I stayed at the Hilton Chicago because I was attending a conference at the hotel. The room was sufficient - had a coffee maker, bed, hangers, tv, etc. That's about where my compliments end: *restaurant rates are outrageous. $21 for a breakfast buffet? $25 to use the gym? $7.50/hr for WiFi!?!?! This is unacceptable when I'm paying $249 per night. Thank goodness the ice was free. *servers in the restaurant and bar were surly, not well-versed in English, and just rude. *computer monitors in rooms are silly and turn on at random times during the night *conference was incredibly cold...everybody was wearing their overcoats the entire time, despite our complaints to management. *fridge in room was not usable. had to store cold items in the ice bucket. *Cable channels just flat out SUCKED. I was soooo bored when I had to spend an hour in my room. If I'm paying that much, at least provide the full 70 channels.\\n\"\n",
      "###\n",
      "summary\n",
      "*computer monitors in rooms are silly and turn on at random times during the night *conference was incredibly cold...everybody was wearing their overcoats the entire time, despite our complaints to management.\n",
      "had to store cold items in the ice bucket.\n",
      "If I'm paying that much, at least provide the full 70 channels.\\n\"\n",
      "###\n"
     ]
    }
   ],
   "source": [
    "for text in real_reviews[:10]:\n",
    "    print(text)\n",
    "    print(\"###\")\n",
    "    print(\"summary\")\n",
    "    print (summarize(str(text), word_count=50))\n",
    "    print(\"###\")"
   ]
  },
  {
   "cell_type": "code",
   "execution_count": 15,
   "metadata": {},
   "outputs": [
    {
     "name": "stdout",
     "output_type": "stream",
     "text": [
      "Keywords:\n",
      "hotel\n",
      "great\n",
      "summary\n",
      "I filed a report with the hotel security and am anxious to hear back from them.\n",
      "This was such a disappointment, as we liked the hotel and were having a great time in Chicago.\n",
      "We had a great view of the lake and park.\n",
      "The hotel charged us $25 to check in early (10am).\\n'\n",
      "###\n",
      "Keywords:\n",
      "wireless\n",
      "better\n",
      "room\n",
      "things\n",
      "nearly\n",
      "minutes\n",
      "motel\n",
      "summary\n",
      "Wireless internet is available, but that's an additional fee.\n",
      "Are you kidding?\n",
      "Also, the fitness room was available for only $15 per day.\n",
      "I called the next morning requesting more and was told that wasn't housekeeping's area but they would send some up.\n",
      "Glad I wasn't in a big hurry.\n",
      "###\n",
      "Keywords:\n",
      "looking\n",
      "cool\n",
      "summary\n",
      "After being out seeing the sites of Chicago for several hours and being very hot we were looking forward to resting in a cool room before going to a show .\n",
      "After determining that the unit needed a motor it was another hour so we did not get to rest in a cool room before going out.\n",
      "###\n",
      "Keywords:\n",
      "bar\n",
      "high\n",
      "left\n",
      "free\n",
      "got\n",
      "exact needs\n",
      "summary\n",
      "If traveling here: 1 - make sure you get a better deal than I did 2 - confirm your exact needs with reservation over the phone and in person 3 - Don\\'t have super high hopes My room was neither up to par as a business class (although the 22nd floor is called the executive floor) nor was it a good fit for the romantic couple...it wasnt even spacious enough for those last minute get awayers (sp?) trying to save money.\\n'\n",
      "###\n",
      "Keywords:\n",
      "room\n",
      "bug\n",
      "bites\n",
      "summary\n",
      "Next day, I woke up with bed bug bites, numerous, on my arm and back.\n",
      "We reported this to the management who assiged us to rm 1901 and promised to get the room inspected and \"taken care of\".\n",
      "I missed couple of meetings that day.\n",
      "So much for reporting!\\n'\n",
      "###\n",
      "Keywords:\n",
      "room\n",
      "rooms\n",
      "fixtures\n",
      "brass\n",
      "summary\n",
      "If you like staying somewhere that the air in the rooms doesn\\'t go down past 74, the closet is 24\" wide, all old/dirty brass fixtures, beds that are a little bigger than a twin, showerheads that barely put out water, then this is your hotel.\n",
      "###\n",
      "Keywords:\n",
      "fitness\n",
      "service representative\n",
      "room\n",
      "rooms\n",
      "chicago\n",
      "property\n",
      "properties\n",
      "advertised\n",
      "minutes later\n",
      "summary\n",
      "Before I arrived I tried to find out about the \"In Room Fitness\" program advertised on the corporate website.\n",
      "I called the 800 reservation number and the client service representative answered that the hotel did have a fitness center.\n",
      "I visit Chicago at least once a year for personal travel and will continue to stay at the Marriott properties.\n",
      "###\n",
      "Keywords:\n",
      "person\n",
      "horrible\n",
      "dark brown\n",
      "problem\n",
      "bug\n",
      "summary\n",
      "When I pulled the covers of my bed, there was a small dark brown insect the size of a grain of rice, which was either a bed bug or cockroach.\n",
      "Setting aside the bug problem, I caution that the windows are quite thin.\n",
      "###\n",
      "Keywords:\n",
      "attendants\n",
      "attendant\n",
      "parking\n",
      "parked\n",
      "old\n",
      "addition\n",
      "additional\n",
      "distance\n",
      "swim\n",
      "hilton\n",
      "athletic\n",
      "summary\n",
      "b\"I stayed at the Hilton Chicago last week and was very disappointed.\n",
      "Finally, my 72 year old mother, 8 year old son, and myself gave up and dragged it all down to valet parking ourselves - no easy task.\n",
      "Basically, two adults can take up 2/3rds of the pool while everyone else is consigned to the leftover 1/3rd.\n",
      "###\n",
      "Keywords:\n",
      "cold\n",
      "times\n",
      "time\n",
      "night\n",
      "thank\n",
      "maker\n",
      "end\n",
      "restaurant\n",
      "summary\n",
      "*computer monitors in rooms are silly and turn on at random times during the night *conference was incredibly cold...everybody was wearing their overcoats the entire time, despite our complaints to management.\n",
      "had to store cold items in the ice bucket.\n",
      "If I'm paying that much, at least provide the full 70 channels.\\n\"\n",
      "###\n"
     ]
    }
   ],
   "source": [
    "from gensim.summarization import keywords\n",
    "\n",
    "for text in real_reviews[:10]:\n",
    "    print ('Keywords:')\n",
    "    print (keywords(text))    \n",
    "    print(\"summary\")\n",
    "    print (summarize(str(text), word_count=50))\n",
    "    print(\"###\")\n"
   ]
  },
  {
   "cell_type": "code",
   "execution_count": 11,
   "metadata": {},
   "outputs": [],
   "source": [
    "german_text = \"\"\"Hatte ein Arrangement über Weihnachten gebucht, zwei Übernachtungen, Frühstück, ein Cocktail, Stadtrundfahrt und Stadtführer für 148,00€. Sehr gutes Preis- Leistungsverhältnis ! Das Zimmer groß, sehr sauber, Bett bequem und gratis Mineralwasser. Schönes Schwimmbad, Fitnessraum und Saunen. Frühstück war gut und Extrawünsche wurden erfüllt.Alle Sehenswürdigkeiten sind in der näheren Umgebung, oder gut zu erreichen. Das Personal durchweg sehr freundlich, ich habe mich willkommen gefühlt und komme gerne Wieder.\"\"\""
   ]
  },
  {
   "cell_type": "code",
   "execution_count": 14,
   "metadata": {},
   "outputs": [
    {
     "name": "stdout",
     "output_type": "stream",
     "text": [
      "Hatte ein Arrangement über Weihnachten gebucht, zwei Übernachtungen, Frühstück, ein Cocktail, Stadtrundfahrt und Stadtführer für 148,00€.\n",
      "Das Zimmer groß, sehr sauber, Bett bequem und gratis Mineralwasser.\n"
     ]
    }
   ],
   "source": [
    "print(summarize(german_text, word_count=30))"
   ]
  },
  {
   "cell_type": "code",
   "execution_count": 17,
   "metadata": {},
   "outputs": [
    {
     "name": "stdout",
     "output_type": "stream",
     "text": [
      "und\n",
      "sehr\n",
      "das\n",
      "ein\n",
      "fruhstuck\n",
      "gut\n",
      "sehenswurdigkeiten\n",
      "naheren\n",
      "gerne\n"
     ]
    }
   ],
   "source": [
    "print(keywords(german_text))"
   ]
  },
  {
   "cell_type": "code",
   "execution_count": 19,
   "metadata": {},
   "outputs": [
    {
     "name": "stdout",
     "output_type": "stream",
     "text": [
      "Help on function summarize in module gensim.summarization.summarizer:\n",
      "\n",
      "summarize(text, ratio=0.2, word_count=None, split=False)\n",
      "    Get a summarized version of the given text.\n",
      "    \n",
      "    The output summary will consist of the most representative sentences\n",
      "    and will be returned as a string, divided by newlines.\n",
      "    \n",
      "    Note\n",
      "    ----\n",
      "    The input should be a string, and must be longer than :const:`~gensim.summarization.summarizer.INPUT_MIN_LENGTH`\n",
      "    sentences for the summary to make sense.\n",
      "    The text will be split into sentences using the split_sentences method in the :mod:`gensim.summarization.texcleaner`\n",
      "    module. Note that newlines divide sentences.\n",
      "    \n",
      "    \n",
      "    Parameters\n",
      "    ----------\n",
      "    text : str\n",
      "        Given text.\n",
      "    ratio : float, optional\n",
      "        Number between 0 and 1 that determines the proportion of the number of\n",
      "        sentences of the original text to be chosen for the summary.\n",
      "    word_count : int or None, optional\n",
      "        Determines how many words will the output contain.\n",
      "        If both parameters are provided, the ratio will be ignored.\n",
      "    split : bool, optional\n",
      "        If True, list of sentences will be returned. Otherwise joined\n",
      "        strings will bwe returned.\n",
      "    \n",
      "    Returns\n",
      "    -------\n",
      "    list of str\n",
      "        If `split` **OR**\n",
      "    str\n",
      "        Most representative sentences of given the text.\n",
      "\n"
     ]
    }
   ],
   "source": [
    "help(summarize)"
   ]
  },
  {
   "cell_type": "code",
   "execution_count": null,
   "metadata": {},
   "outputs": [],
   "source": []
  }
 ],
 "metadata": {
  "kernelspec": {
   "display_name": "Python 3",
   "language": "python",
   "name": "python3"
  },
  "language_info": {
   "codemirror_mode": {
    "name": "ipython",
    "version": 3
   },
   "file_extension": ".py",
   "mimetype": "text/x-python",
   "name": "python",
   "nbconvert_exporter": "python",
   "pygments_lexer": "ipython3",
   "version": "3.6.1"
  }
 },
 "nbformat": 4,
 "nbformat_minor": 2
}
